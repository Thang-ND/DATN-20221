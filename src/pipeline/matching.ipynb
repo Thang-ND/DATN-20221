{
 "cells": [
  {
   "cell_type": "code",
   "execution_count": 1,
   "metadata": {},
   "outputs": [
    {
     "name": "stdout",
     "output_type": "stream",
     "text": [
      "setup done!\n"
     ]
    }
   ],
   "source": [
    "import pandas as pd\n",
    "import os\n",
    "import glob\n",
    "import numpy as np\n",
    "import strsimpy\n",
    "print('setup done!')\n",
    "import hashlib\n",
    "from tqdm import tqdm\n",
    "\n",
    "\n",
    "def load_data(path):\n",
    "    #path = os.getcwd()\n",
    "    path = os.path.join(path, '*.csv')\n",
    "    print(path)\n",
    "    csv_files = glob.glob(path)\n",
    "    print(len(csv_files))\n",
    "    df = pd.read_csv(csv_files[0])\n",
    "    for i, file in enumerate(csv_files):\n",
    "        if i == 0:\n",
    "            continue\n",
    "        tmp = pd.read_csv(file)\n",
    "        df = pd.concat([df, tmp], axis=0)\n",
    "    return df\n"
   ]
  },
  {
   "cell_type": "code",
   "execution_count": 2,
   "metadata": {},
   "outputs": [],
   "source": [
    "levenshtein  = strsimpy.NormalizedLevenshtein()\n",
    "\n",
    "def levenshtein_score(x,y):\n",
    "    if (x=='unknown' or y =='unknown'):\n",
    "        return 1\n",
    "    return 1 - levenshtein.distance(x,y)\n",
    "\n",
    "def difference_score(x,y):\n",
    "    if (x=='unknown' or y =='unknown'):\n",
    "        return 1\n",
    "    return 1 if x==y else 0\n",
    "\n",
    "def clust_filter(arr):\n",
    "    flag = [False]*len(arr)\n",
    "    cluster = []\n",
    "    for i in tqdm(range(0,len(arr)-1)):\n",
    "        if flag[i]==False:\n",
    "            list_id = []\n",
    "            list_id.append(arr[i][10])\n",
    "            for j in range(i + 1, len(arr)):\n",
    "                if flag[j]==False:\n",
    "                    name = difference_score(arr[i][0],arr[j][0])\n",
    "                    ram = difference_score(arr[i][2],arr[j][2])\n",
    "                    rom = difference_score(arr[i][3],arr[j][3])\n",
    "                    color = levenshtein_score(arr[i][6],arr[j][6])\n",
    "                    status = difference_score(arr[i][7], arr[j][7])\n",
    "                    score = 0.5 * name + 0.05 * ram + 0.15 * rom + 0.2 * color + 0.1 * status\n",
    "                    if score >= 0.9:\n",
    "                        flag[j] = True\n",
    "                        list_id.append(arr[j][10])\n",
    "            list_id = list(set(list_id))\n",
    "            arr[i].append(list_id)\n",
    "            cluster.append(arr[i])\n",
    "            \n",
    "    return cluster\n",
    "def encrypt_string(hash_string):\n",
    "    sha_signature = hashlib.sha256(hash_string.encode()).digest()\n",
    "    return \"\".join([\"{:x}\".format(b) for b in sha_signature])"
   ]
  },
  {
   "cell_type": "code",
   "execution_count": 3,
   "metadata": {},
   "outputs": [
    {
     "name": "stdout",
     "output_type": "stream",
     "text": [
      "../data/production/*.csv\n",
      "10\n"
     ]
    }
   ],
   "source": [
    "path = '../data/production'\n",
    "df = load_data(path)"
   ]
  },
  {
   "cell_type": "code",
   "execution_count": 4,
   "metadata": {},
   "outputs": [],
   "source": [
    "df = df.drop(['Unnamed: 0'], axis=1)"
   ]
  },
  {
   "cell_type": "code",
   "execution_count": 5,
   "metadata": {},
   "outputs": [
    {
     "data": {
      "text/plain": [
       "2611"
      ]
     },
     "execution_count": 5,
     "metadata": {},
     "output_type": "execute_result"
    }
   ],
   "source": [
    "df.drop_duplicates(inplace=True)\n",
    "len(df)"
   ]
  },
  {
   "cell_type": "code",
   "execution_count": 6,
   "metadata": {},
   "outputs": [
    {
     "data": {
      "text/html": [
       "<div>\n",
       "<style scoped>\n",
       "    .dataframe tbody tr th:only-of-type {\n",
       "        vertical-align: middle;\n",
       "    }\n",
       "\n",
       "    .dataframe tbody tr th {\n",
       "        vertical-align: top;\n",
       "    }\n",
       "\n",
       "    .dataframe thead th {\n",
       "        text-align: right;\n",
       "    }\n",
       "</style>\n",
       "<table border=\"1\" class=\"dataframe\">\n",
       "  <thead>\n",
       "    <tr style=\"text-align: right;\">\n",
       "      <th></th>\n",
       "      <th>name</th>\n",
       "      <th>url</th>\n",
       "      <th>ram</th>\n",
       "      <th>rom</th>\n",
       "      <th>price</th>\n",
       "      <th>createdDate</th>\n",
       "      <th>color</th>\n",
       "      <th>status</th>\n",
       "      <th>url_img</th>\n",
       "      <th>store</th>\n",
       "    </tr>\n",
       "  </thead>\n",
       "  <tbody>\n",
       "    <tr>\n",
       "      <th>0</th>\n",
       "      <td>IPHONE 14 PRO MAX</td>\n",
       "      <td>https://24hstore.vn/iphone-14-pro-max-moi/ipho...</td>\n",
       "      <td>6</td>\n",
       "      <td>128.0</td>\n",
       "      <td>29790000</td>\n",
       "      <td>2023-01-10 20:58:07.383649</td>\n",
       "      <td>PURPLE</td>\n",
       "      <td>0</td>\n",
       "      <td>unknown</td>\n",
       "      <td>24hstore</td>\n",
       "    </tr>\n",
       "    <tr>\n",
       "      <th>1</th>\n",
       "      <td>IPHONE 14 PRO MAX</td>\n",
       "      <td>https://24hstore.vn/iphone-14-pro-max-moi/ipho...</td>\n",
       "      <td>6</td>\n",
       "      <td>256.0</td>\n",
       "      <td>33290000</td>\n",
       "      <td>2023-01-10 20:58:07.383649</td>\n",
       "      <td>PURPLE</td>\n",
       "      <td>0</td>\n",
       "      <td>unknown</td>\n",
       "      <td>24hstore</td>\n",
       "    </tr>\n",
       "    <tr>\n",
       "      <th>2</th>\n",
       "      <td>IPHONE 14 PRO MAX</td>\n",
       "      <td>https://24hstore.vn/iphone-14-pro-max-moi/ipho...</td>\n",
       "      <td>6</td>\n",
       "      <td>512.0</td>\n",
       "      <td>39490000</td>\n",
       "      <td>2023-01-10 20:58:07.383649</td>\n",
       "      <td>PURPLE</td>\n",
       "      <td>0</td>\n",
       "      <td>unknown</td>\n",
       "      <td>24hstore</td>\n",
       "    </tr>\n",
       "    <tr>\n",
       "      <th>3</th>\n",
       "      <td>IPHONE 14 PRO MAX</td>\n",
       "      <td>https://24hstore.vn/iphone-14-pro-max-moi/ipho...</td>\n",
       "      <td>6</td>\n",
       "      <td>1.0</td>\n",
       "      <td>44990000</td>\n",
       "      <td>2023-01-10 20:58:07.383649</td>\n",
       "      <td>PURPLE</td>\n",
       "      <td>0</td>\n",
       "      <td>unknown</td>\n",
       "      <td>24hstore</td>\n",
       "    </tr>\n",
       "    <tr>\n",
       "      <th>4</th>\n",
       "      <td>IPHONE 14 PRO MAX</td>\n",
       "      <td>https://24hstore.vn/iphone-14-pro-max-moi/ipho...</td>\n",
       "      <td>6</td>\n",
       "      <td>128.0</td>\n",
       "      <td>29790000</td>\n",
       "      <td>2023-01-10 20:58:07.383649</td>\n",
       "      <td>YELLOW</td>\n",
       "      <td>0</td>\n",
       "      <td>unknown</td>\n",
       "      <td>24hstore</td>\n",
       "    </tr>\n",
       "  </tbody>\n",
       "</table>\n",
       "</div>"
      ],
      "text/plain": [
       "                name                                                url ram  \\\n",
       "0  IPHONE 14 PRO MAX  https://24hstore.vn/iphone-14-pro-max-moi/ipho...   6   \n",
       "1  IPHONE 14 PRO MAX  https://24hstore.vn/iphone-14-pro-max-moi/ipho...   6   \n",
       "2  IPHONE 14 PRO MAX  https://24hstore.vn/iphone-14-pro-max-moi/ipho...   6   \n",
       "3  IPHONE 14 PRO MAX  https://24hstore.vn/iphone-14-pro-max-moi/ipho...   6   \n",
       "4  IPHONE 14 PRO MAX  https://24hstore.vn/iphone-14-pro-max-moi/ipho...   6   \n",
       "\n",
       "     rom     price                 createdDate   color status  url_img  \\\n",
       "0  128.0  29790000  2023-01-10 20:58:07.383649  PURPLE      0  unknown   \n",
       "1  256.0  33290000  2023-01-10 20:58:07.383649  PURPLE      0  unknown   \n",
       "2  512.0  39490000  2023-01-10 20:58:07.383649  PURPLE      0  unknown   \n",
       "3    1.0  44990000  2023-01-10 20:58:07.383649  PURPLE      0  unknown   \n",
       "4  128.0  29790000  2023-01-10 20:58:07.383649  YELLOW      0  unknown   \n",
       "\n",
       "      store  \n",
       "0  24hstore  \n",
       "1  24hstore  \n",
       "2  24hstore  \n",
       "3  24hstore  \n",
       "4  24hstore  "
      ]
     },
     "execution_count": 6,
     "metadata": {},
     "output_type": "execute_result"
    }
   ],
   "source": [
    "df.head()"
   ]
  },
  {
   "cell_type": "code",
   "execution_count": 7,
   "metadata": {},
   "outputs": [
    {
     "data": {
      "text/plain": [
       "Index(['name', 'url', 'ram', 'rom', 'price', 'createdDate', 'color', 'status',\n",
       "       'url_img', 'store'],\n",
       "      dtype='object')"
      ]
     },
     "execution_count": 7,
     "metadata": {},
     "output_type": "execute_result"
    }
   ],
   "source": [
    "df.columns"
   ]
  },
  {
   "cell_type": "code",
   "execution_count": 8,
   "metadata": {},
   "outputs": [],
   "source": [
    "df['id'] = df['name'].astype(str) + df['url'].astype(str) + df['rom'].astype(str) + df['color'] + \\\n",
    " df['status'].astype(str) + df['store'].astype(str)\n",
    "df['id'] = df['id'].apply(encrypt_string)"
   ]
  },
  {
   "cell_type": "code",
   "execution_count": 10,
   "metadata": {},
   "outputs": [],
   "source": [
    "pd.set_option('display.max_colwidth', None)"
   ]
  },
  {
   "cell_type": "code",
   "execution_count": 16,
   "metadata": {},
   "outputs": [],
   "source": [
    "df_tmp = df.drop_duplicates(subset=['id'])"
   ]
  },
  {
   "cell_type": "code",
   "execution_count": 18,
   "metadata": {},
   "outputs": [],
   "source": [
    "df_tmp.reset_index(drop=True, inplace=True)\n",
    "df_tmp.to_json('./products.json', 'records')"
   ]
  },
  {
   "cell_type": "code",
   "execution_count": 19,
   "metadata": {},
   "outputs": [
    {
     "data": {
      "text/plain": [
       "['IPHONE 14 PRO MAX',\n",
       " 'https://24hstore.vn/iphone-14-pro-max-moi/iphone-14-pro-max-1tb-p6626',\n",
       " 6,\n",
       " 128.0,\n",
       " 29790000,\n",
       " '2023-01-10 20:58:07.383649',\n",
       " 'PURPLE',\n",
       " 0,\n",
       " 'unknown',\n",
       " '24hstore',\n",
       " '7760cef25f6a9dbe92772fba4897cada8e20c489abaddd7d73f6664d23b892c']"
      ]
     },
     "execution_count": 19,
     "metadata": {},
     "output_type": "execute_result"
    }
   ],
   "source": [
    "arr = df.values.tolist()\n",
    "arr[0]"
   ]
  },
  {
   "cell_type": "code",
   "execution_count": 20,
   "metadata": {},
   "outputs": [
    {
     "name": "stderr",
     "output_type": "stream",
     "text": [
      "100%|██████████| 2610/2610 [00:12<00:00, 214.60it/s]\n"
     ]
    }
   ],
   "source": [
    "cluster = clust_filter(arr)"
   ]
  },
  {
   "cell_type": "code",
   "execution_count": 22,
   "metadata": {},
   "outputs": [
    {
     "data": {
      "text/plain": [
       "['IPHONE 14 PRO MAX',\n",
       " 'https://24hstore.vn/iphone-14-pro-max-moi/iphone-14-pro-max-1tb-p6626',\n",
       " 6,\n",
       " 128.0,\n",
       " 29790000,\n",
       " '2023-01-10 20:58:07.383649',\n",
       " 'PURPLE',\n",
       " 0,\n",
       " 'unknown',\n",
       " '24hstore',\n",
       " '7760cef25f6a9dbe92772fba4897cada8e20c489abaddd7d73f6664d23b892c',\n",
       " ['022a62cc2d9545454dc98e0828444422c806b689cc71ed449381d85049a',\n",
       "  '93778de7653ac05e8cbd91919466c8d1a352619a25aa14519c3b3c4efff74',\n",
       "  '7760cef25f6a9dbe92772fba4897cada8e20c489abaddd7d73f6664d23b892c',\n",
       "  'b531d9104337687680e259d0b62a425f457e0df70535688779b284cbe57e2a',\n",
       "  'fc456ea1881fc1c56203096aacdcc841f6236b8ca32652f9ecb9fa3ce3afa4',\n",
       "  '6f25f4c965543de890b2e8d2c073f54cb33c8fd97406e6e985441a06dd3a96a',\n",
       "  '31228e4c0f752a31e9faa9cfafa1b8ad73e5f85c9913881ffd0a21aec456d',\n",
       "  'c6fffebce06eaee367e3741ad1a8acb8b3b618c1dab2b5d4f25307c2fb2625',\n",
       "  '5bf3cac6b93a2ac8d714dccd3793d6bd484f7b65fe1bf9cf6692ae3965a507e',\n",
       "  '987246a8e5faba5c0eea2a501b5a2a657b3024563420e36b554dfff2d624a5',\n",
       "  '157df4a4253cef5dd5f722f29629677ddd77121de8ce58da6f3352ec1c3dee9',\n",
       "  'fb6a136ae525d28df10adfe5d9bb32c651b345af5da53dc596bfb1f55adf',\n",
       "  '73f61cd843eadd5824f7dff6746202cc283731ddba368c38c774382f110923']]"
      ]
     },
     "execution_count": 22,
     "metadata": {},
     "output_type": "execute_result"
    }
   ],
   "source": [
    "cluster[0]"
   ]
  },
  {
   "cell_type": "code",
   "execution_count": 26,
   "metadata": {},
   "outputs": [],
   "source": [
    "newDf = pd.DataFrame(cluster, columns=['name', 'url', 'ram', 'rom', 'price', 'createdDate', 'color', 'status', 'url_img','store', 'id_orgin', 'list_id'])"
   ]
  },
  {
   "cell_type": "code",
   "execution_count": 28,
   "metadata": {},
   "outputs": [],
   "source": [
    "newDf.to_json('./search.json', 'records')"
   ]
  }
 ],
 "metadata": {
  "kernelspec": {
   "display_name": "crawler",
   "language": "python",
   "name": "python3"
  },
  "language_info": {
   "codemirror_mode": {
    "name": "ipython",
    "version": 3
   },
   "file_extension": ".py",
   "mimetype": "text/x-python",
   "name": "python",
   "nbconvert_exporter": "python",
   "pygments_lexer": "ipython3",
   "version": "3.10.4 | packaged by conda-forge | (main, Mar 24 2022, 17:38:57) [GCC 10.3.0]"
  },
  "orig_nbformat": 4,
  "vscode": {
   "interpreter": {
    "hash": "308d8f8c5f56baa072876887063e484fb088d633444accbe0bc991378c9ebf3b"
   }
  }
 },
 "nbformat": 4,
 "nbformat_minor": 2
}
