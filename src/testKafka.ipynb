{
 "cells": [
  {
   "cell_type": "code",
   "execution_count": 25,
   "metadata": {},
   "outputs": [],
   "source": [
    "import pandas as pd\n",
    "import json\n",
    "import re \n",
    "from kafka import KafkaConsumer\n",
    "from kafka import KafkaProducer, TopicPartition\n",
    "# from kafka. import SimpleConsumer\n",
    "from kafka.errors import KafkaError\n",
    "import time"
   ]
  },
  {
   "cell_type": "code",
   "execution_count": 14,
   "metadata": {},
   "outputs": [],
   "source": [
    "def json_serializer(data1):\n",
    "    return json.dumps(data1).encode('utf-8')\n",
    "data = [{'name': '122132', 'age': 232}, {'name': '321323', 'age': 135}, {'name': '3421321', 'age': 233}]\n",
    "\n",
    "producer = KafkaProducer(\n",
    "    bootstrap_servers = ['127.0.0.1:9092'], # server name\n",
    "    value_serializer = json_serializer # function callable\n",
    "    )\n"
   ]
  },
  {
   "cell_type": "code",
   "execution_count": 15,
   "metadata": {},
   "outputs": [
    {
     "name": "stdout",
     "output_type": "stream",
     "text": [
      "{'name': '122132', 'age': 232}\n",
      "{'name': '321323', 'age': 135}\n",
      "{'name': '3421321', 'age': 233}\n"
     ]
    }
   ],
   "source": [
    "for mes in data:\n",
    "    producer.send('test', value=mes)\n",
    "    print(mes)"
   ]
  },
  {
   "cell_type": "code",
   "execution_count": 15,
   "metadata": {},
   "outputs": [],
   "source": [
    "consumer = KafkaConsumer('test', group_id='my-group1', \\\n",
    "    bootstrap_servers=['127.0.0.1:9092'])\n"
   ]
  },
  {
   "cell_type": "code",
   "execution_count": 55,
   "metadata": {},
   "outputs": [],
   "source": [
    "consumer = KafkaConsumer('test',bootstrap_servers=['127.0.0.1:9092'],\n",
    "auto_offset_reset='earliest',\n",
    "enable_auto_commit=True,\n",
    "group_id='test4',consumer_timeout_ms=10000)"
   ]
  },
  {
   "cell_type": "code",
   "execution_count": 40,
   "metadata": {},
   "outputs": [],
   "source": [
    "PARTITIONS = []\n",
    "for partition in consumer.partitions_for_topic('test'):\n",
    "    PARTITIONS.append(TopicPartition('test', partition))"
   ]
  },
  {
   "cell_type": "code",
   "execution_count": 56,
   "metadata": {},
   "outputs": [
    {
     "name": "stdout",
     "output_type": "stream",
     "text": [
      "18-b'This is a final test'\n"
     ]
    }
   ],
   "source": [
    "for message in consumer:\n",
    "    print(str(message.offset) + \"-\" + str(message.value))"
   ]
  },
  {
   "cell_type": "code",
   "execution_count": 41,
   "metadata": {},
   "outputs": [
    {
     "data": {
      "text/plain": [
       "[TopicPartition(topic='test', partition=0)]"
      ]
     },
     "execution_count": 41,
     "metadata": {},
     "output_type": "execute_result"
    }
   ],
   "source": [
    "PARTITIONS"
   ]
  },
  {
   "cell_type": "code",
   "execution_count": 28,
   "metadata": {},
   "outputs": [
    {
     "name": "stdout",
     "output_type": "stream",
     "text": [
      "{TopicPartition(topic='test', partition=0): 14}\n"
     ]
    }
   ],
   "source": [
    "end_offsets = consumer.end_offsets(PARTITIONS)\n",
    "print(end_offsets)"
   ]
  },
  {
   "cell_type": "code",
   "execution_count": 38,
   "metadata": {},
   "outputs": [
    {
     "data": {
      "text/plain": [
       "{TopicPartition(topic='test', partition=0): 0}"
      ]
     },
     "execution_count": 38,
     "metadata": {},
     "output_type": "execute_result"
    }
   ],
   "source": [
    "consumer.beginning_offsets([TopicPartition(topic='test', partition=0)])"
   ]
  }
 ],
 "metadata": {
  "kernelspec": {
   "display_name": "crawler",
   "language": "python",
   "name": "python3"
  },
  "language_info": {
   "codemirror_mode": {
    "name": "ipython",
    "version": 3
   },
   "file_extension": ".py",
   "mimetype": "text/x-python",
   "name": "python",
   "nbconvert_exporter": "python",
   "pygments_lexer": "ipython3",
   "version": "3.10.4 | packaged by conda-forge | (main, Mar 24 2022, 17:38:57) [GCC 10.3.0]"
  },
  "orig_nbformat": 4,
  "vscode": {
   "interpreter": {
    "hash": "308d8f8c5f56baa072876887063e484fb088d633444accbe0bc991378c9ebf3b"
   }
  }
 },
 "nbformat": 4,
 "nbformat_minor": 2
}
