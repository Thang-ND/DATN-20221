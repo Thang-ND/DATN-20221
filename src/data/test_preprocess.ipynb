{
 "cells": [
  {
   "cell_type": "code",
   "execution_count": 1,
   "metadata": {},
   "outputs": [],
   "source": [
    "import pandas as pd\n",
    "import json\n",
    "from datetime import datetime\n",
    "import pandas as pd\n",
    "import sys\n",
    "sys.path.insert(0, \"..\")\n",
    "from matching.matching_system import MatchingSystem\n",
    "from preprocess.preprocess_data import PreprocessData\n"
   ]
  },
  {
   "cell_type": "code",
   "execution_count": 2,
   "metadata": {},
   "outputs": [],
   "source": [
    "createdDate = datetime.now()\n",
    "matchingSystem = MatchingSystem()\n",
    "preprocess = PreprocessData()"
   ]
  },
  {
   "cell_type": "code",
   "execution_count": 8,
   "metadata": {},
   "outputs": [],
   "source": [
    "df_origin = pd.read_csv('./raw_data/thegioididong/test.csv')"
   ]
  },
  {
   "cell_type": "code",
   "execution_count": 9,
   "metadata": {},
   "outputs": [
    {
     "data": {
      "text/html": [
       "<div>\n",
       "<style scoped>\n",
       "    .dataframe tbody tr th:only-of-type {\n",
       "        vertical-align: middle;\n",
       "    }\n",
       "\n",
       "    .dataframe tbody tr th {\n",
       "        vertical-align: top;\n",
       "    }\n",
       "\n",
       "    .dataframe thead th {\n",
       "        text-align: right;\n",
       "    }\n",
       "</style>\n",
       "<table border=\"1\" class=\"dataframe\">\n",
       "  <thead>\n",
       "    <tr style=\"text-align: right;\">\n",
       "      <th></th>\n",
       "      <th>Unnamed: 0</th>\n",
       "      <th>name</th>\n",
       "      <th>price</th>\n",
       "      <th>color</th>\n",
       "      <th>url</th>\n",
       "      <th>data</th>\n",
       "    </tr>\n",
       "  </thead>\n",
       "  <tbody>\n",
       "    <tr>\n",
       "      <th>0</th>\n",
       "      <td>0</td>\n",
       "      <td>Máy tính bảng iPad Pro M1 11 inch WiFi Cellula...</td>\n",
       "      <td>41.990.000₫ *</td>\n",
       "      <td>Hồ Chí Minh</td>\n",
       "      <td>https://www.thegioididong.com/may-tinh-bang/ip...</td>\n",
       "      <td>NaN</td>\n",
       "    </tr>\n",
       "    <tr>\n",
       "      <th>1</th>\n",
       "      <td>1</td>\n",
       "      <td>Máy tính bảng iPad Pro M1 11 inch WiFi Cellula...</td>\n",
       "      <td>41.990.000₫ *</td>\n",
       "      <td>\\n</td>\n",
       "      <td>https://www.thegioididong.com/may-tinh-bang/ip...</td>\n",
       "      <td>NaN</td>\n",
       "    </tr>\n",
       "    <tr>\n",
       "      <th>2</th>\n",
       "      <td>2</td>\n",
       "      <td>Máy tính bảng iPad Pro M1 11 inch WiFi Cellula...</td>\n",
       "      <td>41.990.000₫ *</td>\n",
       "      <td>\\n        Xem siêu thị có hàng\\n</td>\n",
       "      <td>https://www.thegioididong.com/may-tinh-bang/ip...</td>\n",
       "      <td>NaN</td>\n",
       "    </tr>\n",
       "    <tr>\n",
       "      <th>3</th>\n",
       "      <td>3</td>\n",
       "      <td>Điện thoại iPhone 13 128GB</td>\n",
       "      <td>19.990.000₫ *</td>\n",
       "      <td>Hồ Chí Minh</td>\n",
       "      <td>https://www.thegioididong.com/dtdd/iphone-13</td>\n",
       "      <td>NaN</td>\n",
       "    </tr>\n",
       "    <tr>\n",
       "      <th>4</th>\n",
       "      <td>4</td>\n",
       "      <td>Điện thoại iPhone 13 128GB</td>\n",
       "      <td>19.990.000₫ *</td>\n",
       "      <td>\\n</td>\n",
       "      <td>https://www.thegioididong.com/dtdd/iphone-13</td>\n",
       "      <td>NaN</td>\n",
       "    </tr>\n",
       "  </tbody>\n",
       "</table>\n",
       "</div>"
      ],
      "text/plain": [
       "   Unnamed: 0                                               name  \\\n",
       "0           0  Máy tính bảng iPad Pro M1 11 inch WiFi Cellula...   \n",
       "1           1  Máy tính bảng iPad Pro M1 11 inch WiFi Cellula...   \n",
       "2           2  Máy tính bảng iPad Pro M1 11 inch WiFi Cellula...   \n",
       "3           3                         Điện thoại iPhone 13 128GB   \n",
       "4           4                         Điện thoại iPhone 13 128GB   \n",
       "\n",
       "           price                                 color  \\\n",
       "0  41.990.000₫ *                           Hồ Chí Minh   \n",
       "1  41.990.000₫ *                            \\n           \n",
       "2  41.990.000₫ *  \\n        Xem siêu thị có hàng\\n       \n",
       "3  19.990.000₫ *                           Hồ Chí Minh   \n",
       "4  19.990.000₫ *                            \\n           \n",
       "\n",
       "                                                 url data  \n",
       "0  https://www.thegioididong.com/may-tinh-bang/ip...  NaN  \n",
       "1  https://www.thegioididong.com/may-tinh-bang/ip...  NaN  \n",
       "2  https://www.thegioididong.com/may-tinh-bang/ip...  NaN  \n",
       "3       https://www.thegioididong.com/dtdd/iphone-13  NaN  \n",
       "4       https://www.thegioididong.com/dtdd/iphone-13  NaN  "
      ]
     },
     "execution_count": 9,
     "metadata": {},
     "output_type": "execute_result"
    }
   ],
   "source": [
    "df_origin.head()"
   ]
  },
  {
   "cell_type": "code",
   "execution_count": 10,
   "metadata": {},
   "outputs": [
    {
     "name": "stdout",
     "output_type": "stream",
     "text": [
      "name                \tname                \t1.0\n",
      "price               \tprice               \t1.0\n",
      "color               \tcolor               \t1.0\n",
      "url                 \turl                 \t1.0\n"
     ]
    }
   ],
   "source": [
    "data = matchingSystem.pipelineMatching(df_origin)"
   ]
  },
  {
   "cell_type": "code",
   "execution_count": null,
   "metadata": {},
   "outputs": [],
   "source": [
    "data[data.duplicated()]"
   ]
  },
  {
   "cell_type": "code",
   "execution_count": null,
   "metadata": {},
   "outputs": [],
   "source": [
    "data[data['url']=='https://cellphones.com.vn/iphone-14-plus.html']"
   ]
  },
  {
   "cell_type": "code",
   "execution_count": 11,
   "metadata": {},
   "outputs": [
    {
     "name": "stdout",
     "output_type": "stream",
     "text": [
      "expected string or bytes-like object\n"
     ]
    }
   ],
   "source": [
    "newDf = preprocess.extractRomFromName(data)\n",
    "newDf = preprocess.extractRamFromName(newDf)\n",
    "\n",
    "newDf = preprocess.preprocessData(newDf, status=0)\n",
    "newDf = preprocess.preprocessColor(newDf)"
   ]
  },
  {
   "cell_type": "code",
   "execution_count": 13,
   "metadata": {},
   "outputs": [],
   "source": [
    "newDf['store'] = 'thegioididong'"
   ]
  },
  {
   "cell_type": "code",
   "execution_count": 14,
   "metadata": {},
   "outputs": [
    {
     "data": {
      "text/html": [
       "<div>\n",
       "<style scoped>\n",
       "    .dataframe tbody tr th:only-of-type {\n",
       "        vertical-align: middle;\n",
       "    }\n",
       "\n",
       "    .dataframe tbody tr th {\n",
       "        vertical-align: top;\n",
       "    }\n",
       "\n",
       "    .dataframe thead th {\n",
       "        text-align: right;\n",
       "    }\n",
       "</style>\n",
       "<table border=\"1\" class=\"dataframe\">\n",
       "  <thead>\n",
       "    <tr style=\"text-align: right;\">\n",
       "      <th></th>\n",
       "      <th>name</th>\n",
       "      <th>url</th>\n",
       "      <th>ram</th>\n",
       "      <th>rom</th>\n",
       "      <th>price</th>\n",
       "      <th>createdDate</th>\n",
       "      <th>color</th>\n",
       "      <th>status</th>\n",
       "      <th>url_img</th>\n",
       "      <th>store</th>\n",
       "    </tr>\n",
       "  </thead>\n",
       "  <tbody>\n",
       "    <tr>\n",
       "      <th>0</th>\n",
       "      <td>IPAD PRO M1 11 INCH</td>\n",
       "      <td>https://www.thegioididong.com/may-tinh-bang/ip...</td>\n",
       "      <td>unknown</td>\n",
       "      <td>1024</td>\n",
       "      <td>41.990.000₫ *</td>\n",
       "      <td>2023-01-11 21:35:00.388030</td>\n",
       "      <td>Hồ Chí Minh</td>\n",
       "      <td>0</td>\n",
       "      <td>unknown</td>\n",
       "      <td>thegioididong</td>\n",
       "    </tr>\n",
       "    <tr>\n",
       "      <th>1</th>\n",
       "      <td>IPAD PRO M1 11 INCH</td>\n",
       "      <td>https://www.thegioididong.com/may-tinh-bang/ip...</td>\n",
       "      <td>unknown</td>\n",
       "      <td>1024</td>\n",
       "      <td>41.990.000₫ *</td>\n",
       "      <td>2023-01-11 21:35:00.388030</td>\n",
       "      <td>\\n</td>\n",
       "      <td>0</td>\n",
       "      <td>unknown</td>\n",
       "      <td>thegioididong</td>\n",
       "    </tr>\n",
       "    <tr>\n",
       "      <th>2</th>\n",
       "      <td>IPAD PRO M1 11 INCH</td>\n",
       "      <td>https://www.thegioididong.com/may-tinh-bang/ip...</td>\n",
       "      <td>unknown</td>\n",
       "      <td>1024</td>\n",
       "      <td>41.990.000₫ *</td>\n",
       "      <td>2023-01-11 21:35:00.388030</td>\n",
       "      <td>\\n        Xem siêu thị có hàng\\n</td>\n",
       "      <td>0</td>\n",
       "      <td>unknown</td>\n",
       "      <td>thegioididong</td>\n",
       "    </tr>\n",
       "    <tr>\n",
       "      <th>3</th>\n",
       "      <td>IPHONE 13</td>\n",
       "      <td>https://www.thegioididong.com/dtdd/iphone-13</td>\n",
       "      <td>4</td>\n",
       "      <td>128</td>\n",
       "      <td>19.990.000₫ *</td>\n",
       "      <td>2023-01-11 21:35:00.388030</td>\n",
       "      <td>Hồ Chí Minh</td>\n",
       "      <td>0</td>\n",
       "      <td>unknown</td>\n",
       "      <td>thegioididong</td>\n",
       "    </tr>\n",
       "    <tr>\n",
       "      <th>4</th>\n",
       "      <td>IPHONE 13</td>\n",
       "      <td>https://www.thegioididong.com/dtdd/iphone-13</td>\n",
       "      <td>4</td>\n",
       "      <td>128</td>\n",
       "      <td>19.990.000₫ *</td>\n",
       "      <td>2023-01-11 21:35:00.388030</td>\n",
       "      <td>\\n</td>\n",
       "      <td>0</td>\n",
       "      <td>unknown</td>\n",
       "      <td>thegioididong</td>\n",
       "    </tr>\n",
       "  </tbody>\n",
       "</table>\n",
       "</div>"
      ],
      "text/plain": [
       "                  name                                                url  \\\n",
       "0  IPAD PRO M1 11 INCH  https://www.thegioididong.com/may-tinh-bang/ip...   \n",
       "1  IPAD PRO M1 11 INCH  https://www.thegioididong.com/may-tinh-bang/ip...   \n",
       "2  IPAD PRO M1 11 INCH  https://www.thegioididong.com/may-tinh-bang/ip...   \n",
       "3            IPHONE 13       https://www.thegioididong.com/dtdd/iphone-13   \n",
       "4            IPHONE 13       https://www.thegioididong.com/dtdd/iphone-13   \n",
       "\n",
       "       ram   rom          price                createdDate  \\\n",
       "0  unknown  1024  41.990.000₫ * 2023-01-11 21:35:00.388030   \n",
       "1  unknown  1024  41.990.000₫ * 2023-01-11 21:35:00.388030   \n",
       "2  unknown  1024  41.990.000₫ * 2023-01-11 21:35:00.388030   \n",
       "3        4   128  19.990.000₫ * 2023-01-11 21:35:00.388030   \n",
       "4        4   128  19.990.000₫ * 2023-01-11 21:35:00.388030   \n",
       "\n",
       "                                  color  status  url_img          store  \n",
       "0                           Hồ Chí Minh       0  unknown  thegioididong  \n",
       "1                            \\n               0  unknown  thegioididong  \n",
       "2  \\n        Xem siêu thị có hàng\\n           0  unknown  thegioididong  \n",
       "3                           Hồ Chí Minh       0  unknown  thegioididong  \n",
       "4                            \\n               0  unknown  thegioididong  "
      ]
     },
     "execution_count": 14,
     "metadata": {},
     "output_type": "execute_result"
    }
   ],
   "source": [
    "newDf.head()"
   ]
  },
  {
   "cell_type": "code",
   "execution_count": 15,
   "metadata": {},
   "outputs": [
    {
     "data": {
      "text/plain": [
       "161"
      ]
     },
     "execution_count": 15,
     "metadata": {},
     "output_type": "execute_result"
    }
   ],
   "source": [
    "len(newDf)"
   ]
  }
 ],
 "metadata": {
  "kernelspec": {
   "display_name": "crawler",
   "language": "python",
   "name": "python3"
  },
  "language_info": {
   "codemirror_mode": {
    "name": "ipython",
    "version": 3
   },
   "file_extension": ".py",
   "mimetype": "text/x-python",
   "name": "python",
   "nbconvert_exporter": "python",
   "pygments_lexer": "ipython3",
   "version": "3.10.4 | packaged by conda-forge | (main, Mar 24 2022, 17:38:57) [GCC 10.3.0]"
  },
  "orig_nbformat": 4,
  "vscode": {
   "interpreter": {
    "hash": "308d8f8c5f56baa072876887063e484fb088d633444accbe0bc991378c9ebf3b"
   }
  }
 },
 "nbformat": 4,
 "nbformat_minor": 2
}
