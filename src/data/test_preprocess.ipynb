{
 "cells": [
  {
   "cell_type": "code",
   "execution_count": 3,
   "metadata": {},
   "outputs": [],
   "source": [
    "import pandas as pd\n",
    "import json\n",
    "from datetime import datetime\n",
    "import pandas as pd\n",
    "import sys\n",
    "sys.path.insert(0, \"..\")\n",
    "from matching.matching_system import MatchingSystem\n",
    "from preprocess.preprocess_data import PreprocessData\n"
   ]
  },
  {
   "cell_type": "code",
   "execution_count": 4,
   "metadata": {},
   "outputs": [],
   "source": [
    "createdDate = datetime.now()\n",
    "matchingSystem = MatchingSystem()\n",
    "preprocess = PreprocessData()"
   ]
  },
  {
   "cell_type": "code",
   "execution_count": 5,
   "metadata": {},
   "outputs": [],
   "source": [
    "df_origin = pd.read_json('./raw_data/24hstore/24hstore20230102.json')"
   ]
  },
  {
   "cell_type": "code",
   "execution_count": 6,
   "metadata": {},
   "outputs": [
    {
     "data": {
      "text/html": [
       "<div>\n",
       "<style scoped>\n",
       "    .dataframe tbody tr th:only-of-type {\n",
       "        vertical-align: middle;\n",
       "    }\n",
       "\n",
       "    .dataframe tbody tr th {\n",
       "        vertical-align: top;\n",
       "    }\n",
       "\n",
       "    .dataframe thead th {\n",
       "        text-align: right;\n",
       "    }\n",
       "</style>\n",
       "<table border=\"1\" class=\"dataframe\">\n",
       "  <thead>\n",
       "    <tr style=\"text-align: right;\">\n",
       "      <th></th>\n",
       "      <th>name</th>\n",
       "      <th>rom</th>\n",
       "      <th>ram</th>\n",
       "      <th>link</th>\n",
       "      <th>price</th>\n",
       "      <th>color</th>\n",
       "    </tr>\n",
       "  </thead>\n",
       "  <tbody>\n",
       "    <tr>\n",
       "      <th>0</th>\n",
       "      <td>iPhone 14 Pro Max 1TB | Chính hãng VN/A</td>\n",
       "      <td>128GB</td>\n",
       "      <td>unknown</td>\n",
       "      <td>https://24hstore.vn/iphone-14-pro-max-moi/ipho...</td>\n",
       "      <td>29.890.000đ</td>\n",
       "      <td>Tím</td>\n",
       "    </tr>\n",
       "    <tr>\n",
       "      <th>1</th>\n",
       "      <td>iPhone 14 Pro Max 1TB | Chính hãng VN/A</td>\n",
       "      <td>256GB</td>\n",
       "      <td>unknown</td>\n",
       "      <td>https://24hstore.vn/iphone-14-pro-max-moi/ipho...</td>\n",
       "      <td>33.790.000đ</td>\n",
       "      <td>Tím</td>\n",
       "    </tr>\n",
       "    <tr>\n",
       "      <th>2</th>\n",
       "      <td>iPhone 14 Pro Max 1TB | Chính hãng VN/A</td>\n",
       "      <td>512GB</td>\n",
       "      <td>unknown</td>\n",
       "      <td>https://24hstore.vn/iphone-14-pro-max-moi/ipho...</td>\n",
       "      <td>39.490.000đ</td>\n",
       "      <td>Tím</td>\n",
       "    </tr>\n",
       "    <tr>\n",
       "      <th>3</th>\n",
       "      <td>iPhone 14 Pro Max 1TB | Chính hãng VN/A</td>\n",
       "      <td>1TB</td>\n",
       "      <td>unknown</td>\n",
       "      <td>https://24hstore.vn/iphone-14-pro-max-moi/ipho...</td>\n",
       "      <td>44.990.000đ</td>\n",
       "      <td>Tím</td>\n",
       "    </tr>\n",
       "    <tr>\n",
       "      <th>4</th>\n",
       "      <td>iPhone 14 Pro Max 1TB | Chính hãng VN/A</td>\n",
       "      <td>128GB</td>\n",
       "      <td>unknown</td>\n",
       "      <td>https://24hstore.vn/iphone-14-pro-max-moi/ipho...</td>\n",
       "      <td>29.890.000đ</td>\n",
       "      <td>Vàng Đồng</td>\n",
       "    </tr>\n",
       "  </tbody>\n",
       "</table>\n",
       "</div>"
      ],
      "text/plain": [
       "                                      name    rom      ram  \\\n",
       "0  iPhone 14 Pro Max 1TB | Chính hãng VN/A  128GB  unknown   \n",
       "1  iPhone 14 Pro Max 1TB | Chính hãng VN/A  256GB  unknown   \n",
       "2  iPhone 14 Pro Max 1TB | Chính hãng VN/A  512GB  unknown   \n",
       "3  iPhone 14 Pro Max 1TB | Chính hãng VN/A    1TB  unknown   \n",
       "4  iPhone 14 Pro Max 1TB | Chính hãng VN/A  128GB  unknown   \n",
       "\n",
       "                                                link        price      color  \n",
       "0  https://24hstore.vn/iphone-14-pro-max-moi/ipho...  29.890.000đ        Tím  \n",
       "1  https://24hstore.vn/iphone-14-pro-max-moi/ipho...  33.790.000đ        Tím  \n",
       "2  https://24hstore.vn/iphone-14-pro-max-moi/ipho...  39.490.000đ        Tím  \n",
       "3  https://24hstore.vn/iphone-14-pro-max-moi/ipho...  44.990.000đ        Tím  \n",
       "4  https://24hstore.vn/iphone-14-pro-max-moi/ipho...  29.890.000đ  Vàng Đồng  "
      ]
     },
     "execution_count": 6,
     "metadata": {},
     "output_type": "execute_result"
    }
   ],
   "source": [
    "df_origin.head()"
   ]
  },
  {
   "cell_type": "code",
   "execution_count": 7,
   "metadata": {},
   "outputs": [
    {
     "name": "stdout",
     "output_type": "stream",
     "text": [
      "name                \tname                \t1.0\n",
      "rom                 \trom                 \t1.0\n",
      "ram                 \tram                 \t1.0\n",
      "ram                 \tram                 \t1.0\n",
      "ram                 \tram                 \t1.0\n",
      "link                \tlink                \t1.0\n",
      "price               \tprice               \t1.0\n",
      "color               \tcolor               \t1.0\n"
     ]
    }
   ],
   "source": [
    "data = matchingSystem.pipelineMatching(df_origin)"
   ]
  },
  {
   "cell_type": "code",
   "execution_count": 8,
   "metadata": {},
   "outputs": [],
   "source": [
    "newDf = preprocess.extractRamFromName(data)\n",
    "# newDf = preprocess.extractRomFromName(newDf)\n",
    "newDf = preprocess.preprocessData(newDf, status=0)\n",
    "newDf = preprocess.preprocessColor(newDf)"
   ]
  },
  {
   "cell_type": "code",
   "execution_count": 9,
   "metadata": {},
   "outputs": [],
   "source": [
    "newDf['store'] = '24hstore'"
   ]
  },
  {
   "cell_type": "code",
   "execution_count": 10,
   "metadata": {},
   "outputs": [
    {
     "data": {
      "text/html": [
       "<div>\n",
       "<style scoped>\n",
       "    .dataframe tbody tr th:only-of-type {\n",
       "        vertical-align: middle;\n",
       "    }\n",
       "\n",
       "    .dataframe tbody tr th {\n",
       "        vertical-align: top;\n",
       "    }\n",
       "\n",
       "    .dataframe thead th {\n",
       "        text-align: right;\n",
       "    }\n",
       "</style>\n",
       "<table border=\"1\" class=\"dataframe\">\n",
       "  <thead>\n",
       "    <tr style=\"text-align: right;\">\n",
       "      <th></th>\n",
       "      <th>name</th>\n",
       "      <th>url</th>\n",
       "      <th>ram</th>\n",
       "      <th>rom</th>\n",
       "      <th>price</th>\n",
       "      <th>createdDate</th>\n",
       "      <th>color</th>\n",
       "      <th>status</th>\n",
       "      <th>url_img</th>\n",
       "      <th>store</th>\n",
       "    </tr>\n",
       "  </thead>\n",
       "  <tbody>\n",
       "    <tr>\n",
       "      <th>0</th>\n",
       "      <td>IPHONE 14 PRO MAX</td>\n",
       "      <td>https://24hstore.vn/iphone-14-pro-max-moi/ipho...</td>\n",
       "      <td>6</td>\n",
       "      <td>128</td>\n",
       "      <td>29890000</td>\n",
       "      <td>2023-01-05 22:05:13.370920</td>\n",
       "      <td>PURPLE</td>\n",
       "      <td>0</td>\n",
       "      <td>unknown</td>\n",
       "      <td>24hstore</td>\n",
       "    </tr>\n",
       "    <tr>\n",
       "      <th>1</th>\n",
       "      <td>IPHONE 14 PRO MAX</td>\n",
       "      <td>https://24hstore.vn/iphone-14-pro-max-moi/ipho...</td>\n",
       "      <td>6</td>\n",
       "      <td>256</td>\n",
       "      <td>33790000</td>\n",
       "      <td>2023-01-05 22:05:13.370920</td>\n",
       "      <td>PURPLE</td>\n",
       "      <td>0</td>\n",
       "      <td>unknown</td>\n",
       "      <td>24hstore</td>\n",
       "    </tr>\n",
       "    <tr>\n",
       "      <th>2</th>\n",
       "      <td>IPHONE 14 PRO MAX</td>\n",
       "      <td>https://24hstore.vn/iphone-14-pro-max-moi/ipho...</td>\n",
       "      <td>6</td>\n",
       "      <td>512</td>\n",
       "      <td>39490000</td>\n",
       "      <td>2023-01-05 22:05:13.370920</td>\n",
       "      <td>PURPLE</td>\n",
       "      <td>0</td>\n",
       "      <td>unknown</td>\n",
       "      <td>24hstore</td>\n",
       "    </tr>\n",
       "    <tr>\n",
       "      <th>3</th>\n",
       "      <td>IPHONE 14 PRO MAX</td>\n",
       "      <td>https://24hstore.vn/iphone-14-pro-max-moi/ipho...</td>\n",
       "      <td>6</td>\n",
       "      <td>1</td>\n",
       "      <td>44990000</td>\n",
       "      <td>2023-01-05 22:05:13.370920</td>\n",
       "      <td>PURPLE</td>\n",
       "      <td>0</td>\n",
       "      <td>unknown</td>\n",
       "      <td>24hstore</td>\n",
       "    </tr>\n",
       "    <tr>\n",
       "      <th>4</th>\n",
       "      <td>IPHONE 14 PRO MAX</td>\n",
       "      <td>https://24hstore.vn/iphone-14-pro-max-moi/ipho...</td>\n",
       "      <td>6</td>\n",
       "      <td>128</td>\n",
       "      <td>29890000</td>\n",
       "      <td>2023-01-05 22:05:13.370920</td>\n",
       "      <td>YELLOW</td>\n",
       "      <td>0</td>\n",
       "      <td>unknown</td>\n",
       "      <td>24hstore</td>\n",
       "    </tr>\n",
       "  </tbody>\n",
       "</table>\n",
       "</div>"
      ],
      "text/plain": [
       "                name                                                url  ram  \\\n",
       "0  IPHONE 14 PRO MAX  https://24hstore.vn/iphone-14-pro-max-moi/ipho...    6   \n",
       "1  IPHONE 14 PRO MAX  https://24hstore.vn/iphone-14-pro-max-moi/ipho...    6   \n",
       "2  IPHONE 14 PRO MAX  https://24hstore.vn/iphone-14-pro-max-moi/ipho...    6   \n",
       "3  IPHONE 14 PRO MAX  https://24hstore.vn/iphone-14-pro-max-moi/ipho...    6   \n",
       "4  IPHONE 14 PRO MAX  https://24hstore.vn/iphone-14-pro-max-moi/ipho...    6   \n",
       "\n",
       "   rom     price                createdDate   color  status  url_img     store  \n",
       "0  128  29890000 2023-01-05 22:05:13.370920  PURPLE       0  unknown  24hstore  \n",
       "1  256  33790000 2023-01-05 22:05:13.370920  PURPLE       0  unknown  24hstore  \n",
       "2  512  39490000 2023-01-05 22:05:13.370920  PURPLE       0  unknown  24hstore  \n",
       "3    1  44990000 2023-01-05 22:05:13.370920  PURPLE       0  unknown  24hstore  \n",
       "4  128  29890000 2023-01-05 22:05:13.370920  YELLOW       0  unknown  24hstore  "
      ]
     },
     "execution_count": 10,
     "metadata": {},
     "output_type": "execute_result"
    }
   ],
   "source": [
    "newDf.head()"
   ]
  },
  {
   "cell_type": "code",
   "execution_count": null,
   "metadata": {},
   "outputs": [],
   "source": [
    "#newDf.to_csv('../../datamatching/data/24hstore-iphone.csv')"
   ]
  }
 ],
 "metadata": {
  "kernelspec": {
   "display_name": "crawler",
   "language": "python",
   "name": "python3"
  },
  "language_info": {
   "codemirror_mode": {
    "name": "ipython",
    "version": 3
   },
   "file_extension": ".py",
   "mimetype": "text/x-python",
   "name": "python",
   "nbconvert_exporter": "python",
   "pygments_lexer": "ipython3",
   "version": "3.10.4 | packaged by conda-forge | (main, Mar 24 2022, 17:38:57) [GCC 10.3.0]"
  },
  "orig_nbformat": 4,
  "vscode": {
   "interpreter": {
    "hash": "308d8f8c5f56baa072876887063e484fb088d633444accbe0bc991378c9ebf3b"
   }
  }
 },
 "nbformat": 4,
 "nbformat_minor": 2
}
