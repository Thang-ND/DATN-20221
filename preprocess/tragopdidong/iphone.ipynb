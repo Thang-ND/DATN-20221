{
 "cells": [
  {
   "cell_type": "code",
   "execution_count": 1,
   "metadata": {},
   "outputs": [],
   "source": [
    "import pandas as pd\n",
    "import json\n",
    "from datetime import datetime\n",
    "import pandas as pd\n",
    "import sys\n",
    "sys.path.insert(0, \"..\")\n",
    "from mypackage.MatchingSystem import MatchingSystem\n",
    "from mypackage.PreprocessData import PreprocessData"
   ]
  },
  {
   "cell_type": "code",
   "execution_count": 2,
   "metadata": {},
   "outputs": [],
   "source": [
    "createdDate = datetime.now()\n",
    "matchingSystem = MatchingSystem()\n",
    "preprocess = PreprocessData()"
   ]
  },
  {
   "cell_type": "code",
   "execution_count": 3,
   "metadata": {},
   "outputs": [],
   "source": [
    "df_origin = pd.read_json('./iphone.json')"
   ]
  },
  {
   "cell_type": "code",
   "execution_count": 4,
   "metadata": {},
   "outputs": [
    {
     "data": {
      "text/html": [
       "<div>\n",
       "<style scoped>\n",
       "    .dataframe tbody tr th:only-of-type {\n",
       "        vertical-align: middle;\n",
       "    }\n",
       "\n",
       "    .dataframe tbody tr th {\n",
       "        vertical-align: top;\n",
       "    }\n",
       "\n",
       "    .dataframe thead th {\n",
       "        text-align: right;\n",
       "    }\n",
       "</style>\n",
       "<table border=\"1\" class=\"dataframe\">\n",
       "  <thead>\n",
       "    <tr style=\"text-align: right;\">\n",
       "      <th></th>\n",
       "      <th>name</th>\n",
       "      <th>price</th>\n",
       "      <th>url_img</th>\n",
       "      <th>link</th>\n",
       "      <th>data</th>\n",
       "    </tr>\n",
       "  </thead>\n",
       "  <tbody>\n",
       "    <tr>\n",
       "      <th>0</th>\n",
       "      <td>IPHONE 11 - 128G QUỐC TẾ - MỚI 100%</td>\n",
       "      <td>\\r\\n                                        13...</td>\n",
       "      <td>[http://tragopdidong.vn/img/h360/moi-99-22.jpg...</td>\n",
       "      <td>http://tragopdidong.vn/iphone-11-128g-quoc-te-...</td>\n",
       "      <td>[&lt;div id=\"myTabContent\" class=\"tab-content\"&gt;\\r...</td>\n",
       "    </tr>\n",
       "    <tr>\n",
       "      <th>1</th>\n",
       "      <td>iPhone 8 Plus - 64G Quốc Tế Mới 95% -&gt; 99%</td>\n",
       "      <td>\\r\\n                                        3,...</td>\n",
       "      <td>[]</td>\n",
       "      <td>http://tragopdidong.vn/iphone-8-plus-64g-quoc-...</td>\n",
       "      <td>[&lt;div id=\"myTabContent\" class=\"tab-content\"&gt;\\r...</td>\n",
       "    </tr>\n",
       "    <tr>\n",
       "      <th>2</th>\n",
       "      <td>iPhone 8 Plus - 64G Quốc Tế Mới 100%</td>\n",
       "      <td>\\r\\n                                        9,...</td>\n",
       "      <td>[]</td>\n",
       "      <td>http://tragopdidong.vn/iphone-8-plus-64g-quoc-...</td>\n",
       "      <td>[&lt;div id=\"myTabContent\" class=\"tab-content\"&gt;\\r...</td>\n",
       "    </tr>\n",
       "    <tr>\n",
       "      <th>3</th>\n",
       "      <td>iPhone X - 256G Quốc Tế - Mới 100%</td>\n",
       "      <td>\\r\\n                                        11...</td>\n",
       "      <td>[]</td>\n",
       "      <td>http://tragopdidong.vn/iphone-x-256g-quoc-te-m...</td>\n",
       "      <td>[&lt;div id=\"myTabContent\" class=\"tab-content\"&gt;\\r...</td>\n",
       "    </tr>\n",
       "    <tr>\n",
       "      <th>4</th>\n",
       "      <td>iPhone 8 - 64G Quốc Tế - Mới 100%</td>\n",
       "      <td>\\r\\n                                        7,...</td>\n",
       "      <td>[]</td>\n",
       "      <td>http://tragopdidong.vn/iphone-8-64g-quoc-te-mo...</td>\n",
       "      <td>[&lt;div id=\"myTabContent\" class=\"tab-content\"&gt;\\r...</td>\n",
       "    </tr>\n",
       "  </tbody>\n",
       "</table>\n",
       "</div>"
      ],
      "text/plain": [
       "                                         name  \\\n",
       "0         IPHONE 11 - 128G QUỐC TẾ - MỚI 100%   \n",
       "1  iPhone 8 Plus - 64G Quốc Tế Mới 95% -> 99%   \n",
       "2        iPhone 8 Plus - 64G Quốc Tế Mới 100%   \n",
       "3          iPhone X - 256G Quốc Tế - Mới 100%   \n",
       "4           iPhone 8 - 64G Quốc Tế - Mới 100%   \n",
       "\n",
       "                                               price  \\\n",
       "0  \\r\\n                                        13...   \n",
       "1  \\r\\n                                        3,...   \n",
       "2  \\r\\n                                        9,...   \n",
       "3  \\r\\n                                        11...   \n",
       "4  \\r\\n                                        7,...   \n",
       "\n",
       "                                             url_img  \\\n",
       "0  [http://tragopdidong.vn/img/h360/moi-99-22.jpg...   \n",
       "1                                                 []   \n",
       "2                                                 []   \n",
       "3                                                 []   \n",
       "4                                                 []   \n",
       "\n",
       "                                                link  \\\n",
       "0  http://tragopdidong.vn/iphone-11-128g-quoc-te-...   \n",
       "1  http://tragopdidong.vn/iphone-8-plus-64g-quoc-...   \n",
       "2  http://tragopdidong.vn/iphone-8-plus-64g-quoc-...   \n",
       "3  http://tragopdidong.vn/iphone-x-256g-quoc-te-m...   \n",
       "4  http://tragopdidong.vn/iphone-8-64g-quoc-te-mo...   \n",
       "\n",
       "                                                data  \n",
       "0  [<div id=\"myTabContent\" class=\"tab-content\">\\r...  \n",
       "1  [<div id=\"myTabContent\" class=\"tab-content\">\\r...  \n",
       "2  [<div id=\"myTabContent\" class=\"tab-content\">\\r...  \n",
       "3  [<div id=\"myTabContent\" class=\"tab-content\">\\r...  \n",
       "4  [<div id=\"myTabContent\" class=\"tab-content\">\\r...  "
      ]
     },
     "execution_count": 4,
     "metadata": {},
     "output_type": "execute_result"
    }
   ],
   "source": [
    "df_origin.head()"
   ]
  },
  {
   "cell_type": "code",
   "execution_count": 5,
   "metadata": {},
   "outputs": [
    {
     "name": "stdout",
     "output_type": "stream",
     "text": [
      "name                \tname                \t1.0\n",
      "price               \tprice               \t1.0\n",
      "url_img             \turl_img             \t1.0\n",
      "link                \tlink                \t1.0\n"
     ]
    }
   ],
   "source": [
    "data = matchingSystem.pipelineMatching(df_origin)"
   ]
  },
  {
   "cell_type": "code",
   "execution_count": 6,
   "metadata": {},
   "outputs": [
    {
     "name": "stdout",
     "output_type": "stream",
     "text": [
      "'float' object has no attribute 'replace'\n"
     ]
    }
   ],
   "source": [
    "newDf = preprocess.extractRamFromName(data)\n",
    "newDf = preprocess.extractRomFromName(newDf)\n",
    "newDf = preprocess.preprocessData(newDf, status=1)"
   ]
  },
  {
   "cell_type": "code",
   "execution_count": 7,
   "metadata": {},
   "outputs": [],
   "source": [
    "newDf['store']='tragopdidong'"
   ]
  },
  {
   "cell_type": "code",
   "execution_count": 8,
   "metadata": {},
   "outputs": [
    {
     "data": {
      "text/html": [
       "<div>\n",
       "<style scoped>\n",
       "    .dataframe tbody tr th:only-of-type {\n",
       "        vertical-align: middle;\n",
       "    }\n",
       "\n",
       "    .dataframe tbody tr th {\n",
       "        vertical-align: top;\n",
       "    }\n",
       "\n",
       "    .dataframe thead th {\n",
       "        text-align: right;\n",
       "    }\n",
       "</style>\n",
       "<table border=\"1\" class=\"dataframe\">\n",
       "  <thead>\n",
       "    <tr style=\"text-align: right;\">\n",
       "      <th></th>\n",
       "      <th>name</th>\n",
       "      <th>url</th>\n",
       "      <th>ram</th>\n",
       "      <th>rom</th>\n",
       "      <th>price</th>\n",
       "      <th>createdDate</th>\n",
       "      <th>color</th>\n",
       "      <th>status</th>\n",
       "      <th>url_img</th>\n",
       "      <th>store</th>\n",
       "    </tr>\n",
       "  </thead>\n",
       "  <tbody>\n",
       "    <tr>\n",
       "      <th>0</th>\n",
       "      <td>IPHONE 11</td>\n",
       "      <td>http://tragopdidong.vn/iphone-11-128g-quoc-te-...</td>\n",
       "      <td>4</td>\n",
       "      <td>128</td>\n",
       "      <td>13468000</td>\n",
       "      <td>2022-12-26 20:01:34.640179</td>\n",
       "      <td>unknown</td>\n",
       "      <td>1</td>\n",
       "      <td>[http://tragopdidong.vn/img/h360/moi-99-22.jpg...</td>\n",
       "      <td>tragopdidong</td>\n",
       "    </tr>\n",
       "    <tr>\n",
       "      <th>1</th>\n",
       "      <td>IPHONE 8 PLUS</td>\n",
       "      <td>http://tragopdidong.vn/iphone-8-plus-64g-quoc-...</td>\n",
       "      <td>2</td>\n",
       "      <td>64</td>\n",
       "      <td>3768000</td>\n",
       "      <td>2022-12-26 20:01:34.640179</td>\n",
       "      <td>unknown</td>\n",
       "      <td>1</td>\n",
       "      <td>[]</td>\n",
       "      <td>tragopdidong</td>\n",
       "    </tr>\n",
       "    <tr>\n",
       "      <th>2</th>\n",
       "      <td>IPHONE 8 PLUS</td>\n",
       "      <td>http://tragopdidong.vn/iphone-8-plus-64g-quoc-...</td>\n",
       "      <td>2</td>\n",
       "      <td>64</td>\n",
       "      <td>9950000</td>\n",
       "      <td>2022-12-26 20:01:34.640179</td>\n",
       "      <td>unknown</td>\n",
       "      <td>1</td>\n",
       "      <td>[]</td>\n",
       "      <td>tragopdidong</td>\n",
       "    </tr>\n",
       "    <tr>\n",
       "      <th>3</th>\n",
       "      <td>IPHONE X</td>\n",
       "      <td>http://tragopdidong.vn/iphone-x-256g-quoc-te-m...</td>\n",
       "      <td>3</td>\n",
       "      <td>256</td>\n",
       "      <td>11650000</td>\n",
       "      <td>2022-12-26 20:01:34.640179</td>\n",
       "      <td>unknown</td>\n",
       "      <td>1</td>\n",
       "      <td>[]</td>\n",
       "      <td>tragopdidong</td>\n",
       "    </tr>\n",
       "    <tr>\n",
       "      <th>4</th>\n",
       "      <td>IPHONE 8</td>\n",
       "      <td>http://tragopdidong.vn/iphone-8-64g-quoc-te-mo...</td>\n",
       "      <td>2</td>\n",
       "      <td>64</td>\n",
       "      <td>7350000</td>\n",
       "      <td>2022-12-26 20:01:34.640179</td>\n",
       "      <td>unknown</td>\n",
       "      <td>1</td>\n",
       "      <td>[]</td>\n",
       "      <td>tragopdidong</td>\n",
       "    </tr>\n",
       "  </tbody>\n",
       "</table>\n",
       "</div>"
      ],
      "text/plain": [
       "            name                                                url  ram  rom  \\\n",
       "0      IPHONE 11  http://tragopdidong.vn/iphone-11-128g-quoc-te-...    4  128   \n",
       "1  IPHONE 8 PLUS  http://tragopdidong.vn/iphone-8-plus-64g-quoc-...    2   64   \n",
       "2  IPHONE 8 PLUS  http://tragopdidong.vn/iphone-8-plus-64g-quoc-...    2   64   \n",
       "3       IPHONE X  http://tragopdidong.vn/iphone-x-256g-quoc-te-m...    3  256   \n",
       "4       IPHONE 8  http://tragopdidong.vn/iphone-8-64g-quoc-te-mo...    2   64   \n",
       "\n",
       "      price                createdDate    color  status  \\\n",
       "0  13468000 2022-12-26 20:01:34.640179  unknown       1   \n",
       "1   3768000 2022-12-26 20:01:34.640179  unknown       1   \n",
       "2   9950000 2022-12-26 20:01:34.640179  unknown       1   \n",
       "3  11650000 2022-12-26 20:01:34.640179  unknown       1   \n",
       "4   7350000 2022-12-26 20:01:34.640179  unknown       1   \n",
       "\n",
       "                                             url_img         store  \n",
       "0  [http://tragopdidong.vn/img/h360/moi-99-22.jpg...  tragopdidong  \n",
       "1                                                 []  tragopdidong  \n",
       "2                                                 []  tragopdidong  \n",
       "3                                                 []  tragopdidong  \n",
       "4                                                 []  tragopdidong  "
      ]
     },
     "execution_count": 8,
     "metadata": {},
     "output_type": "execute_result"
    }
   ],
   "source": [
    "newDf.head()"
   ]
  },
  {
   "cell_type": "code",
   "execution_count": 9,
   "metadata": {},
   "outputs": [],
   "source": [
    "newDf.to_csv('../../datamatching/data/tgdd-iphone.csv')"
   ]
  },
  {
   "cell_type": "markdown",
   "metadata": {},
   "source": [
    "# Schema matching"
   ]
  }
 ],
 "metadata": {
  "kernelspec": {
   "display_name": "Python 3.10.4 ('crawler')",
   "language": "python",
   "name": "python3"
  },
  "language_info": {
   "codemirror_mode": {
    "name": "ipython",
    "version": 3
   },
   "file_extension": ".py",
   "mimetype": "text/x-python",
   "name": "python",
   "nbconvert_exporter": "python",
   "pygments_lexer": "ipython3",
   "version": "3.10.4 | packaged by conda-forge | (main, Mar 24 2022, 17:38:57) [GCC 10.3.0]"
  },
  "orig_nbformat": 4,
  "vscode": {
   "interpreter": {
    "hash": "308d8f8c5f56baa072876887063e484fb088d633444accbe0bc991378c9ebf3b"
   }
  }
 },
 "nbformat": 4,
 "nbformat_minor": 2
}
