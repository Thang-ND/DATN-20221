{
 "cells": [
  {
   "cell_type": "code",
   "execution_count": 7,
   "metadata": {},
   "outputs": [],
   "source": [
    "import pandas as pd\n",
    "import json\n",
    "from datetime import datetime\n",
    "import pandas as pd\n",
    "import sys\n",
    "sys.path.insert(0, \"..\")\n",
    "from mypackage.MatchingSystem import MatchingSystem\n",
    "from mypackage.PreprocessData import PreprocessData"
   ]
  },
  {
   "cell_type": "code",
   "execution_count": 8,
   "metadata": {},
   "outputs": [],
   "source": [
    "createdDate = datetime.now()\n",
    "matchingSystem = MatchingSystem()\n",
    "preprocess = PreprocessData()"
   ]
  },
  {
   "cell_type": "code",
   "execution_count": 9,
   "metadata": {},
   "outputs": [],
   "source": [
    "df = pd.read_json('./Data.json')"
   ]
  },
  {
   "cell_type": "code",
   "execution_count": 11,
   "metadata": {},
   "outputs": [
    {
     "name": "stdout",
     "output_type": "stream",
     "text": [
      "name                \tname                \t1.0\n",
      "url                 \turl                 \t1.0\n",
      "color               \tcolor               \t1.0\n",
      "price               \tprice               \t1.0\n"
     ]
    }
   ],
   "source": [
    "data = matchingSystem.pipelineMatching(df)\n",
    "newDf = preprocess.extractRomFromName(data)\n",
    "newDf = preprocess.extractRamFromName(newDf)\n",
    "newDf = preprocess.preprocessData(newDf, status=0)\n",
    "newDf = preprocess.preprocessColor(newDf)"
   ]
  },
  {
   "cell_type": "code",
   "execution_count": 12,
   "metadata": {},
   "outputs": [
    {
     "data": {
      "text/html": [
       "<div>\n",
       "<style scoped>\n",
       "    .dataframe tbody tr th:only-of-type {\n",
       "        vertical-align: middle;\n",
       "    }\n",
       "\n",
       "    .dataframe tbody tr th {\n",
       "        vertical-align: top;\n",
       "    }\n",
       "\n",
       "    .dataframe thead th {\n",
       "        text-align: right;\n",
       "    }\n",
       "</style>\n",
       "<table border=\"1\" class=\"dataframe\">\n",
       "  <thead>\n",
       "    <tr style=\"text-align: right;\">\n",
       "      <th></th>\n",
       "      <th>name</th>\n",
       "      <th>url</th>\n",
       "      <th>ram</th>\n",
       "      <th>rom</th>\n",
       "      <th>price</th>\n",
       "      <th>createdDate</th>\n",
       "      <th>color</th>\n",
       "      <th>status</th>\n",
       "      <th>url_img</th>\n",
       "    </tr>\n",
       "  </thead>\n",
       "  <tbody>\n",
       "    <tr>\n",
       "      <th>0</th>\n",
       "      <td>IPHONE 14 PRO MAX</td>\n",
       "      <td>https://dienmaycholon.vn/dien-thoai-di-dong/ip...</td>\n",
       "      <td>6</td>\n",
       "      <td>128</td>\n",
       "      <td>30890000</td>\n",
       "      <td>2023-01-11 00:15:48.067036</td>\n",
       "      <td>PURPLE</td>\n",
       "      <td>0</td>\n",
       "      <td>unknown</td>\n",
       "    </tr>\n",
       "    <tr>\n",
       "      <th>1</th>\n",
       "      <td>IPHONE 14 PRO MAX</td>\n",
       "      <td>https://dienmaycholon.vn/dien-thoai-di-dong/ip...</td>\n",
       "      <td>6</td>\n",
       "      <td>128</td>\n",
       "      <td>30890000</td>\n",
       "      <td>2023-01-11 00:15:48.067036</td>\n",
       "      <td>YELLOW</td>\n",
       "      <td>0</td>\n",
       "      <td>unknown</td>\n",
       "    </tr>\n",
       "    <tr>\n",
       "      <th>2</th>\n",
       "      <td>IPHONE 14 PRO MAX</td>\n",
       "      <td>https://dienmaycholon.vn/dien-thoai-di-dong/ip...</td>\n",
       "      <td>6</td>\n",
       "      <td>128</td>\n",
       "      <td>30890000</td>\n",
       "      <td>2023-01-11 00:15:48.067036</td>\n",
       "      <td>BLACK</td>\n",
       "      <td>0</td>\n",
       "      <td>unknown</td>\n",
       "    </tr>\n",
       "    <tr>\n",
       "      <th>3</th>\n",
       "      <td>IPHONE 14 PRO MAX</td>\n",
       "      <td>https://dienmaycholon.vn/dien-thoai-di-dong/ip...</td>\n",
       "      <td>6</td>\n",
       "      <td>128</td>\n",
       "      <td>30890000</td>\n",
       "      <td>2023-01-11 00:15:48.067036</td>\n",
       "      <td>SILVER</td>\n",
       "      <td>0</td>\n",
       "      <td>unknown</td>\n",
       "    </tr>\n",
       "    <tr>\n",
       "      <th>4</th>\n",
       "      <td>IPHONE 14 PRO MAX</td>\n",
       "      <td>https://dienmaycholon.vn/dien-thoai-di-dong/ip...</td>\n",
       "      <td>6</td>\n",
       "      <td>256</td>\n",
       "      <td>33690000</td>\n",
       "      <td>2023-01-11 00:15:48.067036</td>\n",
       "      <td>PURPLE</td>\n",
       "      <td>0</td>\n",
       "      <td>unknown</td>\n",
       "    </tr>\n",
       "  </tbody>\n",
       "</table>\n",
       "</div>"
      ],
      "text/plain": [
       "                name                                                url  ram  \\\n",
       "0  IPHONE 14 PRO MAX  https://dienmaycholon.vn/dien-thoai-di-dong/ip...    6   \n",
       "1  IPHONE 14 PRO MAX  https://dienmaycholon.vn/dien-thoai-di-dong/ip...    6   \n",
       "2  IPHONE 14 PRO MAX  https://dienmaycholon.vn/dien-thoai-di-dong/ip...    6   \n",
       "3  IPHONE 14 PRO MAX  https://dienmaycholon.vn/dien-thoai-di-dong/ip...    6   \n",
       "4  IPHONE 14 PRO MAX  https://dienmaycholon.vn/dien-thoai-di-dong/ip...    6   \n",
       "\n",
       "   rom     price                createdDate   color  status  url_img  \n",
       "0  128  30890000 2023-01-11 00:15:48.067036  PURPLE       0  unknown  \n",
       "1  128  30890000 2023-01-11 00:15:48.067036  YELLOW       0  unknown  \n",
       "2  128  30890000 2023-01-11 00:15:48.067036   BLACK       0  unknown  \n",
       "3  128  30890000 2023-01-11 00:15:48.067036  SILVER       0  unknown  \n",
       "4  256  33690000 2023-01-11 00:15:48.067036  PURPLE       0  unknown  "
      ]
     },
     "execution_count": 12,
     "metadata": {},
     "output_type": "execute_result"
    }
   ],
   "source": [
    "newDf.head()"
   ]
  }
 ],
 "metadata": {
  "kernelspec": {
   "display_name": "crawler",
   "language": "python",
   "name": "python3"
  },
  "language_info": {
   "codemirror_mode": {
    "name": "ipython",
    "version": 3
   },
   "file_extension": ".py",
   "mimetype": "text/x-python",
   "name": "python",
   "nbconvert_exporter": "python",
   "pygments_lexer": "ipython3",
   "version": "3.10.4"
  },
  "orig_nbformat": 4,
  "vscode": {
   "interpreter": {
    "hash": "308d8f8c5f56baa072876887063e484fb088d633444accbe0bc991378c9ebf3b"
   }
  }
 },
 "nbformat": 4,
 "nbformat_minor": 2
}
