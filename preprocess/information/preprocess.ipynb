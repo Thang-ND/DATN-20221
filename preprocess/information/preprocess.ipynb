{
 "cells": [
  {
   "cell_type": "code",
   "execution_count": 2,
   "metadata": {},
   "outputs": [],
   "source": [
    "import pandas as pd\n",
    "import json\n",
    "from datetime import datetime\n",
    "import pandas as pd\n",
    "import sys\n",
    "sys.path.insert(0, \"..\")\n",
    "from mypackage.PreprocessData import PreprocessData"
   ]
  },
  {
   "cell_type": "code",
   "execution_count": 3,
   "metadata": {},
   "outputs": [],
   "source": [
    "df = pd.read_json('./info.json')"
   ]
  },
  {
   "cell_type": "code",
   "execution_count": 4,
   "metadata": {},
   "outputs": [],
   "source": [
    "preprocess = PreprocessData()\n",
    "df = preprocess.preprocessInfo(df)"
   ]
  },
  {
   "cell_type": "code",
   "execution_count": 5,
   "metadata": {},
   "outputs": [],
   "source": [
    "df_ip = df[df['name'].str.contains(\"IPHONE\")]"
   ]
  },
  {
   "cell_type": "code",
   "execution_count": 6,
   "metadata": {},
   "outputs": [
    {
     "data": {
      "text/html": [
       "<div>\n",
       "<style scoped>\n",
       "    .dataframe tbody tr th:only-of-type {\n",
       "        vertical-align: middle;\n",
       "    }\n",
       "\n",
       "    .dataframe tbody tr th {\n",
       "        vertical-align: top;\n",
       "    }\n",
       "\n",
       "    .dataframe thead th {\n",
       "        text-align: right;\n",
       "    }\n",
       "</style>\n",
       "<table border=\"1\" class=\"dataframe\">\n",
       "  <thead>\n",
       "    <tr style=\"text-align: right;\">\n",
       "      <th></th>\n",
       "      <th>name</th>\n",
       "      <th>data</th>\n",
       "    </tr>\n",
       "  </thead>\n",
       "  <tbody>\n",
       "    <tr>\n",
       "      <th>3</th>\n",
       "      <td>IPHONE 14 PRO MAX</td>\n",
       "      <td>\\n\\n\\n\\t\\t\\t\\t\\t\\n&lt;style type=\"text/css\"&gt; .tr-...</td>\n",
       "    </tr>\n",
       "    <tr>\n",
       "      <th>4</th>\n",
       "      <td>IPHONE 14 PRO</td>\n",
       "      <td>\\n\\n\\n\\t\\t\\t\\t\\t\\n&lt;style type=\"text/css\"&gt; .tr-...</td>\n",
       "    </tr>\n",
       "    <tr>\n",
       "      <th>5</th>\n",
       "      <td>IPHONE 14</td>\n",
       "      <td>\\n\\n\\n\\t\\t\\t\\t\\t\\n&lt;style type=\"text/css\"&gt; .tr-...</td>\n",
       "    </tr>\n",
       "    <tr>\n",
       "      <th>6</th>\n",
       "      <td>IPHONE 14</td>\n",
       "      <td>\\n\\n\\n\\t\\t\\t\\t\\t\\n&lt;style type=\"text/css\"&gt; .tr-...</td>\n",
       "    </tr>\n",
       "    <tr>\n",
       "      <th>11</th>\n",
       "      <td>IPHONE SE</td>\n",
       "      <td>\\n\\n\\n\\t\\t\\t\\t\\t\\n&lt;style type=\"text/css\"&gt; .tr-...</td>\n",
       "    </tr>\n",
       "    <tr>\n",
       "      <th>13</th>\n",
       "      <td>IPHONE 13 PRO MAX</td>\n",
       "      <td>\\n\\n\\n\\t\\t\\t\\t\\t\\n&lt;style type=\"text/css\"&gt; .tr-...</td>\n",
       "    </tr>\n",
       "    <tr>\n",
       "      <th>14</th>\n",
       "      <td>IPHONE 13 PRO</td>\n",
       "      <td>\\n\\n\\n\\t\\t\\t\\t\\t\\n&lt;style type=\"text/css\"&gt; .tr-...</td>\n",
       "    </tr>\n",
       "    <tr>\n",
       "      <th>15</th>\n",
       "      <td>IPHONE 13</td>\n",
       "      <td>\\n\\n\\n\\t\\t\\t\\t\\t\\n&lt;style type=\"text/css\"&gt; .tr-...</td>\n",
       "    </tr>\n",
       "    <tr>\n",
       "      <th>16</th>\n",
       "      <td>IPHONE 13 MINI</td>\n",
       "      <td>\\n\\n\\n\\t\\t\\t\\t\\t\\n&lt;style type=\"text/css\"&gt; .tr-...</td>\n",
       "    </tr>\n",
       "    <tr>\n",
       "      <th>24</th>\n",
       "      <td>IPHONE 12 PRO MAX</td>\n",
       "      <td>\\n\\n\\n\\t\\t\\t\\t\\t\\n&lt;style type=\"text/css\"&gt; .tr-...</td>\n",
       "    </tr>\n",
       "    <tr>\n",
       "      <th>25</th>\n",
       "      <td>IPHONE 12 PRO</td>\n",
       "      <td>\\n\\n\\n\\t\\t\\t\\t\\t\\n&lt;style type=\"text/css\"&gt; .tr-...</td>\n",
       "    </tr>\n",
       "    <tr>\n",
       "      <th>26</th>\n",
       "      <td>IPHONE 12</td>\n",
       "      <td>\\n\\n\\n\\t\\t\\t\\t\\t\\n&lt;style type=\"text/css\"&gt; .tr-...</td>\n",
       "    </tr>\n",
       "    <tr>\n",
       "      <th>27</th>\n",
       "      <td>IPHONE 12 MINI</td>\n",
       "      <td>\\n\\n\\n\\t\\t\\t\\t\\t\\n&lt;style type=\"text/css\"&gt; .tr-...</td>\n",
       "    </tr>\n",
       "    <tr>\n",
       "      <th>34</th>\n",
       "      <td>IPHONE SE</td>\n",
       "      <td>\\n\\n\\n\\n\\n\\n\\n&lt;div class=\"specs-tabs\"&gt;\\n&lt;div c...</td>\n",
       "    </tr>\n",
       "    <tr>\n",
       "      <th>37</th>\n",
       "      <td>IPHONE 11 PRO MAX</td>\n",
       "      <td>\\n\\n\\n\\n\\n\\n\\n&lt;div class=\"specs-tabs\"&gt;\\n&lt;div c...</td>\n",
       "    </tr>\n",
       "    <tr>\n",
       "      <th>38</th>\n",
       "      <td>IPHONE 11 PRO</td>\n",
       "      <td>\\n\\n\\n\\n\\n\\n\\n&lt;div class=\"specs-tabs\"&gt;\\n&lt;div c...</td>\n",
       "    </tr>\n",
       "    <tr>\n",
       "      <th>39</th>\n",
       "      <td>IPHONE 11</td>\n",
       "      <td>\\n\\n\\n\\n\\n\\n\\n&lt;div class=\"specs-tabs\"&gt;\\n&lt;div c...</td>\n",
       "    </tr>\n",
       "    <tr>\n",
       "      <th>48</th>\n",
       "      <td>IPHONE XS MAX</td>\n",
       "      <td>\\n\\n\\n\\n\\n\\n\\n&lt;div class=\"specs-tabs\"&gt;\\n&lt;div c...</td>\n",
       "    </tr>\n",
       "    <tr>\n",
       "      <th>49</th>\n",
       "      <td>IPHONE XS</td>\n",
       "      <td>\\n\\n\\n\\n\\n\\n\\n&lt;div class=\"specs-tabs\"&gt;\\n&lt;div c...</td>\n",
       "    </tr>\n",
       "    <tr>\n",
       "      <th>50</th>\n",
       "      <td>IPHONE XR</td>\n",
       "      <td>\\n\\n\\n\\n\\n\\n\\n&lt;div class=\"specs-tabs\"&gt;\\n&lt;div c...</td>\n",
       "    </tr>\n",
       "    <tr>\n",
       "      <th>54</th>\n",
       "      <td>IPHONE X</td>\n",
       "      <td>\\n\\n\\n\\n\\n\\n\\n&lt;div class=\"specs-tabs\"&gt;\\n&lt;div c...</td>\n",
       "    </tr>\n",
       "    <tr>\n",
       "      <th>55</th>\n",
       "      <td>IPHONE 8 PLUS</td>\n",
       "      <td>\\n\\n\\n\\n\\n\\n\\n&lt;div class=\"specs-tabs\"&gt;\\n&lt;div c...</td>\n",
       "    </tr>\n",
       "    <tr>\n",
       "      <th>56</th>\n",
       "      <td>IPHONE 8</td>\n",
       "      <td>\\n\\n\\n\\n\\n\\n\\n&lt;div class=\"specs-tabs\"&gt;\\n&lt;div c...</td>\n",
       "    </tr>\n",
       "    <tr>\n",
       "      <th>71</th>\n",
       "      <td>IPHONE 7 PLUS</td>\n",
       "      <td>\\n\\n\\n\\n\\n\\n\\n&lt;div class=\"specs-tabs\"&gt;\\n&lt;div c...</td>\n",
       "    </tr>\n",
       "    <tr>\n",
       "      <th>72</th>\n",
       "      <td>IPHONE 7</td>\n",
       "      <td>\\n\\n\\n\\n\\n\\n\\n&lt;div class=\"specs-tabs\"&gt;\\n&lt;div c...</td>\n",
       "    </tr>\n",
       "    <tr>\n",
       "      <th>74</th>\n",
       "      <td>IPHONE SE</td>\n",
       "      <td>\\n\\n\\n\\t\\t\\t\\t\\t\\n&lt;style type=\"text/css\"&gt; .tr-...</td>\n",
       "    </tr>\n",
       "    <tr>\n",
       "      <th>75</th>\n",
       "      <td>IPHONE 6S PLUS</td>\n",
       "      <td>\\n\\n\\n\\t\\t\\t\\t\\t\\n&lt;style type=\"text/css\"&gt; .tr-...</td>\n",
       "    </tr>\n",
       "    <tr>\n",
       "      <th>76</th>\n",
       "      <td>IPHONE 6S</td>\n",
       "      <td>\\n\\n\\n\\t\\t\\t\\t\\t\\n&lt;style type=\"text/css\"&gt; .tr-...</td>\n",
       "    </tr>\n",
       "    <tr>\n",
       "      <th>87</th>\n",
       "      <td>IPHONE 6 PLUS</td>\n",
       "      <td>\\n\\n\\n\\t\\t\\t\\t\\t\\n&lt;style type=\"text/css\"&gt; .tr-...</td>\n",
       "    </tr>\n",
       "    <tr>\n",
       "      <th>88</th>\n",
       "      <td>IPHONE 6</td>\n",
       "      <td>\\n\\n\\n\\t\\t\\t\\t\\t\\n&lt;style type=\"text/css\"&gt; .tr-...</td>\n",
       "    </tr>\n",
       "    <tr>\n",
       "      <th>91</th>\n",
       "      <td>IPHONE 5S</td>\n",
       "      <td>\\n\\n\\n\\t\\t\\t\\t\\t\\n&lt;style type=\"text/css\"&gt; .tr-...</td>\n",
       "    </tr>\n",
       "    <tr>\n",
       "      <th>92</th>\n",
       "      <td>IPHONE 5C</td>\n",
       "      <td>\\n\\n\\n\\t\\t\\t\\t\\t\\n&lt;style type=\"text/css\"&gt; .tr-...</td>\n",
       "    </tr>\n",
       "    <tr>\n",
       "      <th>97</th>\n",
       "      <td>IPHONE 5</td>\n",
       "      <td>\\n\\n\\n\\t\\t\\t\\t\\t\\n&lt;style type=\"text/css\"&gt; .tr-...</td>\n",
       "    </tr>\n",
       "    <tr>\n",
       "      <th>100</th>\n",
       "      <td>IPHONE 4S</td>\n",
       "      <td>\\n\\n\\n\\t\\t\\t\\t\\t\\n&lt;style type=\"text/css\"&gt; .tr-...</td>\n",
       "    </tr>\n",
       "    <tr>\n",
       "      <th>104</th>\n",
       "      <td>IPHONE 4</td>\n",
       "      <td>\\n\\n\\n\\t\\t\\t\\t\\t\\n&lt;style type=\"text/css\"&gt; .tr-...</td>\n",
       "    </tr>\n",
       "    <tr>\n",
       "      <th>105</th>\n",
       "      <td>IPHONE 4</td>\n",
       "      <td>\\n\\n\\n\\t\\t\\t\\t\\t\\n&lt;style type=\"text/css\"&gt; .tr-...</td>\n",
       "    </tr>\n",
       "    <tr>\n",
       "      <th>108</th>\n",
       "      <td>IPHONE 3GS</td>\n",
       "      <td>\\n\\n\\n\\t\\t\\t\\t\\t\\n&lt;style type=\"text/css\"&gt; .tr-...</td>\n",
       "    </tr>\n",
       "    <tr>\n",
       "      <th>109</th>\n",
       "      <td>IPHONE 3G</td>\n",
       "      <td>\\n\\n\\n\\t\\t\\t\\t\\t\\n&lt;style type=\"text/css\"&gt; .tr-...</td>\n",
       "    </tr>\n",
       "  </tbody>\n",
       "</table>\n",
       "</div>"
      ],
      "text/plain": [
       "                  name                                               data\n",
       "3    IPHONE 14 PRO MAX  \\n\\n\\n\\t\\t\\t\\t\\t\\n<style type=\"text/css\"> .tr-...\n",
       "4        IPHONE 14 PRO  \\n\\n\\n\\t\\t\\t\\t\\t\\n<style type=\"text/css\"> .tr-...\n",
       "5            IPHONE 14  \\n\\n\\n\\t\\t\\t\\t\\t\\n<style type=\"text/css\"> .tr-...\n",
       "6            IPHONE 14  \\n\\n\\n\\t\\t\\t\\t\\t\\n<style type=\"text/css\"> .tr-...\n",
       "11           IPHONE SE  \\n\\n\\n\\t\\t\\t\\t\\t\\n<style type=\"text/css\"> .tr-...\n",
       "13   IPHONE 13 PRO MAX  \\n\\n\\n\\t\\t\\t\\t\\t\\n<style type=\"text/css\"> .tr-...\n",
       "14       IPHONE 13 PRO  \\n\\n\\n\\t\\t\\t\\t\\t\\n<style type=\"text/css\"> .tr-...\n",
       "15           IPHONE 13  \\n\\n\\n\\t\\t\\t\\t\\t\\n<style type=\"text/css\"> .tr-...\n",
       "16      IPHONE 13 MINI  \\n\\n\\n\\t\\t\\t\\t\\t\\n<style type=\"text/css\"> .tr-...\n",
       "24   IPHONE 12 PRO MAX  \\n\\n\\n\\t\\t\\t\\t\\t\\n<style type=\"text/css\"> .tr-...\n",
       "25       IPHONE 12 PRO  \\n\\n\\n\\t\\t\\t\\t\\t\\n<style type=\"text/css\"> .tr-...\n",
       "26           IPHONE 12  \\n\\n\\n\\t\\t\\t\\t\\t\\n<style type=\"text/css\"> .tr-...\n",
       "27      IPHONE 12 MINI  \\n\\n\\n\\t\\t\\t\\t\\t\\n<style type=\"text/css\"> .tr-...\n",
       "34           IPHONE SE  \\n\\n\\n\\n\\n\\n\\n<div class=\"specs-tabs\">\\n<div c...\n",
       "37   IPHONE 11 PRO MAX  \\n\\n\\n\\n\\n\\n\\n<div class=\"specs-tabs\">\\n<div c...\n",
       "38       IPHONE 11 PRO  \\n\\n\\n\\n\\n\\n\\n<div class=\"specs-tabs\">\\n<div c...\n",
       "39           IPHONE 11  \\n\\n\\n\\n\\n\\n\\n<div class=\"specs-tabs\">\\n<div c...\n",
       "48       IPHONE XS MAX  \\n\\n\\n\\n\\n\\n\\n<div class=\"specs-tabs\">\\n<div c...\n",
       "49           IPHONE XS  \\n\\n\\n\\n\\n\\n\\n<div class=\"specs-tabs\">\\n<div c...\n",
       "50           IPHONE XR  \\n\\n\\n\\n\\n\\n\\n<div class=\"specs-tabs\">\\n<div c...\n",
       "54            IPHONE X  \\n\\n\\n\\n\\n\\n\\n<div class=\"specs-tabs\">\\n<div c...\n",
       "55       IPHONE 8 PLUS  \\n\\n\\n\\n\\n\\n\\n<div class=\"specs-tabs\">\\n<div c...\n",
       "56            IPHONE 8  \\n\\n\\n\\n\\n\\n\\n<div class=\"specs-tabs\">\\n<div c...\n",
       "71       IPHONE 7 PLUS  \\n\\n\\n\\n\\n\\n\\n<div class=\"specs-tabs\">\\n<div c...\n",
       "72            IPHONE 7  \\n\\n\\n\\n\\n\\n\\n<div class=\"specs-tabs\">\\n<div c...\n",
       "74           IPHONE SE  \\n\\n\\n\\t\\t\\t\\t\\t\\n<style type=\"text/css\"> .tr-...\n",
       "75      IPHONE 6S PLUS  \\n\\n\\n\\t\\t\\t\\t\\t\\n<style type=\"text/css\"> .tr-...\n",
       "76           IPHONE 6S  \\n\\n\\n\\t\\t\\t\\t\\t\\n<style type=\"text/css\"> .tr-...\n",
       "87       IPHONE 6 PLUS  \\n\\n\\n\\t\\t\\t\\t\\t\\n<style type=\"text/css\"> .tr-...\n",
       "88            IPHONE 6  \\n\\n\\n\\t\\t\\t\\t\\t\\n<style type=\"text/css\"> .tr-...\n",
       "91           IPHONE 5S  \\n\\n\\n\\t\\t\\t\\t\\t\\n<style type=\"text/css\"> .tr-...\n",
       "92           IPHONE 5C  \\n\\n\\n\\t\\t\\t\\t\\t\\n<style type=\"text/css\"> .tr-...\n",
       "97            IPHONE 5  \\n\\n\\n\\t\\t\\t\\t\\t\\n<style type=\"text/css\"> .tr-...\n",
       "100          IPHONE 4S  \\n\\n\\n\\t\\t\\t\\t\\t\\n<style type=\"text/css\"> .tr-...\n",
       "104           IPHONE 4  \\n\\n\\n\\t\\t\\t\\t\\t\\n<style type=\"text/css\"> .tr-...\n",
       "105           IPHONE 4  \\n\\n\\n\\t\\t\\t\\t\\t\\n<style type=\"text/css\"> .tr-...\n",
       "108         IPHONE 3GS  \\n\\n\\n\\t\\t\\t\\t\\t\\n<style type=\"text/css\"> .tr-...\n",
       "109          IPHONE 3G  \\n\\n\\n\\t\\t\\t\\t\\t\\n<style type=\"text/css\"> .tr-..."
      ]
     },
     "execution_count": 6,
     "metadata": {},
     "output_type": "execute_result"
    }
   ],
   "source": [
    "df_ip"
   ]
  },
  {
   "cell_type": "code",
   "execution_count": 7,
   "metadata": {},
   "outputs": [],
   "source": [
    "def process(df_ip):\n",
    "    products = []\n",
    "    for i in range(len(df_ip)):\n",
    "        product = {}\n",
    "        product['name'] = df_ip['name'].iloc[i]\n",
    "        tmp = pd.read_html(df_ip['data'].iloc[i])\n",
    "        result = tmp[0].dropna(axis=0)\n",
    "        for i in range(len(tmp)):\n",
    "            if i == 0: \n",
    "                continue\n",
    "            df_tmp = tmp[i].dropna(axis=0)\n",
    "            result = pd.concat([result, df_tmp])\n",
    "        x = result[[1, 2]].set_index(1)\n",
    "        y = x.T.reset_index(drop=True)\n",
    "        columns = y.columns.to_list()\n",
    "        for col in columns:\n",
    "            product[col] = str(y[col].loc[0])\n",
    "        products.append(product)\n",
    "    return products"
   ]
  },
  {
   "cell_type": "code",
   "execution_count": 8,
   "metadata": {},
   "outputs": [
    {
     "ename": "NameError",
     "evalue": "name 'products' is not defined",
     "output_type": "error",
     "traceback": [
      "\u001b[0;31m---------------------------------------------------------------------------\u001b[0m",
      "\u001b[0;31mNameError\u001b[0m                                 Traceback (most recent call last)",
      "\u001b[1;32m/home/thangnd/Documents/20221/DATN-20221/preprocess/information/preprocess.ipynb Cell 7\u001b[0m in \u001b[0;36m<cell line: 1>\u001b[0;34m()\u001b[0m\n\u001b[1;32m      <a href='vscode-notebook-cell:/home/thangnd/Documents/20221/DATN-20221/preprocess/information/preprocess.ipynb#W6sZmlsZQ%3D%3D?line=0'>1</a>\u001b[0m \u001b[39mwith\u001b[39;00m \u001b[39mopen\u001b[39m(\u001b[39m'\u001b[39m\u001b[39m./info-iphone.json\u001b[39m\u001b[39m'\u001b[39m, \u001b[39m'\u001b[39m\u001b[39mw\u001b[39m\u001b[39m'\u001b[39m) \u001b[39mas\u001b[39;00m f:\n\u001b[0;32m----> <a href='vscode-notebook-cell:/home/thangnd/Documents/20221/DATN-20221/preprocess/information/preprocess.ipynb#W6sZmlsZQ%3D%3D?line=1'>2</a>\u001b[0m     f\u001b[39m.\u001b[39mwrite(json\u001b[39m.\u001b[39mdumps(products))\n\u001b[1;32m      <a href='vscode-notebook-cell:/home/thangnd/Documents/20221/DATN-20221/preprocess/information/preprocess.ipynb#W6sZmlsZQ%3D%3D?line=2'>3</a>\u001b[0m     f\u001b[39m.\u001b[39mclose\n",
      "\u001b[0;31mNameError\u001b[0m: name 'products' is not defined"
     ]
    }
   ],
   "source": [
    "with open('./info-iphone.json', 'w') as f:\n",
    "    f.write(json.dumps(products))\n",
    "    f.close"
   ]
  },
  {
   "cell_type": "code",
   "execution_count": null,
   "metadata": {},
   "outputs": [],
   "source": [
    "df_ipad = df[df['name'].str.contains(\"IPAD\")]"
   ]
  },
  {
   "cell_type": "code",
   "execution_count": null,
   "metadata": {},
   "outputs": [],
   "source": [
    "data = process(df_ipad)"
   ]
  },
  {
   "cell_type": "code",
   "execution_count": null,
   "metadata": {},
   "outputs": [],
   "source": [
    "with open('./info-ipad.json', 'w') as f:\n",
    "    f.write(json.dumps(data))\n",
    "    f.close"
   ]
  },
  {
   "cell_type": "code",
   "execution_count": null,
   "metadata": {},
   "outputs": [],
   "source": [
    "df_watch = df[df['name'].str.contains(\"WATCH\")]"
   ]
  },
  {
   "cell_type": "code",
   "execution_count": null,
   "metadata": {},
   "outputs": [],
   "source": [
    "data_watch = process(df_watch)\n",
    "with open('./info-watch.json', 'w') as f:\n",
    "    f.write(json.dumps(data_watch))\n",
    "    f.close"
   ]
  },
  {
   "cell_type": "code",
   "execution_count": null,
   "metadata": {},
   "outputs": [],
   "source": [
    "df_mac = df[df['name'].str.contains(\"MAC\")]"
   ]
  },
  {
   "cell_type": "code",
   "execution_count": null,
   "metadata": {},
   "outputs": [
    {
     "data": {
      "text/plain": [
       "0              IPAD PRO 12.9\n",
       "1                IPAD PRO 11\n",
       "2          Apple iPad (2022)\n",
       "3          IPHONE 14 PRO MAX\n",
       "4              IPHONE 14 PRO\n",
       "               ...          \n",
       "106    Apple iPad Wi-Fi + 3G\n",
       "107         Apple iPad Wi-Fi\n",
       "108               IPHONE 3GS\n",
       "109                IPHONE 3G\n",
       "110             Apple iPhone\n",
       "Name: name, Length: 111, dtype: object"
      ]
     },
     "execution_count": 102,
     "metadata": {},
     "output_type": "execute_result"
    }
   ],
   "source": [
    "df['name']"
   ]
  },
  {
   "cell_type": "code",
   "execution_count": 12,
   "metadata": {},
   "outputs": [],
   "source": [
    "df_test = df[~df['name'].str.contains(\"IPHONE\") & ~df['name'].str.contains(\"IPAD\") & ~df['name'].str.contains(\"WATCH\")]"
   ]
  },
  {
   "cell_type": "code",
   "execution_count": 14,
   "metadata": {},
   "outputs": [
    {
     "data": {
      "text/plain": [
       "17"
      ]
     },
     "execution_count": 14,
     "metadata": {},
     "output_type": "execute_result"
    }
   ],
   "source": [
    "len(df_test)"
   ]
  },
  {
   "cell_type": "code",
   "execution_count": 15,
   "metadata": {},
   "outputs": [
    {
     "data": {
      "text/plain": [
       "111"
      ]
     },
     "execution_count": 15,
     "metadata": {},
     "output_type": "execute_result"
    }
   ],
   "source": [
    "len(df)"
   ]
  },
  {
   "cell_type": "code",
   "execution_count": null,
   "metadata": {},
   "outputs": [],
   "source": []
  }
 ],
 "metadata": {
  "kernelspec": {
   "display_name": "crawler",
   "language": "python",
   "name": "python3"
  },
  "language_info": {
   "codemirror_mode": {
    "name": "ipython",
    "version": 3
   },
   "file_extension": ".py",
   "mimetype": "text/x-python",
   "name": "python",
   "nbconvert_exporter": "python",
   "pygments_lexer": "ipython3",
   "version": "3.10.4"
  },
  "orig_nbformat": 4,
  "vscode": {
   "interpreter": {
    "hash": "308d8f8c5f56baa072876887063e484fb088d633444accbe0bc991378c9ebf3b"
   }
  }
 },
 "nbformat": 4,
 "nbformat_minor": 2
}
