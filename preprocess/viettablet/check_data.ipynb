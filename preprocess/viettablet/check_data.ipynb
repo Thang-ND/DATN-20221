{
 "cells": [
  {
   "cell_type": "code",
   "execution_count": 1,
   "metadata": {},
   "outputs": [],
   "source": [
    "import json\n",
    "from datetime import datetime\n",
    "import pandas as pd\n",
    "import sys\n",
    "sys.path.insert(0, \"..\")\n",
    "from mypackage.MatchingSystem import MatchingSystem\n",
    "from mypackage.PreprocessData import PreprocessData"
   ]
  },
  {
   "cell_type": "code",
   "execution_count": 3,
   "metadata": {},
   "outputs": [],
   "source": [
    "createdDate = datetime.now()\n",
    "matchingSystem = MatchingSystem()\n",
    "preprocess = PreprocessData()"
   ]
  },
  {
   "cell_type": "code",
   "execution_count": 2,
   "metadata": {},
   "outputs": [],
   "source": [
    "df = pd.read_json('./data-iphone.json')"
   ]
  },
  {
   "cell_type": "code",
   "execution_count": 4,
   "metadata": {},
   "outputs": [
    {
     "data": {
      "text/html": [
       "<div>\n",
       "<style scoped>\n",
       "    .dataframe tbody tr th:only-of-type {\n",
       "        vertical-align: middle;\n",
       "    }\n",
       "\n",
       "    .dataframe tbody tr th {\n",
       "        vertical-align: top;\n",
       "    }\n",
       "\n",
       "    .dataframe thead th {\n",
       "        text-align: right;\n",
       "    }\n",
       "</style>\n",
       "<table border=\"1\" class=\"dataframe\">\n",
       "  <thead>\n",
       "    <tr style=\"text-align: right;\">\n",
       "      <th></th>\n",
       "      <th>color</th>\n",
       "      <th>price</th>\n",
       "      <th>url</th>\n",
       "      <th>name</th>\n",
       "      <th>rom</th>\n",
       "      <th>url_img</th>\n",
       "    </tr>\n",
       "  </thead>\n",
       "  <tbody>\n",
       "    <tr>\n",
       "      <th>0</th>\n",
       "      <td>\\n                                &lt;input type=...</td>\n",
       "      <td>4.390.000</td>\n",
       "      <td>https://www.viettablet.com/iphone-x-cu-like-ne...</td>\n",
       "      <td>iPhone X 64GB Quốc Tế Cũ Like New 99%</td>\n",
       "      <td>unknown</td>\n",
       "      <td>unknown</td>\n",
       "    </tr>\n",
       "    <tr>\n",
       "      <th>1</th>\n",
       "      <td>\\n                                &lt;input type=...</td>\n",
       "      <td>4.690.000</td>\n",
       "      <td>https://www.viettablet.com/iphone-x-cu-like-ne...</td>\n",
       "      <td>iPhone X 64GB Quốc Tế Cũ Like New 99%</td>\n",
       "      <td>unknown</td>\n",
       "      <td>unknown</td>\n",
       "    </tr>\n",
       "    <tr>\n",
       "      <th>2</th>\n",
       "      <td>\\n                                &lt;input type=...</td>\n",
       "      <td>11.990.000</td>\n",
       "      <td>https://www.viettablet.com/iphone-12-64gb-chin...</td>\n",
       "      <td>iPhone 12 64GB Mới 100% fullbox Active Online</td>\n",
       "      <td>unknown</td>\n",
       "      <td>unknown</td>\n",
       "    </tr>\n",
       "    <tr>\n",
       "      <th>3</th>\n",
       "      <td>\\n                                &lt;input type=...</td>\n",
       "      <td>12.490.000</td>\n",
       "      <td>https://www.viettablet.com/iphone-12-64gb-chin...</td>\n",
       "      <td>iPhone 12 64GB Mới 100% fullbox Active Online</td>\n",
       "      <td>unknown</td>\n",
       "      <td>unknown</td>\n",
       "    </tr>\n",
       "    <tr>\n",
       "      <th>4</th>\n",
       "      <td>\\n                                &lt;input type=...</td>\n",
       "      <td>12.590.000</td>\n",
       "      <td>https://www.viettablet.com/iphone-12-64gb-chin...</td>\n",
       "      <td>iPhone 12 64GB Mới 100% fullbox Active Online</td>\n",
       "      <td>unknown</td>\n",
       "      <td>unknown</td>\n",
       "    </tr>\n",
       "  </tbody>\n",
       "</table>\n",
       "</div>"
      ],
      "text/plain": [
       "                                               color       price  \\\n",
       "0  \\n                                <input type=...   4.390.000   \n",
       "1  \\n                                <input type=...   4.690.000   \n",
       "2  \\n                                <input type=...  11.990.000   \n",
       "3  \\n                                <input type=...  12.490.000   \n",
       "4  \\n                                <input type=...  12.590.000   \n",
       "\n",
       "                                                 url  \\\n",
       "0  https://www.viettablet.com/iphone-x-cu-like-ne...   \n",
       "1  https://www.viettablet.com/iphone-x-cu-like-ne...   \n",
       "2  https://www.viettablet.com/iphone-12-64gb-chin...   \n",
       "3  https://www.viettablet.com/iphone-12-64gb-chin...   \n",
       "4  https://www.viettablet.com/iphone-12-64gb-chin...   \n",
       "\n",
       "                                            name      rom  url_img  \n",
       "0          iPhone X 64GB Quốc Tế Cũ Like New 99%  unknown  unknown  \n",
       "1          iPhone X 64GB Quốc Tế Cũ Like New 99%  unknown  unknown  \n",
       "2  iPhone 12 64GB Mới 100% fullbox Active Online  unknown  unknown  \n",
       "3  iPhone 12 64GB Mới 100% fullbox Active Online  unknown  unknown  \n",
       "4  iPhone 12 64GB Mới 100% fullbox Active Online  unknown  unknown  "
      ]
     },
     "execution_count": 4,
     "metadata": {},
     "output_type": "execute_result"
    }
   ],
   "source": [
    "df.head()"
   ]
  },
  {
   "cell_type": "code",
   "execution_count": 6,
   "metadata": {},
   "outputs": [],
   "source": [
    "df['extract'] = df['color'].apply(lambda x: x.split('</i>')[1].split('<span')[0].replace('\\n','').strip())"
   ]
  },
  {
   "cell_type": "code",
   "execution_count": 7,
   "metadata": {},
   "outputs": [],
   "source": [
    "def checkIsAlNum(string):\n",
    "    res = ''.join(e for e in string if e.isalnum() or e == ' ')\n",
    "    res = ''.join(e for e in res if not e.isdigit() or e == ' ')\n",
    "    return res"
   ]
  },
  {
   "cell_type": "code",
   "execution_count": 8,
   "metadata": {},
   "outputs": [],
   "source": [
    "df['color'] = df['extract'].apply(checkIsAlNum)"
   ]
  },
  {
   "cell_type": "code",
   "execution_count": 9,
   "metadata": {},
   "outputs": [
    {
     "name": "stdout",
     "output_type": "stream",
     "text": [
      "name                \tname                \t1.0\n",
      "url                 \turl                 \t1.0\n",
      "ram                 \tram                 \t1.0\n",
      "ram                 \tram                 \t1.0\n",
      "ram                 \tram                 \t1.0\n",
      "rom                 \trom                 \t1.0\n",
      "price               \tprice               \t1.0\n",
      "createdDate         \tcreatedDate         \t1.0\n",
      "color               \tcolor               \t1.0\n",
      "status              \tstatus              \t1.0\n",
      "url_img             \turl_img             \t1.0\n"
     ]
    }
   ],
   "source": [
    "df = matchingSystem.pipelineMatching(df)"
   ]
  },
  {
   "cell_type": "code",
   "execution_count": 11,
   "metadata": {},
   "outputs": [],
   "source": [
    "newDf = preprocess.extractRomFromName(df)\n",
    "newDf = preprocess.extractRamFromName(newDf)\n",
    "newDf = preprocess.preprocessData(newDf, status=1)\n",
    "newDf = preprocess.preprocessColor(newDf)"
   ]
  },
  {
   "cell_type": "code",
   "execution_count": 13,
   "metadata": {},
   "outputs": [],
   "source": [
    "newDf['store'] = 'viettablet'"
   ]
  },
  {
   "cell_type": "code",
   "execution_count": 14,
   "metadata": {},
   "outputs": [
    {
     "data": {
      "text/html": [
       "<div>\n",
       "<style scoped>\n",
       "    .dataframe tbody tr th:only-of-type {\n",
       "        vertical-align: middle;\n",
       "    }\n",
       "\n",
       "    .dataframe tbody tr th {\n",
       "        vertical-align: top;\n",
       "    }\n",
       "\n",
       "    .dataframe thead th {\n",
       "        text-align: right;\n",
       "    }\n",
       "</style>\n",
       "<table border=\"1\" class=\"dataframe\">\n",
       "  <thead>\n",
       "    <tr style=\"text-align: right;\">\n",
       "      <th></th>\n",
       "      <th>name</th>\n",
       "      <th>url</th>\n",
       "      <th>ram</th>\n",
       "      <th>rom</th>\n",
       "      <th>price</th>\n",
       "      <th>createdDate</th>\n",
       "      <th>color</th>\n",
       "      <th>status</th>\n",
       "      <th>url_img</th>\n",
       "      <th>store</th>\n",
       "    </tr>\n",
       "  </thead>\n",
       "  <tbody>\n",
       "    <tr>\n",
       "      <th>0</th>\n",
       "      <td>IPHONE X</td>\n",
       "      <td>https://www.viettablet.com/iphone-x-cu-like-ne...</td>\n",
       "      <td>3</td>\n",
       "      <td>64</td>\n",
       "      <td>4390000</td>\n",
       "      <td>2023-01-10 23:18:01.959279</td>\n",
       "      <td>BLACK</td>\n",
       "      <td>1</td>\n",
       "      <td>unknown</td>\n",
       "      <td>viettablet</td>\n",
       "    </tr>\n",
       "    <tr>\n",
       "      <th>1</th>\n",
       "      <td>IPHONE X</td>\n",
       "      <td>https://www.viettablet.com/iphone-x-cu-like-ne...</td>\n",
       "      <td>3</td>\n",
       "      <td>64</td>\n",
       "      <td>4690000</td>\n",
       "      <td>2023-01-10 23:18:01.959279</td>\n",
       "      <td>WHITE</td>\n",
       "      <td>1</td>\n",
       "      <td>unknown</td>\n",
       "      <td>viettablet</td>\n",
       "    </tr>\n",
       "    <tr>\n",
       "      <th>2</th>\n",
       "      <td>IPHONE 12</td>\n",
       "      <td>https://www.viettablet.com/iphone-12-64gb-chin...</td>\n",
       "      <td>4</td>\n",
       "      <td>64</td>\n",
       "      <td>11990000</td>\n",
       "      <td>2023-01-10 23:18:01.959279</td>\n",
       "      <td>GREEN</td>\n",
       "      <td>1</td>\n",
       "      <td>unknown</td>\n",
       "      <td>viettablet</td>\n",
       "    </tr>\n",
       "    <tr>\n",
       "      <th>3</th>\n",
       "      <td>IPHONE 12</td>\n",
       "      <td>https://www.viettablet.com/iphone-12-64gb-chin...</td>\n",
       "      <td>4</td>\n",
       "      <td>64</td>\n",
       "      <td>12490000</td>\n",
       "      <td>2023-01-10 23:18:01.959279</td>\n",
       "      <td>BLACK</td>\n",
       "      <td>1</td>\n",
       "      <td>unknown</td>\n",
       "      <td>viettablet</td>\n",
       "    </tr>\n",
       "    <tr>\n",
       "      <th>4</th>\n",
       "      <td>IPHONE 12</td>\n",
       "      <td>https://www.viettablet.com/iphone-12-64gb-chin...</td>\n",
       "      <td>4</td>\n",
       "      <td>64</td>\n",
       "      <td>12590000</td>\n",
       "      <td>2023-01-10 23:18:01.959279</td>\n",
       "      <td>RED</td>\n",
       "      <td>1</td>\n",
       "      <td>unknown</td>\n",
       "      <td>viettablet</td>\n",
       "    </tr>\n",
       "  </tbody>\n",
       "</table>\n",
       "</div>"
      ],
      "text/plain": [
       "        name                                                url ram rom  \\\n",
       "0   IPHONE X  https://www.viettablet.com/iphone-x-cu-like-ne...   3  64   \n",
       "1   IPHONE X  https://www.viettablet.com/iphone-x-cu-like-ne...   3  64   \n",
       "2  IPHONE 12  https://www.viettablet.com/iphone-12-64gb-chin...   4  64   \n",
       "3  IPHONE 12  https://www.viettablet.com/iphone-12-64gb-chin...   4  64   \n",
       "4  IPHONE 12  https://www.viettablet.com/iphone-12-64gb-chin...   4  64   \n",
       "\n",
       "      price                createdDate  color  status  url_img       store  \n",
       "0   4390000 2023-01-10 23:18:01.959279  BLACK       1  unknown  viettablet  \n",
       "1   4690000 2023-01-10 23:18:01.959279  WHITE       1  unknown  viettablet  \n",
       "2  11990000 2023-01-10 23:18:01.959279  GREEN       1  unknown  viettablet  \n",
       "3  12490000 2023-01-10 23:18:01.959279  BLACK       1  unknown  viettablet  \n",
       "4  12590000 2023-01-10 23:18:01.959279    RED       1  unknown  viettablet  "
      ]
     },
     "execution_count": 14,
     "metadata": {},
     "output_type": "execute_result"
    }
   ],
   "source": [
    "newDf.head()"
   ]
  }
 ],
 "metadata": {
  "kernelspec": {
   "display_name": "crawler",
   "language": "python",
   "name": "python3"
  },
  "language_info": {
   "codemirror_mode": {
    "name": "ipython",
    "version": 3
   },
   "file_extension": ".py",
   "mimetype": "text/x-python",
   "name": "python",
   "nbconvert_exporter": "python",
   "pygments_lexer": "ipython3",
   "version": "3.10.4"
  },
  "orig_nbformat": 4,
  "vscode": {
   "interpreter": {
    "hash": "308d8f8c5f56baa072876887063e484fb088d633444accbe0bc991378c9ebf3b"
   }
  }
 },
 "nbformat": 4,
 "nbformat_minor": 2
}
