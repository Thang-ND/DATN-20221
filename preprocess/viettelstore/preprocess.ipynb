{
 "cells": [
  {
   "cell_type": "code",
   "execution_count": 1,
   "metadata": {},
   "outputs": [],
   "source": [
    "import pandas as pd\n",
    "import json\n",
    "from datetime import datetime\n",
    "import pandas as pd\n",
    "import sys\n",
    "sys.path.insert(0, \"..\")\n",
    "from mypackage.MatchingSystem import MatchingSystem\n",
    "from mypackage.PreprocessData import PreprocessData"
   ]
  },
  {
   "cell_type": "code",
   "execution_count": 2,
   "metadata": {},
   "outputs": [],
   "source": [
    "createdDate = datetime.now()\n",
    "matchingSystem = MatchingSystem()\n",
    "preprocess = PreprocessData()"
   ]
  },
  {
   "cell_type": "code",
   "execution_count": 3,
   "metadata": {},
   "outputs": [],
   "source": [
    "df_origin = pd.read_json('./data.json')"
   ]
  },
  {
   "cell_type": "code",
   "execution_count": 4,
   "metadata": {},
   "outputs": [
    {
     "data": {
      "text/html": [
       "<div>\n",
       "<style scoped>\n",
       "    .dataframe tbody tr th:only-of-type {\n",
       "        vertical-align: middle;\n",
       "    }\n",
       "\n",
       "    .dataframe tbody tr th {\n",
       "        vertical-align: top;\n",
       "    }\n",
       "\n",
       "    .dataframe thead th {\n",
       "        text-align: right;\n",
       "    }\n",
       "</style>\n",
       "<table border=\"1\" class=\"dataframe\">\n",
       "  <thead>\n",
       "    <tr style=\"text-align: right;\">\n",
       "      <th></th>\n",
       "      <th>color</th>\n",
       "      <th>url</th>\n",
       "      <th>name</th>\n",
       "      <th>rom</th>\n",
       "      <th>url_img</th>\n",
       "      <th>price</th>\n",
       "    </tr>\n",
       "  </thead>\n",
       "  <tbody>\n",
       "    <tr>\n",
       "      <th>0</th>\n",
       "      <td>SIERRA BLUE</td>\n",
       "      <td>https://viettelstore.vn/dien-thoai/iphone-13-p...</td>\n",
       "      <td>\\n                                            ...</td>\n",
       "      <td>unknown</td>\n",
       "      <td>https://cdn1.viettelstore.vn/Images/Product/Pr...</td>\n",
       "      <td>29990000</td>\n",
       "    </tr>\n",
       "    <tr>\n",
       "      <th>1</th>\n",
       "      <td>ALPINE GREEN</td>\n",
       "      <td>https://viettelstore.vn/dien-thoai/iphone-13-p...</td>\n",
       "      <td>\\n                                            ...</td>\n",
       "      <td>unknown</td>\n",
       "      <td>https://cdn1.viettelstore.vn/Images/Product/Pr...</td>\n",
       "      <td>29990000</td>\n",
       "    </tr>\n",
       "    <tr>\n",
       "      <th>2</th>\n",
       "      <td>SIERRA BLUE</td>\n",
       "      <td>https://viettelstore.vn/dien-thoai/iphone-13-p...</td>\n",
       "      <td>\\n                                            ...</td>\n",
       "      <td>unknown</td>\n",
       "      <td>https://cdn1.viettelstore.vn/Images/Product/Pr...</td>\n",
       "      <td></td>\n",
       "    </tr>\n",
       "    <tr>\n",
       "      <th>3</th>\n",
       "      <td>ALPINE GREEN</td>\n",
       "      <td>https://viettelstore.vn/dien-thoai/iphone-13-p...</td>\n",
       "      <td>\\n                                            ...</td>\n",
       "      <td>unknown</td>\n",
       "      <td>https://cdn1.viettelstore.vn/Images/Product/Pr...</td>\n",
       "      <td></td>\n",
       "    </tr>\n",
       "    <tr>\n",
       "      <th>4</th>\n",
       "      <td>SIERRA BLUE</td>\n",
       "      <td>https://viettelstore.vn/dien-thoai/iphone-13-p...</td>\n",
       "      <td>\\n                                            ...</td>\n",
       "      <td>unknown</td>\n",
       "      <td>https://cdn1.viettelstore.vn/Images/Product/Pr...</td>\n",
       "      <td></td>\n",
       "    </tr>\n",
       "  </tbody>\n",
       "</table>\n",
       "</div>"
      ],
      "text/plain": [
       "          color                                                url  \\\n",
       "0   SIERRA BLUE  https://viettelstore.vn/dien-thoai/iphone-13-p...   \n",
       "1  ALPINE GREEN  https://viettelstore.vn/dien-thoai/iphone-13-p...   \n",
       "2   SIERRA BLUE  https://viettelstore.vn/dien-thoai/iphone-13-p...   \n",
       "3  ALPINE GREEN  https://viettelstore.vn/dien-thoai/iphone-13-p...   \n",
       "4   SIERRA BLUE  https://viettelstore.vn/dien-thoai/iphone-13-p...   \n",
       "\n",
       "                                                name      rom  \\\n",
       "0  \\n                                            ...  unknown   \n",
       "1  \\n                                            ...  unknown   \n",
       "2  \\n                                            ...  unknown   \n",
       "3  \\n                                            ...  unknown   \n",
       "4  \\n                                            ...  unknown   \n",
       "\n",
       "                                             url_img     price  \n",
       "0  https://cdn1.viettelstore.vn/Images/Product/Pr...  29990000  \n",
       "1  https://cdn1.viettelstore.vn/Images/Product/Pr...  29990000  \n",
       "2  https://cdn1.viettelstore.vn/Images/Product/Pr...            \n",
       "3  https://cdn1.viettelstore.vn/Images/Product/Pr...            \n",
       "4  https://cdn1.viettelstore.vn/Images/Product/Pr...            "
      ]
     },
     "execution_count": 4,
     "metadata": {},
     "output_type": "execute_result"
    }
   ],
   "source": [
    "df_origin.head()"
   ]
  },
  {
   "cell_type": "code",
   "execution_count": 5,
   "metadata": {},
   "outputs": [
    {
     "name": "stdout",
     "output_type": "stream",
     "text": [
      "color               \tcolor               \t1.0\n",
      "url                 \turl                 \t1.0\n",
      "name                \tname                \t1.0\n",
      "rom                 \trom                 \t1.0\n",
      "url_img             \turl_img             \t1.0\n",
      "price               \tprice               \t1.0\n"
     ]
    }
   ],
   "source": [
    "data = matchingSystem.pipelineMatching(df_origin)"
   ]
  },
  {
   "cell_type": "code",
   "execution_count": 6,
   "metadata": {},
   "outputs": [],
   "source": [
    "newDf = preprocess.extractRamFromName(data)\n",
    "newDf = preprocess.extractRomFromName(newDf)\n",
    "newDf = preprocess.preprocessData(newDf, status=0)\n",
    "newDf = preprocess.preprocessColor(newDf)"
   ]
  },
  {
   "cell_type": "code",
   "execution_count": 13,
   "metadata": {},
   "outputs": [],
   "source": [
    "newDf.replace(r'^\\s*$', 0, regex=True, inplace=True)"
   ]
  },
  {
   "cell_type": "code",
   "execution_count": 14,
   "metadata": {},
   "outputs": [],
   "source": [
    "newDf['store']='viettelstore'"
   ]
  },
  {
   "cell_type": "code",
   "execution_count": 15,
   "metadata": {},
   "outputs": [
    {
     "data": {
      "text/html": [
       "<div>\n",
       "<style scoped>\n",
       "    .dataframe tbody tr th:only-of-type {\n",
       "        vertical-align: middle;\n",
       "    }\n",
       "\n",
       "    .dataframe tbody tr th {\n",
       "        vertical-align: top;\n",
       "    }\n",
       "\n",
       "    .dataframe thead th {\n",
       "        text-align: right;\n",
       "    }\n",
       "</style>\n",
       "<table border=\"1\" class=\"dataframe\">\n",
       "  <thead>\n",
       "    <tr style=\"text-align: right;\">\n",
       "      <th></th>\n",
       "      <th>name</th>\n",
       "      <th>url</th>\n",
       "      <th>ram</th>\n",
       "      <th>rom</th>\n",
       "      <th>price</th>\n",
       "      <th>createdDate</th>\n",
       "      <th>color</th>\n",
       "      <th>status</th>\n",
       "      <th>url_img</th>\n",
       "      <th>store</th>\n",
       "    </tr>\n",
       "  </thead>\n",
       "  <tbody>\n",
       "    <tr>\n",
       "      <th>0</th>\n",
       "      <td>IPHONE 13 PRO MAX</td>\n",
       "      <td>https://viettelstore.vn/dien-thoai/iphone-13-p...</td>\n",
       "      <td>6</td>\n",
       "      <td>256</td>\n",
       "      <td>29990000</td>\n",
       "      <td>2022-12-26 20:02:07.289701</td>\n",
       "      <td>SIERRA BLUE</td>\n",
       "      <td>0</td>\n",
       "      <td>https://cdn1.viettelstore.vn/Images/Product/Pr...</td>\n",
       "      <td>viettelstore</td>\n",
       "    </tr>\n",
       "    <tr>\n",
       "      <th>1</th>\n",
       "      <td>IPHONE 13 PRO MAX</td>\n",
       "      <td>https://viettelstore.vn/dien-thoai/iphone-13-p...</td>\n",
       "      <td>6</td>\n",
       "      <td>256</td>\n",
       "      <td>29990000</td>\n",
       "      <td>2022-12-26 20:02:07.289701</td>\n",
       "      <td>ALPINE GREEN</td>\n",
       "      <td>0</td>\n",
       "      <td>https://cdn1.viettelstore.vn/Images/Product/Pr...</td>\n",
       "      <td>viettelstore</td>\n",
       "    </tr>\n",
       "    <tr>\n",
       "      <th>2</th>\n",
       "      <td>IPHONE 13 PRO MAX</td>\n",
       "      <td>https://viettelstore.vn/dien-thoai/iphone-13-p...</td>\n",
       "      <td>6</td>\n",
       "      <td>128</td>\n",
       "      <td>0</td>\n",
       "      <td>2022-12-26 20:02:07.289701</td>\n",
       "      <td>SIERRA BLUE</td>\n",
       "      <td>0</td>\n",
       "      <td>https://cdn1.viettelstore.vn/Images/Product/Pr...</td>\n",
       "      <td>viettelstore</td>\n",
       "    </tr>\n",
       "    <tr>\n",
       "      <th>3</th>\n",
       "      <td>IPHONE 13 PRO MAX</td>\n",
       "      <td>https://viettelstore.vn/dien-thoai/iphone-13-p...</td>\n",
       "      <td>6</td>\n",
       "      <td>128</td>\n",
       "      <td>0</td>\n",
       "      <td>2022-12-26 20:02:07.289701</td>\n",
       "      <td>ALPINE GREEN</td>\n",
       "      <td>0</td>\n",
       "      <td>https://cdn1.viettelstore.vn/Images/Product/Pr...</td>\n",
       "      <td>viettelstore</td>\n",
       "    </tr>\n",
       "    <tr>\n",
       "      <th>4</th>\n",
       "      <td>IPHONE 13 PRO MAX</td>\n",
       "      <td>https://viettelstore.vn/dien-thoai/iphone-13-p...</td>\n",
       "      <td>6</td>\n",
       "      <td>512</td>\n",
       "      <td>0</td>\n",
       "      <td>2022-12-26 20:02:07.289701</td>\n",
       "      <td>SIERRA BLUE</td>\n",
       "      <td>0</td>\n",
       "      <td>https://cdn1.viettelstore.vn/Images/Product/Pr...</td>\n",
       "      <td>viettelstore</td>\n",
       "    </tr>\n",
       "  </tbody>\n",
       "</table>\n",
       "</div>"
      ],
      "text/plain": [
       "                name                                                url  ram  \\\n",
       "0  IPHONE 13 PRO MAX  https://viettelstore.vn/dien-thoai/iphone-13-p...    6   \n",
       "1  IPHONE 13 PRO MAX  https://viettelstore.vn/dien-thoai/iphone-13-p...    6   \n",
       "2  IPHONE 13 PRO MAX  https://viettelstore.vn/dien-thoai/iphone-13-p...    6   \n",
       "3  IPHONE 13 PRO MAX  https://viettelstore.vn/dien-thoai/iphone-13-p...    6   \n",
       "4  IPHONE 13 PRO MAX  https://viettelstore.vn/dien-thoai/iphone-13-p...    6   \n",
       "\n",
       "   rom     price                createdDate         color  status  \\\n",
       "0  256  29990000 2022-12-26 20:02:07.289701   SIERRA BLUE       0   \n",
       "1  256  29990000 2022-12-26 20:02:07.289701  ALPINE GREEN       0   \n",
       "2  128         0 2022-12-26 20:02:07.289701   SIERRA BLUE       0   \n",
       "3  128         0 2022-12-26 20:02:07.289701  ALPINE GREEN       0   \n",
       "4  512         0 2022-12-26 20:02:07.289701   SIERRA BLUE       0   \n",
       "\n",
       "                                             url_img         store  \n",
       "0  https://cdn1.viettelstore.vn/Images/Product/Pr...  viettelstore  \n",
       "1  https://cdn1.viettelstore.vn/Images/Product/Pr...  viettelstore  \n",
       "2  https://cdn1.viettelstore.vn/Images/Product/Pr...  viettelstore  \n",
       "3  https://cdn1.viettelstore.vn/Images/Product/Pr...  viettelstore  \n",
       "4  https://cdn1.viettelstore.vn/Images/Product/Pr...  viettelstore  "
      ]
     },
     "execution_count": 15,
     "metadata": {},
     "output_type": "execute_result"
    }
   ],
   "source": [
    "newDf.head()"
   ]
  },
  {
   "cell_type": "code",
   "execution_count": 11,
   "metadata": {},
   "outputs": [],
   "source": [
    "newDf.to_csv('../../datamatching/data/vtstore-iphone.csv')"
   ]
  }
 ],
 "metadata": {
  "kernelspec": {
   "display_name": "Python 3.10.4 ('crawler')",
   "language": "python",
   "name": "python3"
  },
  "language_info": {
   "codemirror_mode": {
    "name": "ipython",
    "version": 3
   },
   "file_extension": ".py",
   "mimetype": "text/x-python",
   "name": "python",
   "nbconvert_exporter": "python",
   "pygments_lexer": "ipython3",
   "version": "3.10.4"
  },
  "orig_nbformat": 4,
  "vscode": {
   "interpreter": {
    "hash": "308d8f8c5f56baa072876887063e484fb088d633444accbe0bc991378c9ebf3b"
   }
  }
 },
 "nbformat": 4,
 "nbformat_minor": 2
}
