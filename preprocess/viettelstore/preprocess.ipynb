{
 "cells": [
  {
   "cell_type": "code",
   "execution_count": 1,
   "metadata": {},
   "outputs": [],
   "source": [
    "import pandas as pd\n",
    "import json\n",
    "from datetime import datetime\n",
    "import pandas as pd\n",
    "import sys\n",
    "sys.path.insert(0, \"..\")\n",
    "from mypackage.MatchingSystem import MatchingSystem\n",
    "from mypackage.PreprocessData import PreprocessData"
   ]
  },
  {
   "cell_type": "code",
   "execution_count": 2,
   "metadata": {},
   "outputs": [],
   "source": [
    "createdDate = datetime.now()\n",
    "matchingSystem = MatchingSystem()\n",
    "preprocess = PreprocessData()"
   ]
  },
  {
   "cell_type": "code",
   "execution_count": 3,
   "metadata": {},
   "outputs": [],
   "source": [
    "df_origin = pd.read_json('./data.json')"
   ]
  },
  {
   "cell_type": "code",
   "execution_count": 4,
   "metadata": {},
   "outputs": [
    {
     "name": "stdout",
     "output_type": "stream",
     "text": [
      "<class 'pandas.core.frame.DataFrame'>\n",
      "RangeIndex: 338 entries, 0 to 337\n",
      "Data columns (total 6 columns):\n",
      " #   Column   Non-Null Count  Dtype \n",
      "---  ------   --------------  ----- \n",
      " 0   color    338 non-null    object\n",
      " 1   url      338 non-null    object\n",
      " 2   name     338 non-null    object\n",
      " 3   rom      338 non-null    object\n",
      " 4   url_img  338 non-null    object\n",
      " 5   price    338 non-null    object\n",
      "dtypes: object(6)\n",
      "memory usage: 16.0+ KB\n"
     ]
    }
   ],
   "source": [
    "df_origin.info()"
   ]
  },
  {
   "cell_type": "code",
   "execution_count": 5,
   "metadata": {},
   "outputs": [
    {
     "name": "stdout",
     "output_type": "stream",
     "text": [
      "color               \tcolor               \t1.0\n",
      "url                 \turl                 \t1.0\n",
      "name                \tname                \t1.0\n",
      "rom                 \trom                 \t1.0\n",
      "url_img             \turl_img             \t1.0\n",
      "price               \tprice               \t1.0\n"
     ]
    }
   ],
   "source": [
    "data = matchingSystem.pipelineMatching(df_origin)"
   ]
  },
  {
   "cell_type": "code",
   "execution_count": 6,
   "metadata": {},
   "outputs": [],
   "source": [
    "newDf = preprocess.extractRamFromName(data)\n",
    "newDf = preprocess.extractRomFromName(newDf)\n",
    "newDf = preprocess.preprocessData(newDf, status=0)"
   ]
  },
  {
   "cell_type": "code",
   "execution_count": 7,
   "metadata": {},
   "outputs": [
    {
     "data": {
      "text/html": [
       "<div>\n",
       "<style scoped>\n",
       "    .dataframe tbody tr th:only-of-type {\n",
       "        vertical-align: middle;\n",
       "    }\n",
       "\n",
       "    .dataframe tbody tr th {\n",
       "        vertical-align: top;\n",
       "    }\n",
       "\n",
       "    .dataframe thead th {\n",
       "        text-align: right;\n",
       "    }\n",
       "</style>\n",
       "<table border=\"1\" class=\"dataframe\">\n",
       "  <thead>\n",
       "    <tr style=\"text-align: right;\">\n",
       "      <th></th>\n",
       "      <th>name</th>\n",
       "      <th>url</th>\n",
       "      <th>ram</th>\n",
       "      <th>rom</th>\n",
       "      <th>price</th>\n",
       "      <th>createdDate</th>\n",
       "      <th>color</th>\n",
       "      <th>status</th>\n",
       "      <th>url_img</th>\n",
       "    </tr>\n",
       "  </thead>\n",
       "  <tbody>\n",
       "    <tr>\n",
       "      <th>0</th>\n",
       "      <td>IPHONE 13 PRO MAX</td>\n",
       "      <td>https://viettelstore.vn/dien-thoai/iphone-13-p...</td>\n",
       "      <td>6</td>\n",
       "      <td>256</td>\n",
       "      <td>29990000</td>\n",
       "      <td>2022-11-27 15:47:23.883297</td>\n",
       "      <td>SIERRA BLUE</td>\n",
       "      <td>0</td>\n",
       "      <td>https://cdn1.viettelstore.vn/Images/Product/Pr...</td>\n",
       "    </tr>\n",
       "    <tr>\n",
       "      <th>1</th>\n",
       "      <td>IPHONE 13 PRO MAX</td>\n",
       "      <td>https://viettelstore.vn/dien-thoai/iphone-13-p...</td>\n",
       "      <td>6</td>\n",
       "      <td>256</td>\n",
       "      <td>29990000</td>\n",
       "      <td>2022-11-27 15:47:23.883297</td>\n",
       "      <td>ALPINE GREEN</td>\n",
       "      <td>0</td>\n",
       "      <td>https://cdn1.viettelstore.vn/Images/Product/Pr...</td>\n",
       "    </tr>\n",
       "    <tr>\n",
       "      <th>2</th>\n",
       "      <td>IPHONE 13 PRO MAX</td>\n",
       "      <td>https://viettelstore.vn/dien-thoai/iphone-13-p...</td>\n",
       "      <td>6</td>\n",
       "      <td>128</td>\n",
       "      <td></td>\n",
       "      <td>2022-11-27 15:47:23.883297</td>\n",
       "      <td>SIERRA BLUE</td>\n",
       "      <td>0</td>\n",
       "      <td>https://cdn1.viettelstore.vn/Images/Product/Pr...</td>\n",
       "    </tr>\n",
       "    <tr>\n",
       "      <th>3</th>\n",
       "      <td>IPHONE 13 PRO MAX</td>\n",
       "      <td>https://viettelstore.vn/dien-thoai/iphone-13-p...</td>\n",
       "      <td>6</td>\n",
       "      <td>128</td>\n",
       "      <td></td>\n",
       "      <td>2022-11-27 15:47:23.883297</td>\n",
       "      <td>ALPINE GREEN</td>\n",
       "      <td>0</td>\n",
       "      <td>https://cdn1.viettelstore.vn/Images/Product/Pr...</td>\n",
       "    </tr>\n",
       "    <tr>\n",
       "      <th>4</th>\n",
       "      <td>IPHONE 13 PRO MAX</td>\n",
       "      <td>https://viettelstore.vn/dien-thoai/iphone-13-p...</td>\n",
       "      <td>6</td>\n",
       "      <td>512</td>\n",
       "      <td></td>\n",
       "      <td>2022-11-27 15:47:23.883297</td>\n",
       "      <td>SIERRA BLUE</td>\n",
       "      <td>0</td>\n",
       "      <td>https://cdn1.viettelstore.vn/Images/Product/Pr...</td>\n",
       "    </tr>\n",
       "  </tbody>\n",
       "</table>\n",
       "</div>"
      ],
      "text/plain": [
       "                name                                                url  ram  \\\n",
       "0  IPHONE 13 PRO MAX  https://viettelstore.vn/dien-thoai/iphone-13-p...    6   \n",
       "1  IPHONE 13 PRO MAX  https://viettelstore.vn/dien-thoai/iphone-13-p...    6   \n",
       "2  IPHONE 13 PRO MAX  https://viettelstore.vn/dien-thoai/iphone-13-p...    6   \n",
       "3  IPHONE 13 PRO MAX  https://viettelstore.vn/dien-thoai/iphone-13-p...    6   \n",
       "4  IPHONE 13 PRO MAX  https://viettelstore.vn/dien-thoai/iphone-13-p...    6   \n",
       "\n",
       "   rom     price                createdDate         color  status  \\\n",
       "0  256  29990000 2022-11-27 15:47:23.883297   SIERRA BLUE       0   \n",
       "1  256  29990000 2022-11-27 15:47:23.883297  ALPINE GREEN       0   \n",
       "2  128           2022-11-27 15:47:23.883297   SIERRA BLUE       0   \n",
       "3  128           2022-11-27 15:47:23.883297  ALPINE GREEN       0   \n",
       "4  512           2022-11-27 15:47:23.883297   SIERRA BLUE       0   \n",
       "\n",
       "                                             url_img  \n",
       "0  https://cdn1.viettelstore.vn/Images/Product/Pr...  \n",
       "1  https://cdn1.viettelstore.vn/Images/Product/Pr...  \n",
       "2  https://cdn1.viettelstore.vn/Images/Product/Pr...  \n",
       "3  https://cdn1.viettelstore.vn/Images/Product/Pr...  \n",
       "4  https://cdn1.viettelstore.vn/Images/Product/Pr...  "
      ]
     },
     "execution_count": 7,
     "metadata": {},
     "output_type": "execute_result"
    }
   ],
   "source": [
    "newDf.head()"
   ]
  },
  {
   "cell_type": "code",
   "execution_count": 8,
   "metadata": {},
   "outputs": [],
   "source": [
    "newDf.replace(r'^\\s*$', 'unknown', regex=True, inplace=True)"
   ]
  },
  {
   "cell_type": "code",
   "execution_count": 9,
   "metadata": {},
   "outputs": [
    {
     "data": {
      "text/html": [
       "<div>\n",
       "<style scoped>\n",
       "    .dataframe tbody tr th:only-of-type {\n",
       "        vertical-align: middle;\n",
       "    }\n",
       "\n",
       "    .dataframe tbody tr th {\n",
       "        vertical-align: top;\n",
       "    }\n",
       "\n",
       "    .dataframe thead th {\n",
       "        text-align: right;\n",
       "    }\n",
       "</style>\n",
       "<table border=\"1\" class=\"dataframe\">\n",
       "  <thead>\n",
       "    <tr style=\"text-align: right;\">\n",
       "      <th></th>\n",
       "      <th>name</th>\n",
       "      <th>url</th>\n",
       "      <th>ram</th>\n",
       "      <th>rom</th>\n",
       "      <th>price</th>\n",
       "      <th>createdDate</th>\n",
       "      <th>color</th>\n",
       "      <th>status</th>\n",
       "      <th>url_img</th>\n",
       "    </tr>\n",
       "  </thead>\n",
       "  <tbody>\n",
       "    <tr>\n",
       "      <th>0</th>\n",
       "      <td>IPHONE 13 PRO MAX</td>\n",
       "      <td>https://viettelstore.vn/dien-thoai/iphone-13-p...</td>\n",
       "      <td>6</td>\n",
       "      <td>256</td>\n",
       "      <td>29990000</td>\n",
       "      <td>2022-11-27 15:47:23.883297</td>\n",
       "      <td>SIERRA BLUE</td>\n",
       "      <td>0</td>\n",
       "      <td>https://cdn1.viettelstore.vn/Images/Product/Pr...</td>\n",
       "    </tr>\n",
       "    <tr>\n",
       "      <th>1</th>\n",
       "      <td>IPHONE 13 PRO MAX</td>\n",
       "      <td>https://viettelstore.vn/dien-thoai/iphone-13-p...</td>\n",
       "      <td>6</td>\n",
       "      <td>256</td>\n",
       "      <td>29990000</td>\n",
       "      <td>2022-11-27 15:47:23.883297</td>\n",
       "      <td>ALPINE GREEN</td>\n",
       "      <td>0</td>\n",
       "      <td>https://cdn1.viettelstore.vn/Images/Product/Pr...</td>\n",
       "    </tr>\n",
       "    <tr>\n",
       "      <th>2</th>\n",
       "      <td>IPHONE 13 PRO MAX</td>\n",
       "      <td>https://viettelstore.vn/dien-thoai/iphone-13-p...</td>\n",
       "      <td>6</td>\n",
       "      <td>128</td>\n",
       "      <td>unknown</td>\n",
       "      <td>2022-11-27 15:47:23.883297</td>\n",
       "      <td>SIERRA BLUE</td>\n",
       "      <td>0</td>\n",
       "      <td>https://cdn1.viettelstore.vn/Images/Product/Pr...</td>\n",
       "    </tr>\n",
       "    <tr>\n",
       "      <th>3</th>\n",
       "      <td>IPHONE 13 PRO MAX</td>\n",
       "      <td>https://viettelstore.vn/dien-thoai/iphone-13-p...</td>\n",
       "      <td>6</td>\n",
       "      <td>128</td>\n",
       "      <td>unknown</td>\n",
       "      <td>2022-11-27 15:47:23.883297</td>\n",
       "      <td>ALPINE GREEN</td>\n",
       "      <td>0</td>\n",
       "      <td>https://cdn1.viettelstore.vn/Images/Product/Pr...</td>\n",
       "    </tr>\n",
       "    <tr>\n",
       "      <th>4</th>\n",
       "      <td>IPHONE 13 PRO MAX</td>\n",
       "      <td>https://viettelstore.vn/dien-thoai/iphone-13-p...</td>\n",
       "      <td>6</td>\n",
       "      <td>512</td>\n",
       "      <td>unknown</td>\n",
       "      <td>2022-11-27 15:47:23.883297</td>\n",
       "      <td>SIERRA BLUE</td>\n",
       "      <td>0</td>\n",
       "      <td>https://cdn1.viettelstore.vn/Images/Product/Pr...</td>\n",
       "    </tr>\n",
       "  </tbody>\n",
       "</table>\n",
       "</div>"
      ],
      "text/plain": [
       "                name                                                url  ram  \\\n",
       "0  IPHONE 13 PRO MAX  https://viettelstore.vn/dien-thoai/iphone-13-p...    6   \n",
       "1  IPHONE 13 PRO MAX  https://viettelstore.vn/dien-thoai/iphone-13-p...    6   \n",
       "2  IPHONE 13 PRO MAX  https://viettelstore.vn/dien-thoai/iphone-13-p...    6   \n",
       "3  IPHONE 13 PRO MAX  https://viettelstore.vn/dien-thoai/iphone-13-p...    6   \n",
       "4  IPHONE 13 PRO MAX  https://viettelstore.vn/dien-thoai/iphone-13-p...    6   \n",
       "\n",
       "   rom     price                createdDate         color  status  \\\n",
       "0  256  29990000 2022-11-27 15:47:23.883297   SIERRA BLUE       0   \n",
       "1  256  29990000 2022-11-27 15:47:23.883297  ALPINE GREEN       0   \n",
       "2  128   unknown 2022-11-27 15:47:23.883297   SIERRA BLUE       0   \n",
       "3  128   unknown 2022-11-27 15:47:23.883297  ALPINE GREEN       0   \n",
       "4  512   unknown 2022-11-27 15:47:23.883297   SIERRA BLUE       0   \n",
       "\n",
       "                                             url_img  \n",
       "0  https://cdn1.viettelstore.vn/Images/Product/Pr...  \n",
       "1  https://cdn1.viettelstore.vn/Images/Product/Pr...  \n",
       "2  https://cdn1.viettelstore.vn/Images/Product/Pr...  \n",
       "3  https://cdn1.viettelstore.vn/Images/Product/Pr...  \n",
       "4  https://cdn1.viettelstore.vn/Images/Product/Pr...  "
      ]
     },
     "execution_count": 9,
     "metadata": {},
     "output_type": "execute_result"
    }
   ],
   "source": [
    "newDf.head()"
   ]
  },
  {
   "cell_type": "code",
   "execution_count": 10,
   "metadata": {},
   "outputs": [],
   "source": [
    "newDf.to_csv('../../datamatching/data/vtstore-iphone.csv')"
   ]
  },
  {
   "cell_type": "code",
   "execution_count": null,
   "metadata": {},
   "outputs": [],
   "source": []
  }
 ],
 "metadata": {
  "kernelspec": {
   "display_name": "Python 3.10.4 ('crawler')",
   "language": "python",
   "name": "python3"
  },
  "language_info": {
   "codemirror_mode": {
    "name": "ipython",
    "version": 3
   },
   "file_extension": ".py",
   "mimetype": "text/x-python",
   "name": "python",
   "nbconvert_exporter": "python",
   "pygments_lexer": "ipython3",
   "version": "3.10.4"
  },
  "orig_nbformat": 4,
  "vscode": {
   "interpreter": {
    "hash": "308d8f8c5f56baa072876887063e484fb088d633444accbe0bc991378c9ebf3b"
   }
  }
 },
 "nbformat": 4,
 "nbformat_minor": 2
}
