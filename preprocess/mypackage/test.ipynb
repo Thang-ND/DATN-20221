{
 "cells": [
  {
   "cell_type": "code",
   "execution_count": 1,
   "metadata": {},
   "outputs": [],
   "source": [
    "from MatchingSystem import MatchingSystem"
   ]
  },
  {
   "cell_type": "code",
   "execution_count": 1,
   "metadata": {},
   "outputs": [],
   "source": [
    "text = '''\n",
    "Black / Gold / Rose Gold / Silver\n",
    "/ Space Gray / Silver / Gold\n",
    "/ White / Black / Blue / Yellow / Coral / Red\n",
    "/ Space Gray / Silver / Gold\n",
    "/ White / Black / Red / Yellow / Green / Purple\n",
    "/ Gold / Space Gray / Midnight Green / Silver\n",
    "/ White / Black / Red\n",
    "/ White / Black / Red\n",
    "/ White / Black / Blue / Green / Red\n",
    "/ Gold / Graphite / Silver / Pacific Blue\n",
    "/ White / Black / Blue / Pink / Red / Green\n",
    "/ Gold / Graphite / Silver / Blue / Green\n",
    "/ Midnight / White / Purple / Red / Blue\n",
    "/ Space Black / White / Gold / Purple\n",
    "'''"
   ]
  },
  {
   "cell_type": "code",
   "execution_count": 2,
   "metadata": {},
   "outputs": [],
   "source": [
    "colors = text.split('/')"
   ]
  },
  {
   "cell_type": "code",
   "execution_count": 6,
   "metadata": {},
   "outputs": [],
   "source": [
    "colors = [col.replace('\\n', '').strip().upper() for col in colors]"
   ]
  },
  {
   "cell_type": "code",
   "execution_count": 10,
   "metadata": {},
   "outputs": [],
   "source": [
    "colors = list(dict.fromkeys(colors))"
   ]
  },
  {
   "cell_type": "code",
   "execution_count": 13,
   "metadata": {},
   "outputs": [
    {
     "data": {
      "text/plain": [
       "18"
      ]
     },
     "execution_count": 13,
     "metadata": {},
     "output_type": "execute_result"
    }
   ],
   "source": [
    "len(colors)"
   ]
  },
  {
   "cell_type": "code",
   "execution_count": 12,
   "metadata": {},
   "outputs": [
    {
     "name": "stdout",
     "output_type": "stream",
     "text": [
      "['BLACK', 'GOLD', 'ROSE GOLD', 'SILVER', 'SPACE GRAY', 'WHITE', 'BLUE', 'YELLOW', 'CORAL', 'RED', 'GREEN', 'PURPLE', 'MIDNIGHT GREEN', 'GRAPHITE', 'PACIFIC BLUE', 'PINK', 'MIDNIGHT', 'SPACE BLACK']\n"
     ]
    }
   ],
   "source": [
    "print(colors)"
   ]
  }
 ],
 "metadata": {
  "kernelspec": {
   "display_name": "Python 3.10.4 ('crawler')",
   "language": "python",
   "name": "python3"
  },
  "language_info": {
   "codemirror_mode": {
    "name": "ipython",
    "version": 3
   },
   "file_extension": ".py",
   "mimetype": "text/x-python",
   "name": "python",
   "nbconvert_exporter": "python",
   "pygments_lexer": "ipython3",
   "version": "3.10.4 | packaged by conda-forge | (main, Mar 24 2022, 17:38:57) [GCC 10.3.0]"
  },
  "orig_nbformat": 4,
  "vscode": {
   "interpreter": {
    "hash": "308d8f8c5f56baa072876887063e484fb088d633444accbe0bc991378c9ebf3b"
   }
  }
 },
 "nbformat": 4,
 "nbformat_minor": 2
}
