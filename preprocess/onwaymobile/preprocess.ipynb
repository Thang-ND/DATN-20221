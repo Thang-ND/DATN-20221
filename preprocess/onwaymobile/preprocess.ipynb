{
 "cells": [
  {
   "cell_type": "code",
   "execution_count": 1,
   "metadata": {},
   "outputs": [],
   "source": [
    "import pandas as pd\n",
    "import json\n",
    "from datetime import datetime\n",
    "import pandas as pd\n",
    "import sys\n",
    "sys.path.insert(0, \"..\")\n",
    "from mypackage.MatchingSystem import MatchingSystem\n",
    "from mypackage.PreprocessData import PreprocessData\n",
    "import re"
   ]
  },
  {
   "cell_type": "code",
   "execution_count": 2,
   "metadata": {},
   "outputs": [],
   "source": [
    "createdDate = datetime.now()\n",
    "matchingSystem = MatchingSystem()\n",
    "preprocess = PreprocessData()"
   ]
  },
  {
   "cell_type": "code",
   "execution_count": 3,
   "metadata": {},
   "outputs": [],
   "source": [
    "df_origin = pd.read_json('./Data-mac.json')"
   ]
  },
  {
   "cell_type": "code",
   "execution_count": 4,
   "metadata": {},
   "outputs": [
    {
     "data": {
      "text/html": [
       "<div>\n",
       "<style scoped>\n",
       "    .dataframe tbody tr th:only-of-type {\n",
       "        vertical-align: middle;\n",
       "    }\n",
       "\n",
       "    .dataframe tbody tr th {\n",
       "        vertical-align: top;\n",
       "    }\n",
       "\n",
       "    .dataframe thead th {\n",
       "        text-align: right;\n",
       "    }\n",
       "</style>\n",
       "<table border=\"1\" class=\"dataframe\">\n",
       "  <thead>\n",
       "    <tr style=\"text-align: right;\">\n",
       "      <th></th>\n",
       "      <th>name</th>\n",
       "      <th>url</th>\n",
       "      <th>url_img</th>\n",
       "      <th>rom</th>\n",
       "      <th>ram</th>\n",
       "      <th>color</th>\n",
       "      <th>price</th>\n",
       "      <th>info</th>\n",
       "    </tr>\n",
       "  </thead>\n",
       "  <tbody>\n",
       "    <tr>\n",
       "      <th>0</th>\n",
       "      <td>MacBook Pro M1 2020 13\" - RAM 8GB - 256GB - NE...</td>\n",
       "      <td>https://onewaymacbook.vn/macbook-pro-m1-2020-1...</td>\n",
       "      <td>unknown</td>\n",
       "      <td>unknown</td>\n",
       "      <td>unknown</td>\n",
       "      <td>\\n                                            ...</td>\n",
       "      <td>\\n                                            ...</td>\n",
       "      <td>Loại CPU Apple Silicon M1\\nDung lượng RAM 8GB\\...</td>\n",
       "    </tr>\n",
       "    <tr>\n",
       "      <th>1</th>\n",
       "      <td>MacBook Pro M1 2020 13\" - RAM 8GB - 256GB - NE...</td>\n",
       "      <td>https://onewaymacbook.vn/macbook-pro-m1-2020-1...</td>\n",
       "      <td>unknown</td>\n",
       "      <td>unknown</td>\n",
       "      <td>unknown</td>\n",
       "      <td>\\n                                            ...</td>\n",
       "      <td>\\n                                            ...</td>\n",
       "      <td>Loại CPU Apple Silicon M1\\nDung lượng RAM 8GB\\...</td>\n",
       "    </tr>\n",
       "    <tr>\n",
       "      <th>2</th>\n",
       "      <td>MacBook Pro M1 2020 13\" - RAM 16GB - 256GB - N...</td>\n",
       "      <td>https://onewaymacbook.vn/macbook-pro-m1-2020-1...</td>\n",
       "      <td>unknown</td>\n",
       "      <td>unknown</td>\n",
       "      <td>unknown</td>\n",
       "      <td>\\n                                            ...</td>\n",
       "      <td>\\n                                            ...</td>\n",
       "      <td>Loại CPU Apple Silicon M1\\nDung lượng RAM 16GB...</td>\n",
       "    </tr>\n",
       "    <tr>\n",
       "      <th>3</th>\n",
       "      <td>MacBook Pro M1 2020 13\" - RAM 16GB - 256GB - N...</td>\n",
       "      <td>https://onewaymacbook.vn/macbook-pro-m1-2020-1...</td>\n",
       "      <td>unknown</td>\n",
       "      <td>unknown</td>\n",
       "      <td>unknown</td>\n",
       "      <td>\\n                                            ...</td>\n",
       "      <td>\\n                                            ...</td>\n",
       "      <td>Loại CPU Apple Silicon M1\\nDung lượng RAM 16GB...</td>\n",
       "    </tr>\n",
       "    <tr>\n",
       "      <th>4</th>\n",
       "      <td>MacBook Pro M1 2020 13\" - RAM 16GB - 512GB - N...</td>\n",
       "      <td>https://onewaymacbook.vn/macbook-pro-m1-2020-1...</td>\n",
       "      <td>unknown</td>\n",
       "      <td>unknown</td>\n",
       "      <td>unknown</td>\n",
       "      <td>\\n                                            ...</td>\n",
       "      <td>\\n                                            ...</td>\n",
       "      <td>Loại CPU Apple Silicon M1\\nDung lượng RAM 16GB...</td>\n",
       "    </tr>\n",
       "  </tbody>\n",
       "</table>\n",
       "</div>"
      ],
      "text/plain": [
       "                                                name  \\\n",
       "0  MacBook Pro M1 2020 13\" - RAM 8GB - 256GB - NE...   \n",
       "1  MacBook Pro M1 2020 13\" - RAM 8GB - 256GB - NE...   \n",
       "2  MacBook Pro M1 2020 13\" - RAM 16GB - 256GB - N...   \n",
       "3  MacBook Pro M1 2020 13\" - RAM 16GB - 256GB - N...   \n",
       "4  MacBook Pro M1 2020 13\" - RAM 16GB - 512GB - N...   \n",
       "\n",
       "                                                 url  url_img      rom  \\\n",
       "0  https://onewaymacbook.vn/macbook-pro-m1-2020-1...  unknown  unknown   \n",
       "1  https://onewaymacbook.vn/macbook-pro-m1-2020-1...  unknown  unknown   \n",
       "2  https://onewaymacbook.vn/macbook-pro-m1-2020-1...  unknown  unknown   \n",
       "3  https://onewaymacbook.vn/macbook-pro-m1-2020-1...  unknown  unknown   \n",
       "4  https://onewaymacbook.vn/macbook-pro-m1-2020-1...  unknown  unknown   \n",
       "\n",
       "       ram                                              color  \\\n",
       "0  unknown  \\n                                            ...   \n",
       "1  unknown  \\n                                            ...   \n",
       "2  unknown  \\n                                            ...   \n",
       "3  unknown  \\n                                            ...   \n",
       "4  unknown  \\n                                            ...   \n",
       "\n",
       "                                               price  \\\n",
       "0  \\n                                            ...   \n",
       "1  \\n                                            ...   \n",
       "2  \\n                                            ...   \n",
       "3  \\n                                            ...   \n",
       "4  \\n                                            ...   \n",
       "\n",
       "                                                info  \n",
       "0  Loại CPU Apple Silicon M1\\nDung lượng RAM 8GB\\...  \n",
       "1  Loại CPU Apple Silicon M1\\nDung lượng RAM 8GB\\...  \n",
       "2  Loại CPU Apple Silicon M1\\nDung lượng RAM 16GB...  \n",
       "3  Loại CPU Apple Silicon M1\\nDung lượng RAM 16GB...  \n",
       "4  Loại CPU Apple Silicon M1\\nDung lượng RAM 16GB...  "
      ]
     },
     "execution_count": 4,
     "metadata": {},
     "output_type": "execute_result"
    }
   ],
   "source": [
    "df_origin.head(5)"
   ]
  },
  {
   "cell_type": "code",
   "execution_count": 5,
   "metadata": {},
   "outputs": [],
   "source": [
    "df_origin['ram'] = df_origin['info'].apply(lambda x: re.sub(r'\\D', '', x.split('\\n')[1]))"
   ]
  },
  {
   "cell_type": "code",
   "execution_count": 6,
   "metadata": {},
   "outputs": [
    {
     "data": {
      "text/html": [
       "<div>\n",
       "<style scoped>\n",
       "    .dataframe tbody tr th:only-of-type {\n",
       "        vertical-align: middle;\n",
       "    }\n",
       "\n",
       "    .dataframe tbody tr th {\n",
       "        vertical-align: top;\n",
       "    }\n",
       "\n",
       "    .dataframe thead th {\n",
       "        text-align: right;\n",
       "    }\n",
       "</style>\n",
       "<table border=\"1\" class=\"dataframe\">\n",
       "  <thead>\n",
       "    <tr style=\"text-align: right;\">\n",
       "      <th></th>\n",
       "      <th>name</th>\n",
       "      <th>url</th>\n",
       "      <th>url_img</th>\n",
       "      <th>rom</th>\n",
       "      <th>ram</th>\n",
       "      <th>color</th>\n",
       "      <th>price</th>\n",
       "      <th>info</th>\n",
       "    </tr>\n",
       "  </thead>\n",
       "  <tbody>\n",
       "    <tr>\n",
       "      <th>0</th>\n",
       "      <td>MacBook Pro M1 2020 13\" - RAM 8GB - 256GB - NE...</td>\n",
       "      <td>https://onewaymacbook.vn/macbook-pro-m1-2020-1...</td>\n",
       "      <td>unknown</td>\n",
       "      <td>unknown</td>\n",
       "      <td>8</td>\n",
       "      <td>\\n                                            ...</td>\n",
       "      <td>\\n                                            ...</td>\n",
       "      <td>Loại CPU Apple Silicon M1\\nDung lượng RAM 8GB\\...</td>\n",
       "    </tr>\n",
       "    <tr>\n",
       "      <th>1</th>\n",
       "      <td>MacBook Pro M1 2020 13\" - RAM 8GB - 256GB - NE...</td>\n",
       "      <td>https://onewaymacbook.vn/macbook-pro-m1-2020-1...</td>\n",
       "      <td>unknown</td>\n",
       "      <td>unknown</td>\n",
       "      <td>8</td>\n",
       "      <td>\\n                                            ...</td>\n",
       "      <td>\\n                                            ...</td>\n",
       "      <td>Loại CPU Apple Silicon M1\\nDung lượng RAM 8GB\\...</td>\n",
       "    </tr>\n",
       "    <tr>\n",
       "      <th>2</th>\n",
       "      <td>MacBook Pro M1 2020 13\" - RAM 16GB - 256GB - N...</td>\n",
       "      <td>https://onewaymacbook.vn/macbook-pro-m1-2020-1...</td>\n",
       "      <td>unknown</td>\n",
       "      <td>unknown</td>\n",
       "      <td>16</td>\n",
       "      <td>\\n                                            ...</td>\n",
       "      <td>\\n                                            ...</td>\n",
       "      <td>Loại CPU Apple Silicon M1\\nDung lượng RAM 16GB...</td>\n",
       "    </tr>\n",
       "    <tr>\n",
       "      <th>3</th>\n",
       "      <td>MacBook Pro M1 2020 13\" - RAM 16GB - 256GB - N...</td>\n",
       "      <td>https://onewaymacbook.vn/macbook-pro-m1-2020-1...</td>\n",
       "      <td>unknown</td>\n",
       "      <td>unknown</td>\n",
       "      <td>16</td>\n",
       "      <td>\\n                                            ...</td>\n",
       "      <td>\\n                                            ...</td>\n",
       "      <td>Loại CPU Apple Silicon M1\\nDung lượng RAM 16GB...</td>\n",
       "    </tr>\n",
       "    <tr>\n",
       "      <th>4</th>\n",
       "      <td>MacBook Pro M1 2020 13\" - RAM 16GB - 512GB - N...</td>\n",
       "      <td>https://onewaymacbook.vn/macbook-pro-m1-2020-1...</td>\n",
       "      <td>unknown</td>\n",
       "      <td>unknown</td>\n",
       "      <td>16</td>\n",
       "      <td>\\n                                            ...</td>\n",
       "      <td>\\n                                            ...</td>\n",
       "      <td>Loại CPU Apple Silicon M1\\nDung lượng RAM 16GB...</td>\n",
       "    </tr>\n",
       "  </tbody>\n",
       "</table>\n",
       "</div>"
      ],
      "text/plain": [
       "                                                name  \\\n",
       "0  MacBook Pro M1 2020 13\" - RAM 8GB - 256GB - NE...   \n",
       "1  MacBook Pro M1 2020 13\" - RAM 8GB - 256GB - NE...   \n",
       "2  MacBook Pro M1 2020 13\" - RAM 16GB - 256GB - N...   \n",
       "3  MacBook Pro M1 2020 13\" - RAM 16GB - 256GB - N...   \n",
       "4  MacBook Pro M1 2020 13\" - RAM 16GB - 512GB - N...   \n",
       "\n",
       "                                                 url  url_img      rom ram  \\\n",
       "0  https://onewaymacbook.vn/macbook-pro-m1-2020-1...  unknown  unknown   8   \n",
       "1  https://onewaymacbook.vn/macbook-pro-m1-2020-1...  unknown  unknown   8   \n",
       "2  https://onewaymacbook.vn/macbook-pro-m1-2020-1...  unknown  unknown  16   \n",
       "3  https://onewaymacbook.vn/macbook-pro-m1-2020-1...  unknown  unknown  16   \n",
       "4  https://onewaymacbook.vn/macbook-pro-m1-2020-1...  unknown  unknown  16   \n",
       "\n",
       "                                               color  \\\n",
       "0  \\n                                            ...   \n",
       "1  \\n                                            ...   \n",
       "2  \\n                                            ...   \n",
       "3  \\n                                            ...   \n",
       "4  \\n                                            ...   \n",
       "\n",
       "                                               price  \\\n",
       "0  \\n                                            ...   \n",
       "1  \\n                                            ...   \n",
       "2  \\n                                            ...   \n",
       "3  \\n                                            ...   \n",
       "4  \\n                                            ...   \n",
       "\n",
       "                                                info  \n",
       "0  Loại CPU Apple Silicon M1\\nDung lượng RAM 8GB\\...  \n",
       "1  Loại CPU Apple Silicon M1\\nDung lượng RAM 8GB\\...  \n",
       "2  Loại CPU Apple Silicon M1\\nDung lượng RAM 16GB...  \n",
       "3  Loại CPU Apple Silicon M1\\nDung lượng RAM 16GB...  \n",
       "4  Loại CPU Apple Silicon M1\\nDung lượng RAM 16GB...  "
      ]
     },
     "execution_count": 6,
     "metadata": {},
     "output_type": "execute_result"
    }
   ],
   "source": [
    "df_origin.head()"
   ]
  },
  {
   "cell_type": "code",
   "execution_count": 7,
   "metadata": {},
   "outputs": [
    {
     "name": "stdout",
     "output_type": "stream",
     "text": [
      "name                \tname                \t1.0\n",
      "url                 \turl                 \t1.0\n",
      "url_img             \turl_img             \t1.0\n",
      "rom                 \trom                 \t1.0\n",
      "ram                 \tram                 \t1.0\n",
      "ram                 \tram                 \t1.0\n",
      "ram                 \tram                 \t1.0\n",
      "color               \tcolor               \t1.0\n",
      "price               \tprice               \t1.0\n"
     ]
    }
   ],
   "source": [
    "data = matchingSystem.pipelineMatching(df_origin)"
   ]
  },
  {
   "cell_type": "code",
   "execution_count": 11,
   "metadata": {},
   "outputs": [],
   "source": [
    "#newDf = preprocess.extractRamFromName(data)\n",
    "newDf = preprocess.extractRomFromName(data)\n",
    "newDf = preprocess.preprocessData(newDf, status=0)\n",
    "newDf = preprocess.preprocessColor(newDf)"
   ]
  },
  {
   "cell_type": "code",
   "execution_count": 12,
   "metadata": {},
   "outputs": [],
   "source": [
    "data['ram'] = data['ram'].astype('int64')\n",
    "data['rom'] = data['rom'].astype('int64')\n",
    "data['price'] = data['price'].astype('int64')\n",
    "data['status'] = data['status'].astype('int64')"
   ]
  },
  {
   "cell_type": "code",
   "execution_count": 13,
   "metadata": {},
   "outputs": [],
   "source": [
    "newDf.drop_duplicates(inplace=True)"
   ]
  },
  {
   "cell_type": "code",
   "execution_count": 14,
   "metadata": {},
   "outputs": [],
   "source": [
    "newDf['store'] = 'onewaymobile'"
   ]
  },
  {
   "cell_type": "code",
   "execution_count": 15,
   "metadata": {},
   "outputs": [
    {
     "data": {
      "text/html": [
       "<div>\n",
       "<style scoped>\n",
       "    .dataframe tbody tr th:only-of-type {\n",
       "        vertical-align: middle;\n",
       "    }\n",
       "\n",
       "    .dataframe tbody tr th {\n",
       "        vertical-align: top;\n",
       "    }\n",
       "\n",
       "    .dataframe thead th {\n",
       "        text-align: right;\n",
       "    }\n",
       "</style>\n",
       "<table border=\"1\" class=\"dataframe\">\n",
       "  <thead>\n",
       "    <tr style=\"text-align: right;\">\n",
       "      <th></th>\n",
       "      <th>name</th>\n",
       "      <th>url</th>\n",
       "      <th>ram</th>\n",
       "      <th>rom</th>\n",
       "      <th>price</th>\n",
       "      <th>createdDate</th>\n",
       "      <th>color</th>\n",
       "      <th>status</th>\n",
       "      <th>url_img</th>\n",
       "      <th>store</th>\n",
       "    </tr>\n",
       "  </thead>\n",
       "  <tbody>\n",
       "    <tr>\n",
       "      <th>0</th>\n",
       "      <td>MACBOOK PRO</td>\n",
       "      <td>https://onewaymacbook.vn/macbook-pro-m1-2020-1...</td>\n",
       "      <td>8</td>\n",
       "      <td>256</td>\n",
       "      <td>27090000</td>\n",
       "      <td>2022-12-26 19:53:56.423963</td>\n",
       "      <td>SILVER</td>\n",
       "      <td>0</td>\n",
       "      <td>unknown</td>\n",
       "      <td>onewaymobile</td>\n",
       "    </tr>\n",
       "    <tr>\n",
       "      <th>1</th>\n",
       "      <td>MACBOOK PRO</td>\n",
       "      <td>https://onewaymacbook.vn/macbook-pro-m1-2020-1...</td>\n",
       "      <td>8</td>\n",
       "      <td>256</td>\n",
       "      <td>27090000</td>\n",
       "      <td>2022-12-26 19:53:56.423963</td>\n",
       "      <td>GRAY</td>\n",
       "      <td>0</td>\n",
       "      <td>unknown</td>\n",
       "      <td>onewaymobile</td>\n",
       "    </tr>\n",
       "    <tr>\n",
       "      <th>2</th>\n",
       "      <td>MACBOOK PRO</td>\n",
       "      <td>https://onewaymacbook.vn/macbook-pro-m1-2020-1...</td>\n",
       "      <td>16</td>\n",
       "      <td>16</td>\n",
       "      <td>35490000</td>\n",
       "      <td>2022-12-26 19:53:56.423963</td>\n",
       "      <td>SILVER</td>\n",
       "      <td>0</td>\n",
       "      <td>unknown</td>\n",
       "      <td>onewaymobile</td>\n",
       "    </tr>\n",
       "    <tr>\n",
       "      <th>3</th>\n",
       "      <td>MACBOOK PRO</td>\n",
       "      <td>https://onewaymacbook.vn/macbook-pro-m1-2020-1...</td>\n",
       "      <td>16</td>\n",
       "      <td>16</td>\n",
       "      <td>35490000</td>\n",
       "      <td>2022-12-26 19:53:56.423963</td>\n",
       "      <td>GRAY</td>\n",
       "      <td>0</td>\n",
       "      <td>unknown</td>\n",
       "      <td>onewaymobile</td>\n",
       "    </tr>\n",
       "    <tr>\n",
       "      <th>4</th>\n",
       "      <td>MACBOOK PRO</td>\n",
       "      <td>https://onewaymacbook.vn/macbook-pro-m1-2020-1...</td>\n",
       "      <td>16</td>\n",
       "      <td>16</td>\n",
       "      <td>39290000</td>\n",
       "      <td>2022-12-26 19:53:56.423963</td>\n",
       "      <td>SILVER</td>\n",
       "      <td>0</td>\n",
       "      <td>unknown</td>\n",
       "      <td>onewaymobile</td>\n",
       "    </tr>\n",
       "  </tbody>\n",
       "</table>\n",
       "</div>"
      ],
      "text/plain": [
       "          name                                                url  ram  rom  \\\n",
       "0  MACBOOK PRO  https://onewaymacbook.vn/macbook-pro-m1-2020-1...    8  256   \n",
       "1  MACBOOK PRO  https://onewaymacbook.vn/macbook-pro-m1-2020-1...    8  256   \n",
       "2  MACBOOK PRO  https://onewaymacbook.vn/macbook-pro-m1-2020-1...   16   16   \n",
       "3  MACBOOK PRO  https://onewaymacbook.vn/macbook-pro-m1-2020-1...   16   16   \n",
       "4  MACBOOK PRO  https://onewaymacbook.vn/macbook-pro-m1-2020-1...   16   16   \n",
       "\n",
       "      price                createdDate   color  status  url_img         store  \n",
       "0  27090000 2022-12-26 19:53:56.423963  SILVER       0  unknown  onewaymobile  \n",
       "1  27090000 2022-12-26 19:53:56.423963    GRAY       0  unknown  onewaymobile  \n",
       "2  35490000 2022-12-26 19:53:56.423963  SILVER       0  unknown  onewaymobile  \n",
       "3  35490000 2022-12-26 19:53:56.423963    GRAY       0  unknown  onewaymobile  \n",
       "4  39290000 2022-12-26 19:53:56.423963  SILVER       0  unknown  onewaymobile  "
      ]
     },
     "execution_count": 15,
     "metadata": {},
     "output_type": "execute_result"
    }
   ],
   "source": [
    "newDf.head(5)"
   ]
  },
  {
   "cell_type": "code",
   "execution_count": 16,
   "metadata": {},
   "outputs": [
    {
     "data": {
      "text/plain": [
       "name                   object\n",
       "url                    object\n",
       "ram                     int64\n",
       "rom                     int64\n",
       "price                   int64\n",
       "createdDate    datetime64[ns]\n",
       "color                  object\n",
       "status                  int64\n",
       "url_img                object\n",
       "store                  object\n",
       "dtype: object"
      ]
     },
     "execution_count": 16,
     "metadata": {},
     "output_type": "execute_result"
    }
   ],
   "source": [
    "newDf.dtypes"
   ]
  },
  {
   "cell_type": "code",
   "execution_count": 17,
   "metadata": {},
   "outputs": [],
   "source": [
    "newDf.to_csv('../../datamatching/data/onewaymobile-mac.csv')"
   ]
  },
  {
   "cell_type": "code",
   "execution_count": 18,
   "metadata": {},
   "outputs": [
    {
     "data": {
      "text/plain": [
       "60"
      ]
     },
     "execution_count": 18,
     "metadata": {},
     "output_type": "execute_result"
    }
   ],
   "source": [
    "len(newDf)"
   ]
  }
 ],
 "metadata": {
  "kernelspec": {
   "display_name": "Python 3.10.4 ('crawler')",
   "language": "python",
   "name": "python3"
  },
  "language_info": {
   "codemirror_mode": {
    "name": "ipython",
    "version": 3
   },
   "file_extension": ".py",
   "mimetype": "text/x-python",
   "name": "python",
   "nbconvert_exporter": "python",
   "pygments_lexer": "ipython3",
   "version": "3.10.4"
  },
  "orig_nbformat": 4,
  "vscode": {
   "interpreter": {
    "hash": "308d8f8c5f56baa072876887063e484fb088d633444accbe0bc991378c9ebf3b"
   }
  }
 },
 "nbformat": 4,
 "nbformat_minor": 2
}
