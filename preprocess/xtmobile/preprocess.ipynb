{
 "cells": [
  {
   "cell_type": "code",
   "execution_count": 1,
   "metadata": {},
   "outputs": [],
   "source": [
    "import pandas as pd\n",
    "import json\n",
    "from datetime import datetime\n",
    "import pandas as pd\n",
    "import sys\n",
    "sys.path.insert(0, \"..\")\n",
    "from mypackage.MatchingSystem import MatchingSystem\n",
    "from mypackage.PreprocessData import PreprocessData"
   ]
  },
  {
   "cell_type": "code",
   "execution_count": 2,
   "metadata": {},
   "outputs": [],
   "source": [
    "createdDate = datetime.now()\n",
    "matchingSystem = MatchingSystem()\n",
    "preprocess = PreprocessData()"
   ]
  },
  {
   "cell_type": "code",
   "execution_count": 3,
   "metadata": {},
   "outputs": [],
   "source": [
    "df_origin = pd.read_json('./data.json')"
   ]
  },
  {
   "cell_type": "code",
   "execution_count": 4,
   "metadata": {},
   "outputs": [
    {
     "name": "stdout",
     "output_type": "stream",
     "text": [
      "color               \tcolor               \t1.0\n",
      "price               \tprice               \t1.0\n",
      "url                 \turl                 \t1.0\n",
      "name                \tname                \t1.0\n",
      "rom                 \trom                 \t1.0\n",
      "url_img             \turl_img             \t1.0\n"
     ]
    }
   ],
   "source": [
    "data = matchingSystem.pipelineMatching(df_origin)"
   ]
  },
  {
   "cell_type": "code",
   "execution_count": 5,
   "metadata": {},
   "outputs": [
    {
     "data": {
      "text/html": [
       "<div>\n",
       "<style scoped>\n",
       "    .dataframe tbody tr th:only-of-type {\n",
       "        vertical-align: middle;\n",
       "    }\n",
       "\n",
       "    .dataframe tbody tr th {\n",
       "        vertical-align: top;\n",
       "    }\n",
       "\n",
       "    .dataframe thead th {\n",
       "        text-align: right;\n",
       "    }\n",
       "</style>\n",
       "<table border=\"1\" class=\"dataframe\">\n",
       "  <thead>\n",
       "    <tr style=\"text-align: right;\">\n",
       "      <th></th>\n",
       "      <th>name</th>\n",
       "      <th>url</th>\n",
       "      <th>ram</th>\n",
       "      <th>rom</th>\n",
       "      <th>price</th>\n",
       "      <th>createdDate</th>\n",
       "      <th>color</th>\n",
       "      <th>status</th>\n",
       "      <th>url_img</th>\n",
       "    </tr>\n",
       "  </thead>\n",
       "  <tbody>\n",
       "    <tr>\n",
       "      <th>0</th>\n",
       "      <td>iPhone 14 Pro Max 128GB Chính hãng (VN/A)</td>\n",
       "      <td>https://www.xtmobile.vn/iphone-14-pro-max-chin...</td>\n",
       "      <td>NaN</td>\n",
       "      <td>128GB</td>\n",
       "      <td>31.790.000đ</td>\n",
       "      <td>NaN</td>\n",
       "      <td>Vàng</td>\n",
       "      <td>NaN</td>\n",
       "      <td>https://www.xtmobile.vn/vnt_upload/product/10_...</td>\n",
       "    </tr>\n",
       "    <tr>\n",
       "      <th>1</th>\n",
       "      <td>iPhone 14 Pro Max 128GB Chính hãng (VN/A)</td>\n",
       "      <td>https://www.xtmobile.vn/iphone-14-pro-max-chin...</td>\n",
       "      <td>NaN</td>\n",
       "      <td>128GB</td>\n",
       "      <td>32.290.000đ</td>\n",
       "      <td>NaN</td>\n",
       "      <td>Đen</td>\n",
       "      <td>NaN</td>\n",
       "      <td>https://www.xtmobile.vn/vnt_upload/product/10_...</td>\n",
       "    </tr>\n",
       "    <tr>\n",
       "      <th>2</th>\n",
       "      <td>iPhone 14 Pro Max 128GB Chính hãng (VN/A)</td>\n",
       "      <td>https://www.xtmobile.vn/iphone-14-pro-max-chin...</td>\n",
       "      <td>NaN</td>\n",
       "      <td>128GB</td>\n",
       "      <td>33.190.000đ</td>\n",
       "      <td>NaN</td>\n",
       "      <td>Bạc</td>\n",
       "      <td>NaN</td>\n",
       "      <td>https://www.xtmobile.vn/vnt_upload/product/10_...</td>\n",
       "    </tr>\n",
       "    <tr>\n",
       "      <th>3</th>\n",
       "      <td>iPhone 14 Pro Max 128GB Chính hãng (VN/A)</td>\n",
       "      <td>https://www.xtmobile.vn/iphone-14-pro-max-chin...</td>\n",
       "      <td>NaN</td>\n",
       "      <td>128GB</td>\n",
       "      <td>33.990.000đ</td>\n",
       "      <td>NaN</td>\n",
       "      <td>Tím</td>\n",
       "      <td>NaN</td>\n",
       "      <td>https://www.xtmobile.vn/vnt_upload/product/10_...</td>\n",
       "    </tr>\n",
       "    <tr>\n",
       "      <th>4</th>\n",
       "      <td>iPhone 14 Pro Max 256GB Chính hãng (VN/A)</td>\n",
       "      <td>https://www.xtmobile.vn/iphone-14-pro-max-256gb</td>\n",
       "      <td>NaN</td>\n",
       "      <td>256GB</td>\n",
       "      <td>36.290.000đ</td>\n",
       "      <td>NaN</td>\n",
       "      <td>Vàng</td>\n",
       "      <td>NaN</td>\n",
       "      <td>https://www.xtmobile.vn/vnt_upload/product/10_...</td>\n",
       "    </tr>\n",
       "  </tbody>\n",
       "</table>\n",
       "</div>"
      ],
      "text/plain": [
       "                                        name  \\\n",
       "0  iPhone 14 Pro Max 128GB Chính hãng (VN/A)   \n",
       "1  iPhone 14 Pro Max 128GB Chính hãng (VN/A)   \n",
       "2  iPhone 14 Pro Max 128GB Chính hãng (VN/A)   \n",
       "3  iPhone 14 Pro Max 128GB Chính hãng (VN/A)   \n",
       "4  iPhone 14 Pro Max 256GB Chính hãng (VN/A)   \n",
       "\n",
       "                                                 url  ram    rom        price  \\\n",
       "0  https://www.xtmobile.vn/iphone-14-pro-max-chin...  NaN  128GB  31.790.000đ   \n",
       "1  https://www.xtmobile.vn/iphone-14-pro-max-chin...  NaN  128GB  32.290.000đ   \n",
       "2  https://www.xtmobile.vn/iphone-14-pro-max-chin...  NaN  128GB  33.190.000đ   \n",
       "3  https://www.xtmobile.vn/iphone-14-pro-max-chin...  NaN  128GB  33.990.000đ   \n",
       "4    https://www.xtmobile.vn/iphone-14-pro-max-256gb  NaN  256GB  36.290.000đ   \n",
       "\n",
       "  createdDate color status                                            url_img  \n",
       "0         NaN  Vàng    NaN  https://www.xtmobile.vn/vnt_upload/product/10_...  \n",
       "1         NaN   Đen    NaN  https://www.xtmobile.vn/vnt_upload/product/10_...  \n",
       "2         NaN   Bạc    NaN  https://www.xtmobile.vn/vnt_upload/product/10_...  \n",
       "3         NaN   Tím    NaN  https://www.xtmobile.vn/vnt_upload/product/10_...  \n",
       "4         NaN  Vàng    NaN  https://www.xtmobile.vn/vnt_upload/product/10_...  "
      ]
     },
     "execution_count": 5,
     "metadata": {},
     "output_type": "execute_result"
    }
   ],
   "source": [
    "data.head()"
   ]
  },
  {
   "cell_type": "code",
   "execution_count": 6,
   "metadata": {},
   "outputs": [],
   "source": [
    "newDf = preprocess.extractRamFromName(data)\n",
    "newDf = preprocess.extractRomFromName(newDf)\n",
    "newDf = preprocess.preprocessData(newDf)"
   ]
  },
  {
   "cell_type": "code",
   "execution_count": 7,
   "metadata": {},
   "outputs": [
    {
     "data": {
      "text/html": [
       "<div>\n",
       "<style scoped>\n",
       "    .dataframe tbody tr th:only-of-type {\n",
       "        vertical-align: middle;\n",
       "    }\n",
       "\n",
       "    .dataframe tbody tr th {\n",
       "        vertical-align: top;\n",
       "    }\n",
       "\n",
       "    .dataframe thead th {\n",
       "        text-align: right;\n",
       "    }\n",
       "</style>\n",
       "<table border=\"1\" class=\"dataframe\">\n",
       "  <thead>\n",
       "    <tr style=\"text-align: right;\">\n",
       "      <th></th>\n",
       "      <th>name</th>\n",
       "      <th>url</th>\n",
       "      <th>ram</th>\n",
       "      <th>rom</th>\n",
       "      <th>price</th>\n",
       "      <th>createdDate</th>\n",
       "      <th>color</th>\n",
       "      <th>status</th>\n",
       "      <th>url_img</th>\n",
       "    </tr>\n",
       "  </thead>\n",
       "  <tbody>\n",
       "    <tr>\n",
       "      <th>0</th>\n",
       "      <td>IPHONE 14 PRO MAX</td>\n",
       "      <td>https://www.xtmobile.vn/iphone-14-pro-max-chin...</td>\n",
       "      <td>6</td>\n",
       "      <td>128</td>\n",
       "      <td>31790000</td>\n",
       "      <td>2022-11-27 15:48:10.402643</td>\n",
       "      <td>Yellow</td>\n",
       "      <td>1</td>\n",
       "      <td>https://www.xtmobile.vn/vnt_upload/product/10_...</td>\n",
       "    </tr>\n",
       "    <tr>\n",
       "      <th>1</th>\n",
       "      <td>IPHONE 14 PRO MAX</td>\n",
       "      <td>https://www.xtmobile.vn/iphone-14-pro-max-chin...</td>\n",
       "      <td>6</td>\n",
       "      <td>128</td>\n",
       "      <td>32290000</td>\n",
       "      <td>2022-11-27 15:48:10.402643</td>\n",
       "      <td>Black</td>\n",
       "      <td>1</td>\n",
       "      <td>https://www.xtmobile.vn/vnt_upload/product/10_...</td>\n",
       "    </tr>\n",
       "    <tr>\n",
       "      <th>2</th>\n",
       "      <td>IPHONE 14 PRO MAX</td>\n",
       "      <td>https://www.xtmobile.vn/iphone-14-pro-max-chin...</td>\n",
       "      <td>6</td>\n",
       "      <td>128</td>\n",
       "      <td>33190000</td>\n",
       "      <td>2022-11-27 15:48:10.402643</td>\n",
       "      <td>Silver</td>\n",
       "      <td>1</td>\n",
       "      <td>https://www.xtmobile.vn/vnt_upload/product/10_...</td>\n",
       "    </tr>\n",
       "    <tr>\n",
       "      <th>3</th>\n",
       "      <td>IPHONE 14 PRO MAX</td>\n",
       "      <td>https://www.xtmobile.vn/iphone-14-pro-max-chin...</td>\n",
       "      <td>6</td>\n",
       "      <td>128</td>\n",
       "      <td>33990000</td>\n",
       "      <td>2022-11-27 15:48:10.402643</td>\n",
       "      <td>Purple</td>\n",
       "      <td>1</td>\n",
       "      <td>https://www.xtmobile.vn/vnt_upload/product/10_...</td>\n",
       "    </tr>\n",
       "    <tr>\n",
       "      <th>4</th>\n",
       "      <td>IPHONE 14 PRO MAX</td>\n",
       "      <td>https://www.xtmobile.vn/iphone-14-pro-max-256gb</td>\n",
       "      <td>6</td>\n",
       "      <td>256</td>\n",
       "      <td>36290000</td>\n",
       "      <td>2022-11-27 15:48:10.402643</td>\n",
       "      <td>Yellow</td>\n",
       "      <td>1</td>\n",
       "      <td>https://www.xtmobile.vn/vnt_upload/product/10_...</td>\n",
       "    </tr>\n",
       "  </tbody>\n",
       "</table>\n",
       "</div>"
      ],
      "text/plain": [
       "                name                                                url  ram  \\\n",
       "0  IPHONE 14 PRO MAX  https://www.xtmobile.vn/iphone-14-pro-max-chin...    6   \n",
       "1  IPHONE 14 PRO MAX  https://www.xtmobile.vn/iphone-14-pro-max-chin...    6   \n",
       "2  IPHONE 14 PRO MAX  https://www.xtmobile.vn/iphone-14-pro-max-chin...    6   \n",
       "3  IPHONE 14 PRO MAX  https://www.xtmobile.vn/iphone-14-pro-max-chin...    6   \n",
       "4  IPHONE 14 PRO MAX    https://www.xtmobile.vn/iphone-14-pro-max-256gb    6   \n",
       "\n",
       "   rom     price                createdDate   color  status  \\\n",
       "0  128  31790000 2022-11-27 15:48:10.402643  Yellow       1   \n",
       "1  128  32290000 2022-11-27 15:48:10.402643   Black       1   \n",
       "2  128  33190000 2022-11-27 15:48:10.402643  Silver       1   \n",
       "3  128  33990000 2022-11-27 15:48:10.402643  Purple       1   \n",
       "4  256  36290000 2022-11-27 15:48:10.402643  Yellow       1   \n",
       "\n",
       "                                             url_img  \n",
       "0  https://www.xtmobile.vn/vnt_upload/product/10_...  \n",
       "1  https://www.xtmobile.vn/vnt_upload/product/10_...  \n",
       "2  https://www.xtmobile.vn/vnt_upload/product/10_...  \n",
       "3  https://www.xtmobile.vn/vnt_upload/product/10_...  \n",
       "4  https://www.xtmobile.vn/vnt_upload/product/10_...  "
      ]
     },
     "execution_count": 7,
     "metadata": {},
     "output_type": "execute_result"
    }
   ],
   "source": [
    "newDf.head()"
   ]
  },
  {
   "cell_type": "code",
   "execution_count": 8,
   "metadata": {},
   "outputs": [],
   "source": [
    "df_obj = newDf.select_dtypes(['object'])"
   ]
  },
  {
   "cell_type": "code",
   "execution_count": 9,
   "metadata": {},
   "outputs": [],
   "source": [
    "newDf['price'] = df_obj.price.apply(lambda x: int(x.strip().replace('đ', '').replace('.', '')))"
   ]
  },
  {
   "cell_type": "code",
   "execution_count": 10,
   "metadata": {},
   "outputs": [],
   "source": [
    "newDf.to_csv('../../datamatching/data/xtmobile-iphone.csv')"
   ]
  }
 ],
 "metadata": {
  "kernelspec": {
   "display_name": "Python 3.10.4 ('crawler')",
   "language": "python",
   "name": "python3"
  },
  "language_info": {
   "codemirror_mode": {
    "name": "ipython",
    "version": 3
   },
   "file_extension": ".py",
   "mimetype": "text/x-python",
   "name": "python",
   "nbconvert_exporter": "python",
   "pygments_lexer": "ipython3",
   "version": "3.10.4"
  },
  "orig_nbformat": 4,
  "vscode": {
   "interpreter": {
    "hash": "308d8f8c5f56baa072876887063e484fb088d633444accbe0bc991378c9ebf3b"
   }
  }
 },
 "nbformat": 4,
 "nbformat_minor": 2
}
