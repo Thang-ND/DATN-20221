{
 "cells": [
  {
   "cell_type": "code",
   "execution_count": 1,
   "metadata": {},
   "outputs": [],
   "source": [
    "import pandas as pd"
   ]
  },
  {
   "cell_type": "code",
   "execution_count": 2,
   "metadata": {},
   "outputs": [],
   "source": [
    "df = pd.read_json('./data-iphone.json')"
   ]
  },
  {
   "cell_type": "code",
   "execution_count": 3,
   "metadata": {},
   "outputs": [
    {
     "data": {
      "text/html": [
       "<div>\n",
       "<style scoped>\n",
       "    .dataframe tbody tr th:only-of-type {\n",
       "        vertical-align: middle;\n",
       "    }\n",
       "\n",
       "    .dataframe tbody tr th {\n",
       "        vertical-align: top;\n",
       "    }\n",
       "\n",
       "    .dataframe thead th {\n",
       "        text-align: right;\n",
       "    }\n",
       "</style>\n",
       "<table border=\"1\" class=\"dataframe\">\n",
       "  <thead>\n",
       "    <tr style=\"text-align: right;\">\n",
       "      <th></th>\n",
       "      <th>color</th>\n",
       "      <th>price</th>\n",
       "      <th>url</th>\n",
       "      <th>name</th>\n",
       "      <th>rom</th>\n",
       "      <th>url_img</th>\n",
       "    </tr>\n",
       "  </thead>\n",
       "  <tbody>\n",
       "    <tr>\n",
       "      <th>0</th>\n",
       "      <td>\\n                                &lt;input type=...</td>\n",
       "      <td>4.390.000</td>\n",
       "      <td>https://www.viettablet.com/iphone-x-cu-like-ne...</td>\n",
       "      <td>iPhone X 64GB Quốc Tế Cũ Like New 99%</td>\n",
       "      <td>unknown</td>\n",
       "      <td>unknown</td>\n",
       "    </tr>\n",
       "    <tr>\n",
       "      <th>1</th>\n",
       "      <td>\\n                                &lt;input type=...</td>\n",
       "      <td>4.690.000</td>\n",
       "      <td>https://www.viettablet.com/iphone-x-cu-like-ne...</td>\n",
       "      <td>iPhone X 64GB Quốc Tế Cũ Like New 99%</td>\n",
       "      <td>unknown</td>\n",
       "      <td>unknown</td>\n",
       "    </tr>\n",
       "    <tr>\n",
       "      <th>2</th>\n",
       "      <td>\\n                                &lt;input type=...</td>\n",
       "      <td>11.990.000</td>\n",
       "      <td>https://www.viettablet.com/iphone-12-64gb-chin...</td>\n",
       "      <td>iPhone 12 64GB Mới 100% fullbox Active Online</td>\n",
       "      <td>unknown</td>\n",
       "      <td>unknown</td>\n",
       "    </tr>\n",
       "    <tr>\n",
       "      <th>3</th>\n",
       "      <td>\\n                                &lt;input type=...</td>\n",
       "      <td>12.490.000</td>\n",
       "      <td>https://www.viettablet.com/iphone-12-64gb-chin...</td>\n",
       "      <td>iPhone 12 64GB Mới 100% fullbox Active Online</td>\n",
       "      <td>unknown</td>\n",
       "      <td>unknown</td>\n",
       "    </tr>\n",
       "    <tr>\n",
       "      <th>4</th>\n",
       "      <td>\\n                                &lt;input type=...</td>\n",
       "      <td>12.590.000</td>\n",
       "      <td>https://www.viettablet.com/iphone-12-64gb-chin...</td>\n",
       "      <td>iPhone 12 64GB Mới 100% fullbox Active Online</td>\n",
       "      <td>unknown</td>\n",
       "      <td>unknown</td>\n",
       "    </tr>\n",
       "  </tbody>\n",
       "</table>\n",
       "</div>"
      ],
      "text/plain": [
       "                                               color       price  \\\n",
       "0  \\n                                <input type=...   4.390.000   \n",
       "1  \\n                                <input type=...   4.690.000   \n",
       "2  \\n                                <input type=...  11.990.000   \n",
       "3  \\n                                <input type=...  12.490.000   \n",
       "4  \\n                                <input type=...  12.590.000   \n",
       "\n",
       "                                                 url  \\\n",
       "0  https://www.viettablet.com/iphone-x-cu-like-ne...   \n",
       "1  https://www.viettablet.com/iphone-x-cu-like-ne...   \n",
       "2  https://www.viettablet.com/iphone-12-64gb-chin...   \n",
       "3  https://www.viettablet.com/iphone-12-64gb-chin...   \n",
       "4  https://www.viettablet.com/iphone-12-64gb-chin...   \n",
       "\n",
       "                                            name      rom  url_img  \n",
       "0          iPhone X 64GB Quốc Tế Cũ Like New 99%  unknown  unknown  \n",
       "1          iPhone X 64GB Quốc Tế Cũ Like New 99%  unknown  unknown  \n",
       "2  iPhone 12 64GB Mới 100% fullbox Active Online  unknown  unknown  \n",
       "3  iPhone 12 64GB Mới 100% fullbox Active Online  unknown  unknown  \n",
       "4  iPhone 12 64GB Mới 100% fullbox Active Online  unknown  unknown  "
      ]
     },
     "execution_count": 3,
     "metadata": {},
     "output_type": "execute_result"
    }
   ],
   "source": [
    "df.head()"
   ]
  },
  {
   "cell_type": "code",
   "execution_count": 5,
   "metadata": {},
   "outputs": [],
   "source": [
    "df['extract'] = df['color'].apply(lambda x: x.split('</i>')[1].split('<span')[0].replace('\\n','').strip())"
   ]
  },
  {
   "cell_type": "code",
   "execution_count": 15,
   "metadata": {},
   "outputs": [],
   "source": [
    "def checkIsAlNum(string):\n",
    "    res = ''.join(e for e in string if e.isalnum() or e == ' ')\n",
    "    res = ''.join(e for e in res if not e.isdigit() or e == ' ')\n",
    "    return res"
   ]
  },
  {
   "cell_type": "code",
   "execution_count": 16,
   "metadata": {},
   "outputs": [],
   "source": [
    "df['color'] = df['extract'].apply(checkIsAlNum)"
   ]
  },
  {
   "cell_type": "code",
   "execution_count": 17,
   "metadata": {},
   "outputs": [
    {
     "data": {
      "text/html": [
       "<div>\n",
       "<style scoped>\n",
       "    .dataframe tbody tr th:only-of-type {\n",
       "        vertical-align: middle;\n",
       "    }\n",
       "\n",
       "    .dataframe tbody tr th {\n",
       "        vertical-align: top;\n",
       "    }\n",
       "\n",
       "    .dataframe thead th {\n",
       "        text-align: right;\n",
       "    }\n",
       "</style>\n",
       "<table border=\"1\" class=\"dataframe\">\n",
       "  <thead>\n",
       "    <tr style=\"text-align: right;\">\n",
       "      <th></th>\n",
       "      <th>color</th>\n",
       "      <th>price</th>\n",
       "      <th>url</th>\n",
       "      <th>name</th>\n",
       "      <th>rom</th>\n",
       "      <th>url_img</th>\n",
       "      <th>extract</th>\n",
       "    </tr>\n",
       "  </thead>\n",
       "  <tbody>\n",
       "    <tr>\n",
       "      <th>0</th>\n",
       "      <td>Đen</td>\n",
       "      <td>4.390.000</td>\n",
       "      <td>https://www.viettablet.com/iphone-x-cu-like-ne...</td>\n",
       "      <td>iPhone X 64GB Quốc Tế Cũ Like New 99%</td>\n",
       "      <td>unknown</td>\n",
       "      <td>unknown</td>\n",
       "      <td>Đen 99%</td>\n",
       "    </tr>\n",
       "    <tr>\n",
       "      <th>1</th>\n",
       "      <td>Trắng</td>\n",
       "      <td>4.690.000</td>\n",
       "      <td>https://www.viettablet.com/iphone-x-cu-like-ne...</td>\n",
       "      <td>iPhone X 64GB Quốc Tế Cũ Like New 99%</td>\n",
       "      <td>unknown</td>\n",
       "      <td>unknown</td>\n",
       "      <td>Trắng 99%</td>\n",
       "    </tr>\n",
       "    <tr>\n",
       "      <th>2</th>\n",
       "      <td>Xanh lá</td>\n",
       "      <td>11.990.000</td>\n",
       "      <td>https://www.viettablet.com/iphone-12-64gb-chin...</td>\n",
       "      <td>iPhone 12 64GB Mới 100% fullbox Active Online</td>\n",
       "      <td>unknown</td>\n",
       "      <td>unknown</td>\n",
       "      <td>Xanh lá</td>\n",
       "    </tr>\n",
       "    <tr>\n",
       "      <th>3</th>\n",
       "      <td>Đen</td>\n",
       "      <td>12.490.000</td>\n",
       "      <td>https://www.viettablet.com/iphone-12-64gb-chin...</td>\n",
       "      <td>iPhone 12 64GB Mới 100% fullbox Active Online</td>\n",
       "      <td>unknown</td>\n",
       "      <td>unknown</td>\n",
       "      <td>Đen</td>\n",
       "    </tr>\n",
       "    <tr>\n",
       "      <th>4</th>\n",
       "      <td>Đỏ</td>\n",
       "      <td>12.590.000</td>\n",
       "      <td>https://www.viettablet.com/iphone-12-64gb-chin...</td>\n",
       "      <td>iPhone 12 64GB Mới 100% fullbox Active Online</td>\n",
       "      <td>unknown</td>\n",
       "      <td>unknown</td>\n",
       "      <td>Đỏ</td>\n",
       "    </tr>\n",
       "  </tbody>\n",
       "</table>\n",
       "</div>"
      ],
      "text/plain": [
       "     color       price                                                url  \\\n",
       "0     Đen    4.390.000  https://www.viettablet.com/iphone-x-cu-like-ne...   \n",
       "1   Trắng    4.690.000  https://www.viettablet.com/iphone-x-cu-like-ne...   \n",
       "2  Xanh lá  11.990.000  https://www.viettablet.com/iphone-12-64gb-chin...   \n",
       "3      Đen  12.490.000  https://www.viettablet.com/iphone-12-64gb-chin...   \n",
       "4       Đỏ  12.590.000  https://www.viettablet.com/iphone-12-64gb-chin...   \n",
       "\n",
       "                                            name      rom  url_img    extract  \n",
       "0          iPhone X 64GB Quốc Tế Cũ Like New 99%  unknown  unknown    Đen 99%  \n",
       "1          iPhone X 64GB Quốc Tế Cũ Like New 99%  unknown  unknown  Trắng 99%  \n",
       "2  iPhone 12 64GB Mới 100% fullbox Active Online  unknown  unknown    Xanh lá  \n",
       "3  iPhone 12 64GB Mới 100% fullbox Active Online  unknown  unknown        Đen  \n",
       "4  iPhone 12 64GB Mới 100% fullbox Active Online  unknown  unknown         Đỏ  "
      ]
     },
     "execution_count": 17,
     "metadata": {},
     "output_type": "execute_result"
    }
   ],
   "source": [
    "df.head()"
   ]
  }
 ],
 "metadata": {
  "kernelspec": {
   "display_name": "crawler",
   "language": "python",
   "name": "python3"
  },
  "language_info": {
   "codemirror_mode": {
    "name": "ipython",
    "version": 3
   },
   "file_extension": ".py",
   "mimetype": "text/x-python",
   "name": "python",
   "nbconvert_exporter": "python",
   "pygments_lexer": "ipython3",
   "version": "3.10.4"
  },
  "orig_nbformat": 4,
  "vscode": {
   "interpreter": {
    "hash": "308d8f8c5f56baa072876887063e484fb088d633444accbe0bc991378c9ebf3b"
   }
  }
 },
 "nbformat": 4,
 "nbformat_minor": 2
}
