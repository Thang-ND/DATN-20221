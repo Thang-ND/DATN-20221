{
 "cells": [
  {
   "cell_type": "code",
   "execution_count": 1,
   "metadata": {},
   "outputs": [
    {
     "name": "stdout",
     "output_type": "stream",
     "text": [
      "setup done!\n"
     ]
    }
   ],
   "source": [
    "import pandas as pd\n",
    "import os\n",
    "import glob\n",
    "import numpy as np\n",
    "import strsimpy\n",
    "print('setup done!')"
   ]
  },
  {
   "cell_type": "code",
   "execution_count": 2,
   "metadata": {},
   "outputs": [],
   "source": [
    "path = os.getcwd()\n",
    "path = os.path.join(path, 'data/*.csv')\n",
    "csv_files = glob.glob(path)"
   ]
  },
  {
   "cell_type": "code",
   "execution_count": 3,
   "metadata": {},
   "outputs": [],
   "source": [
    "df = pd.read_csv(csv_files[0])\n",
    "for i, file in enumerate(csv_files):\n",
    "    if i == 0:\n",
    "        continue\n",
    "    tmp = pd.read_csv(file)\n",
    "    df = pd.concat([df, tmp], axis=0)\n"
   ]
  },
  {
   "cell_type": "code",
   "execution_count": 4,
   "metadata": {},
   "outputs": [
    {
     "data": {
      "text/plain": [
       "2576"
      ]
     },
     "execution_count": 4,
     "metadata": {},
     "output_type": "execute_result"
    }
   ],
   "source": [
    "len(df)"
   ]
  },
  {
   "cell_type": "code",
   "execution_count": 4,
   "metadata": {},
   "outputs": [],
   "source": [
    "df = df.reset_index(drop=True)"
   ]
  },
  {
   "cell_type": "code",
   "execution_count": 5,
   "metadata": {},
   "outputs": [],
   "source": [
    "arr = df.values.tolist()"
   ]
  },
  {
   "cell_type": "code",
   "execution_count": 6,
   "metadata": {},
   "outputs": [
    {
     "data": {
      "text/plain": [
       "[0,\n",
       " 'IPHONE 14 PRO MAX',\n",
       " 'https://www.xtmobile.vn/iphone-14-pro-max-chinh-hang',\n",
       " 6,\n",
       " 128,\n",
       " 31790000,\n",
       " '2022-11-27 15:48:10.402643',\n",
       " 'Yellow',\n",
       " 1,\n",
       " 'https://www.xtmobile.vn/vnt_upload/product/10_2022/thumbs/600_iphone14promax_3.jpg']"
      ]
     },
     "execution_count": 6,
     "metadata": {},
     "output_type": "execute_result"
    }
   ],
   "source": [
    "arr[0]"
   ]
  },
  {
   "cell_type": "code",
   "execution_count": 7,
   "metadata": {},
   "outputs": [],
   "source": [
    "levenshtein  = strsimpy.NormalizedLevenshtein()\n",
    "\n",
    "def levenshtein_score(x,y):\n",
    "    if (x=='unknown' or y =='unknown'):\n",
    "        return 1\n",
    "    return 1 - levenshtein.distance(x,y)\n",
    "\n",
    "def difference_score(x,y):\n",
    "    if (x=='unknown' or y =='unknown'):\n",
    "        return 1\n",
    "    return 1 if x==y else 0"
   ]
  },
  {
   "cell_type": "code",
   "execution_count": 8,
   "metadata": {},
   "outputs": [],
   "source": [
    "def clust_filter(arr):\n",
    "    flag = [False]*len(arr)\n",
    "    cluster  = []\n",
    "    for i in range(0,len(arr)-1):\n",
    "        if (flag[i]==False):\n",
    "            list_id = []\n",
    "            for j in range(i + 1, len(arr)):\n",
    "                if (flag[j]==False):\n",
    "                    name = levenshtein_score(arr[i][1],arr[j][1])\n",
    "                    # cpu = difference_score(arr[i][2],arr[j][2])\n",
    "                    ram = difference_score(arr[i][2],arr[j][2])\n",
    "                    rom = difference_score(arr[i][3],arr[j][3])\n",
    "                    color = difference_score(arr[i][6],arr[j][6])\n",
    "                    score = 0.55 * name + 0.2 * ram + 0.2 * rom + 0.05 * color\n",
    "                    if (score > 0.95):\n",
    "                        flag[j] = True\n",
    "                        list_id.append(j)\n",
    "            arr[i].append(list_id)\n",
    "            cluster.append(arr[i])\n",
    "    return cluster"
   ]
  },
  {
   "cell_type": "code",
   "execution_count": 9,
   "metadata": {},
   "outputs": [],
   "source": [
    "cluster = clust_filter(arr)"
   ]
  },
  {
   "cell_type": "code",
   "execution_count": 10,
   "metadata": {},
   "outputs": [],
   "source": [
    "newDf = pd.DataFrame(cluster, columns=['id', 'name', 'url', 'ram', 'rom', 'price', 'createdDate', 'color', 'status', 'url_img', 'list_id'])"
   ]
  },
  {
   "cell_type": "code",
   "execution_count": 11,
   "metadata": {},
   "outputs": [
    {
     "data": {
      "text/html": [
       "<div>\n",
       "<style scoped>\n",
       "    .dataframe tbody tr th:only-of-type {\n",
       "        vertical-align: middle;\n",
       "    }\n",
       "\n",
       "    .dataframe tbody tr th {\n",
       "        vertical-align: top;\n",
       "    }\n",
       "\n",
       "    .dataframe thead th {\n",
       "        text-align: right;\n",
       "    }\n",
       "</style>\n",
       "<table border=\"1\" class=\"dataframe\">\n",
       "  <thead>\n",
       "    <tr style=\"text-align: right;\">\n",
       "      <th></th>\n",
       "      <th>id</th>\n",
       "      <th>name</th>\n",
       "      <th>url</th>\n",
       "      <th>ram</th>\n",
       "      <th>rom</th>\n",
       "      <th>price</th>\n",
       "      <th>createdDate</th>\n",
       "      <th>color</th>\n",
       "      <th>status</th>\n",
       "      <th>url_img</th>\n",
       "      <th>list_id</th>\n",
       "    </tr>\n",
       "  </thead>\n",
       "  <tbody>\n",
       "    <tr>\n",
       "      <th>0</th>\n",
       "      <td>0</td>\n",
       "      <td>IPHONE 14 PRO MAX</td>\n",
       "      <td>https://www.xtmobile.vn/iphone-14-pro-max-chin...</td>\n",
       "      <td>6</td>\n",
       "      <td>128</td>\n",
       "      <td>31790000</td>\n",
       "      <td>2022-11-27 15:48:10.402643</td>\n",
       "      <td>Yellow</td>\n",
       "      <td>1</td>\n",
       "      <td>https://www.xtmobile.vn/vnt_upload/product/10_...</td>\n",
       "      <td>[1, 2, 3]</td>\n",
       "    </tr>\n",
       "    <tr>\n",
       "      <th>1</th>\n",
       "      <td>4</td>\n",
       "      <td>IPHONE 14 PRO MAX</td>\n",
       "      <td>https://www.xtmobile.vn/iphone-14-pro-max-256gb</td>\n",
       "      <td>6</td>\n",
       "      <td>256</td>\n",
       "      <td>36290000</td>\n",
       "      <td>2022-11-27 15:48:10.402643</td>\n",
       "      <td>Yellow</td>\n",
       "      <td>1</td>\n",
       "      <td>https://www.xtmobile.vn/vnt_upload/product/10_...</td>\n",
       "      <td>[5, 6, 7, 211, 212, 213, 214, 584, 585, 586, 587]</td>\n",
       "    </tr>\n",
       "    <tr>\n",
       "      <th>2</th>\n",
       "      <td>8</td>\n",
       "      <td>IPHONE 14 PRO MAX</td>\n",
       "      <td>https://www.xtmobile.vn/iphone-14-pro-max-512gb</td>\n",
       "      <td>6</td>\n",
       "      <td>512</td>\n",
       "      <td>43990000</td>\n",
       "      <td>2022-11-27 15:48:10.402643</td>\n",
       "      <td>Silver</td>\n",
       "      <td>1</td>\n",
       "      <td>https://www.xtmobile.vn/vnt_upload/product/10_...</td>\n",
       "      <td>[9, 10, 11, 219, 220, 221, 222, 580, 581, 582,...</td>\n",
       "    </tr>\n",
       "    <tr>\n",
       "      <th>3</th>\n",
       "      <td>12</td>\n",
       "      <td>IPHONE 14 PRO MAX</td>\n",
       "      <td>https://www.xtmobile.vn/iphone-14-pro-max-1tb</td>\n",
       "      <td>6</td>\n",
       "      <td>1024</td>\n",
       "      <td>45790000</td>\n",
       "      <td>2022-11-27 15:48:10.402643</td>\n",
       "      <td>Black</td>\n",
       "      <td>1</td>\n",
       "      <td>https://www.xtmobile.vn/vnt_upload/product/10_...</td>\n",
       "      <td>[13, 14, 15, 223, 224, 225, 226, 592, 593, 594...</td>\n",
       "    </tr>\n",
       "    <tr>\n",
       "      <th>4</th>\n",
       "      <td>16</td>\n",
       "      <td>IPHONE 13</td>\n",
       "      <td>https://www.xtmobile.vn/iphone-13-128gb</td>\n",
       "      <td>4</td>\n",
       "      <td>128</td>\n",
       "      <td>18690000</td>\n",
       "      <td>2022-11-27 15:48:10.402643</td>\n",
       "      <td>Black</td>\n",
       "      <td>1</td>\n",
       "      <td>https://www.xtmobile.vn/vnt_upload/product/04_...</td>\n",
       "      <td>[17, 18, 19, 20, 21]</td>\n",
       "    </tr>\n",
       "  </tbody>\n",
       "</table>\n",
       "</div>"
      ],
      "text/plain": [
       "   id               name                                                url  \\\n",
       "0   0  IPHONE 14 PRO MAX  https://www.xtmobile.vn/iphone-14-pro-max-chin...   \n",
       "1   4  IPHONE 14 PRO MAX    https://www.xtmobile.vn/iphone-14-pro-max-256gb   \n",
       "2   8  IPHONE 14 PRO MAX    https://www.xtmobile.vn/iphone-14-pro-max-512gb   \n",
       "3  12  IPHONE 14 PRO MAX      https://www.xtmobile.vn/iphone-14-pro-max-1tb   \n",
       "4  16          IPHONE 13            https://www.xtmobile.vn/iphone-13-128gb   \n",
       "\n",
       "  ram   rom     price                 createdDate   color  status  \\\n",
       "0   6   128  31790000  2022-11-27 15:48:10.402643  Yellow       1   \n",
       "1   6   256  36290000  2022-11-27 15:48:10.402643  Yellow       1   \n",
       "2   6   512  43990000  2022-11-27 15:48:10.402643  Silver       1   \n",
       "3   6  1024  45790000  2022-11-27 15:48:10.402643   Black       1   \n",
       "4   4   128  18690000  2022-11-27 15:48:10.402643   Black       1   \n",
       "\n",
       "                                             url_img  \\\n",
       "0  https://www.xtmobile.vn/vnt_upload/product/10_...   \n",
       "1  https://www.xtmobile.vn/vnt_upload/product/10_...   \n",
       "2  https://www.xtmobile.vn/vnt_upload/product/10_...   \n",
       "3  https://www.xtmobile.vn/vnt_upload/product/10_...   \n",
       "4  https://www.xtmobile.vn/vnt_upload/product/04_...   \n",
       "\n",
       "                                             list_id  \n",
       "0                                          [1, 2, 3]  \n",
       "1  [5, 6, 7, 211, 212, 213, 214, 584, 585, 586, 587]  \n",
       "2  [9, 10, 11, 219, 220, 221, 222, 580, 581, 582,...  \n",
       "3  [13, 14, 15, 223, 224, 225, 226, 592, 593, 594...  \n",
       "4                               [17, 18, 19, 20, 21]  "
      ]
     },
     "execution_count": 11,
     "metadata": {},
     "output_type": "execute_result"
    }
   ],
   "source": [
    "newDf.head()"
   ]
  },
  {
   "cell_type": "code",
   "execution_count": 12,
   "metadata": {},
   "outputs": [],
   "source": [
    "newDf.to_json('./result.json')"
   ]
  },
  {
   "cell_type": "code",
   "execution_count": null,
   "metadata": {},
   "outputs": [],
   "source": []
  }
 ],
 "metadata": {
  "kernelspec": {
   "display_name": "Python 3.10.4 ('crawler')",
   "language": "python",
   "name": "python3"
  },
  "language_info": {
   "codemirror_mode": {
    "name": "ipython",
    "version": 3
   },
   "file_extension": ".py",
   "mimetype": "text/x-python",
   "name": "python",
   "nbconvert_exporter": "python",
   "pygments_lexer": "ipython3",
   "version": "3.10.4"
  },
  "orig_nbformat": 4,
  "vscode": {
   "interpreter": {
    "hash": "308d8f8c5f56baa072876887063e484fb088d633444accbe0bc991378c9ebf3b"
   }
  }
 },
 "nbformat": 4,
 "nbformat_minor": 2
}
